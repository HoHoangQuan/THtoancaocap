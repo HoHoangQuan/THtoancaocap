{
  "nbformat": 4,
  "nbformat_minor": 0,
  "metadata": {
    "colab": {
      "name": "Baitap1.ipynb",
      "provenance": [],
      "authorship_tag": "ABX9TyOicj2mkJHOKzQY8z1qJRs8",
      "include_colab_link": true
    },
    "kernelspec": {
      "name": "python3",
      "display_name": "Python 3"
    },
    "language_info": {
      "name": "python"
    }
  },
  "cells": [
    {
      "cell_type": "markdown",
      "metadata": {
        "id": "view-in-github",
        "colab_type": "text"
      },
      "source": [
        "<a href=\"https://colab.research.google.com/github/HoHoangQuan/THtoancaocap/blob/main/Baitap1.ipynb\" target=\"_parent\"><img src=\"https://colab.research.google.com/assets/colab-badge.svg\" alt=\"Open In Colab\"/></a>"
      ]
    },
    {
      "cell_type": "code",
      "execution_count": null,
      "metadata": {
        "colab": {
          "base_uri": "https://localhost:8080/"
        },
        "id": "Cu1XlrB2pyuI",
        "outputId": "04347e53-c0bb-4850-ac8f-4344c000a5cd"
      },
      "outputs": [
        {
          "output_type": "stream",
          "name": "stdout",
          "text": [
            "hello\n"
          ]
        }
      ],
      "source": [
        "print(\"hello\")"
      ]
    },
    {
      "cell_type": "markdown",
      "source": [
        "Bài 1 "
      ],
      "metadata": {
        "id": "gMUdgXa5DxGY"
      }
    },
    {
      "cell_type": "code",
      "source": [
        "blocks = 1000\n",
        "dayS = [1/2**n for n in range(0,blocks)]\n",
        "tongS = sum(dayS)\n",
        "print (tongS)"
      ],
      "metadata": {
        "id": "XXsyxFfT0vKv",
        "outputId": "80549988-9236-4d7b-d3c0-8ba84dfdde5f",
        "colab": {
          "base_uri": "https://localhost:8080/"
        }
      },
      "execution_count": 9,
      "outputs": [
        {
          "output_type": "stream",
          "name": "stdout",
          "text": [
            "2.0\n"
          ]
        }
      ]
    },
    {
      "cell_type": "markdown",
      "source": [
        "Bài 2 "
      ],
      "metadata": {
        "id": "tuf7SHoPD0Hx"
      }
    },
    {
      "cell_type": "code",
      "source": [
        "n = 1000 \n",
        "X = [2*k/n for k in range(0,n+1)]\n",
        "S = 0 \n",
        "for k in range(1,n+1):\n",
        " S = S + X[k]**2*(X[k] - X[k-1])\n",
        " #print(S)"
      ],
      "metadata": {
        "id": "CSqQotZi1vAl"
      },
      "execution_count": 14,
      "outputs": []
    },
    {
      "cell_type": "markdown",
      "source": [
        "Bài 3 \n"
      ],
      "metadata": {
        "id": "N83P4SkWD7iG"
      }
    },
    {
      "cell_type": "code",
      "source": [
        "from sympy import *\n",
        "Rational(1,2) + Rational(1,3)\n"
      ],
      "metadata": {
        "id": "5Li0pYyQBEOI",
        "outputId": "f445f82a-c773-4e39-c72e-73e2495ad20b",
        "colab": {
          "base_uri": "https://localhost:8080/",
          "height": 51
        }
      },
      "execution_count": 18,
      "outputs": [
        {
          "output_type": "execute_result",
          "data": {
            "text/latex": "$\\displaystyle \\frac{5}{6}$",
            "text/plain": [
              "5/6"
            ]
          },
          "metadata": {},
          "execution_count": 18
        }
      ]
    },
    {
      "cell_type": "code",
      "source": [
        "Rational(1,2)+1"
      ],
      "metadata": {
        "id": "6_M9uQJbBtGj",
        "outputId": "3150d67f-e255-4337-a4c5-8cd162e1965d",
        "colab": {
          "base_uri": "https://localhost:8080/",
          "height": 51
        }
      },
      "execution_count": 20,
      "outputs": [
        {
          "output_type": "execute_result",
          "data": {
            "text/latex": "$\\displaystyle \\frac{3}{2}$",
            "text/plain": [
              "3/2"
            ]
          },
          "metadata": {},
          "execution_count": 20
        }
      ]
    },
    {
      "cell_type": "code",
      "source": [
        "Rational(1,3)+1+1.5"
      ],
      "metadata": {
        "id": "w1sHEs78B6Ab",
        "outputId": "8457478a-eb30-4202-a37d-0b027c311109",
        "colab": {
          "base_uri": "https://localhost:8080/",
          "height": 38
        }
      },
      "execution_count": 21,
      "outputs": [
        {
          "output_type": "execute_result",
          "data": {
            "text/latex": "$\\displaystyle 2.83333333333333$",
            "text/plain": [
              "2.83333333333333"
            ]
          },
          "metadata": {},
          "execution_count": 21
        }
      ]
    },
    {
      "cell_type": "markdown",
      "source": [
        "Bài 4 "
      ],
      "metadata": {
        "id": "MD_kGbPeD_34"
      }
    },
    {
      "cell_type": "code",
      "source": [
        "x = Symbol ('x')\n",
        "y = Symbol ('y')"
      ],
      "metadata": {
        "id": "4nFHNt8TB_vN"
      },
      "execution_count": 22,
      "outputs": []
    },
    {
      "cell_type": "code",
      "source": [
        "x+y+x-y"
      ],
      "metadata": {
        "id": "asr8DvGwCte6",
        "outputId": "8e633de5-2656-4a4c-be8c-36f617d2ca4f",
        "colab": {
          "base_uri": "https://localhost:8080/",
          "height": 39
        }
      },
      "execution_count": 24,
      "outputs": [
        {
          "output_type": "execute_result",
          "data": {
            "text/latex": "$\\displaystyle 2 x$",
            "text/plain": [
              "2*x"
            ]
          },
          "metadata": {},
          "execution_count": 24
        }
      ]
    },
    {
      "cell_type": "code",
      "source": [
        "(x+y)**2"
      ],
      "metadata": {
        "id": "IS2ZMElMC4ea",
        "outputId": "3b656bdf-678f-46bc-e969-6176f6498ee4",
        "colab": {
          "base_uri": "https://localhost:8080/",
          "height": 40
        }
      },
      "execution_count": 25,
      "outputs": [
        {
          "output_type": "execute_result",
          "data": {
            "text/latex": "$\\displaystyle \\left(x + y\\right)^{2}$",
            "text/plain": [
              "(x + y)**2"
            ]
          },
          "metadata": {},
          "execution_count": 25
        }
      ]
    },
    {
      "cell_type": "markdown",
      "source": [
        "Bài 5a"
      ],
      "metadata": {
        "id": "j6XNVY8UDSnw"
      }
    },
    {
      "cell_type": "code",
      "source": [
        "from sympy.solvers.solvers import denoms \n",
        "eq = (1/x)*1/(x-3)\n",
        "dd = denoms(eq)\n",
        "print(dd)"
      ],
      "metadata": {
        "id": "C9XJPMzEDA3M",
        "outputId": "2703ce54-ea58-4147-9605-bef60edc420d",
        "colab": {
          "base_uri": "https://localhost:8080/"
        }
      },
      "execution_count": 26,
      "outputs": [
        {
          "output_type": "stream",
          "name": "stdout",
          "text": [
            "{x - 3, x}\n"
          ]
        }
      ]
    },
    {
      "cell_type": "markdown",
      "source": [
        "Bài 5b"
      ],
      "metadata": {
        "id": "7n5g7yZeEOQ9"
      }
    },
    {
      "cell_type": "code",
      "source": [
        "eq = (1+1/x)/(x-1)\n",
        "from sympy.solvers.solvers import denoms \n",
        "loai_tru = set()\n",
        "for d in denoms(eq):\n",
        "  for s in solve(d):\n",
        "    loai_tru.add(s)\n",
        "print(loai_tru)    "
      ],
      "metadata": {
        "id": "uf0laxXtEN23",
        "outputId": "c9defa65-813b-4ab6-830d-1c6bba65ea58",
        "colab": {
          "base_uri": "https://localhost:8080/"
        }
      },
      "execution_count": 28,
      "outputs": [
        {
          "output_type": "stream",
          "name": "stdout",
          "text": [
            "{0, 1}\n"
          ]
        }
      ]
    },
    {
      "cell_type": "markdown",
      "source": [
        "Bài 6 "
      ],
      "metadata": {
        "id": "cwGwxzpLE-T-"
      }
    },
    {
      "cell_type": "code",
      "source": [
        "from sympy import Limit ,Symbol\n",
        "x = Symbol ('x')\n",
        "Limit(1/x,x,0,dir='-').doit()"
      ],
      "metadata": {
        "id": "hYgs9YCrxYjM",
        "outputId": "9f614603-9bc6-403c-ae00-0d2e7bd09e60",
        "colab": {
          "base_uri": "https://localhost:8080/",
          "height": 38
        }
      },
      "execution_count": null,
      "outputs": [
        {
          "output_type": "execute_result",
          "data": {
            "text/latex": "$\\displaystyle -\\infty$",
            "text/plain": [
              "-oo"
            ]
          },
          "metadata": {},
          "execution_count": 6
        }
      ]
    },
    {
      "cell_type": "code",
      "source": [
        "from sympy import Limit ,Symbol\n",
        "x = Symbol ('x')\n",
        "Limit(1/x,x,0,dir='+').doit()"
      ],
      "metadata": {
        "id": "AC5miVNhzpOo",
        "outputId": "05ff5db3-b7cc-4bca-fec6-133d27a7c985",
        "colab": {
          "base_uri": "https://localhost:8080/",
          "height": 38
        }
      },
      "execution_count": 7,
      "outputs": [
        {
          "output_type": "execute_result",
          "data": {
            "text/latex": "$\\displaystyle \\infty$",
            "text/plain": [
              "oo"
            ]
          },
          "metadata": {},
          "execution_count": 7
        }
      ]
    },
    {
      "cell_type": "code",
      "source": [
        "from sympy import Symbol,sin \n",
        "Limit(sin(x)/x,x,0).doit()"
      ],
      "metadata": {
        "id": "b51Q5pKH1vIe",
        "outputId": "a2bf2940-c123-4f33-dbb4-8683601b12e5",
        "colab": {
          "base_uri": "https://localhost:8080/",
          "height": 38
        }
      },
      "execution_count": 12,
      "outputs": [
        {
          "output_type": "execute_result",
          "data": {
            "text/latex": "$\\displaystyle 1$",
            "text/plain": [
              "1"
            ]
          },
          "metadata": {},
          "execution_count": 12
        }
      ]
    },
    {
      "cell_type": "code",
      "source": [
        ""
      ],
      "metadata": {
        "id": "HCynz4qT3OYG"
      },
      "execution_count": null,
      "outputs": []
    },
    {
      "cell_type": "code",
      "source": [
        ""
      ],
      "metadata": {
        "id": "s83BjPu41vPk"
      },
      "execution_count": null,
      "outputs": []
    },
    {
      "cell_type": "code",
      "source": [
        ""
      ],
      "metadata": {
        "id": "NdrrsSWL1vSm"
      },
      "execution_count": null,
      "outputs": []
    },
    {
      "cell_type": "code",
      "source": [
        ""
      ],
      "metadata": {
        "id": "nS2Wn1K81vVS"
      },
      "execution_count": null,
      "outputs": []
    },
    {
      "cell_type": "code",
      "source": [
        ""
      ],
      "metadata": {
        "id": "PbIAz6zt1vXf"
      },
      "execution_count": null,
      "outputs": []
    }
  ]
}