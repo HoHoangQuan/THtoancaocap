{
  "nbformat": 4,
  "nbformat_minor": 0,
  "metadata": {
    "colab": {
      "name": "Baitap1.ipynb",
      "provenance": [],
      "authorship_tag": "ABX9TyO7dEyshb1490sFD+9oLxZr",
      "include_colab_link": true
    },
    "kernelspec": {
      "name": "python3",
      "display_name": "Python 3"
    },
    "language_info": {
      "name": "python"
    }
  },
  "cells": [
    {
      "cell_type": "markdown",
      "metadata": {
        "id": "view-in-github",
        "colab_type": "text"
      },
      "source": [
        "<a href=\"https://colab.research.google.com/github/HoHoangQuan/THtoancaocap/blob/main/Baitap1.ipynb\" target=\"_parent\"><img src=\"https://colab.research.google.com/assets/colab-badge.svg\" alt=\"Open In Colab\"/></a>"
      ]
    },
    {
      "cell_type": "code",
      "execution_count": null,
      "metadata": {
        "colab": {
          "base_uri": "https://localhost:8080/"
        },
        "id": "Cu1XlrB2pyuI",
        "outputId": "04347e53-c0bb-4850-ac8f-4344c000a5cd"
      },
      "outputs": [
        {
          "output_type": "stream",
          "name": "stdout",
          "text": [
            "hello\n"
          ]
        }
      ],
      "source": [
        "print(\"hello\")"
      ]
    },
    {
      "cell_type": "markdown",
      "source": [
        "Bài 1 "
      ],
      "metadata": {
        "id": "gMUdgXa5DxGY"
      }
    },
    {
      "cell_type": "code",
      "source": [
        "blocks = 1000\n",
        "dayS = [1/2**n for n in range(0,blocks)]\n",
        "tongS = sum(dayS)\n",
        "print (tongS)"
      ],
      "metadata": {
        "id": "XXsyxFfT0vKv",
        "outputId": "80549988-9236-4d7b-d3c0-8ba84dfdde5f",
        "colab": {
          "base_uri": "https://localhost:8080/"
        }
      },
      "execution_count": null,
      "outputs": [
        {
          "output_type": "stream",
          "name": "stdout",
          "text": [
            "2.0\n"
          ]
        }
      ]
    },
    {
      "cell_type": "markdown",
      "source": [
        "Bài 2 "
      ],
      "metadata": {
        "id": "tuf7SHoPD0Hx"
      }
    },
    {
      "cell_type": "code",
      "source": [
        "n = 1000 \n",
        "X = [2*k/n for k in range(0,n+1)]\n",
        "S = 0 \n",
        "for k in range(1,n+1):\n",
        " S = S + X[k]**2*(X[k] - X[k-1])\n",
        " #print(S)"
      ],
      "metadata": {
        "id": "CSqQotZi1vAl"
      },
      "execution_count": null,
      "outputs": []
    },
    {
      "cell_type": "markdown",
      "source": [
        "Bài 3 \n"
      ],
      "metadata": {
        "id": "N83P4SkWD7iG"
      }
    },
    {
      "cell_type": "code",
      "source": [
        "from sympy import *\n",
        "Rational(1,2) + Rational(1,3)\n"
      ],
      "metadata": {
        "id": "5Li0pYyQBEOI",
        "outputId": "f445f82a-c773-4e39-c72e-73e2495ad20b",
        "colab": {
          "base_uri": "https://localhost:8080/",
          "height": 51
        }
      },
      "execution_count": null,
      "outputs": [
        {
          "output_type": "execute_result",
          "data": {
            "text/latex": "$\\displaystyle \\frac{5}{6}$",
            "text/plain": [
              "5/6"
            ]
          },
          "metadata": {},
          "execution_count": 18
        }
      ]
    },
    {
      "cell_type": "code",
      "source": [
        "Rational(1,2)+1"
      ],
      "metadata": {
        "id": "6_M9uQJbBtGj",
        "outputId": "3150d67f-e255-4337-a4c5-8cd162e1965d",
        "colab": {
          "base_uri": "https://localhost:8080/",
          "height": 51
        }
      },
      "execution_count": null,
      "outputs": [
        {
          "output_type": "execute_result",
          "data": {
            "text/latex": "$\\displaystyle \\frac{3}{2}$",
            "text/plain": [
              "3/2"
            ]
          },
          "metadata": {},
          "execution_count": 20
        }
      ]
    },
    {
      "cell_type": "code",
      "source": [
        "Rational(1,3)+1+1.5"
      ],
      "metadata": {
        "id": "w1sHEs78B6Ab",
        "outputId": "8457478a-eb30-4202-a37d-0b027c311109",
        "colab": {
          "base_uri": "https://localhost:8080/",
          "height": 38
        }
      },
      "execution_count": null,
      "outputs": [
        {
          "output_type": "execute_result",
          "data": {
            "text/latex": "$\\displaystyle 2.83333333333333$",
            "text/plain": [
              "2.83333333333333"
            ]
          },
          "metadata": {},
          "execution_count": 21
        }
      ]
    },
    {
      "cell_type": "markdown",
      "source": [
        "Bài 4 "
      ],
      "metadata": {
        "id": "MD_kGbPeD_34"
      }
    },
    {
      "cell_type": "code",
      "source": [
        "x = Symbol ('x')\n",
        "y = Symbol ('y')"
      ],
      "metadata": {
        "id": "4nFHNt8TB_vN"
      },
      "execution_count": null,
      "outputs": []
    },
    {
      "cell_type": "code",
      "source": [
        "x+y+x-y"
      ],
      "metadata": {
        "id": "asr8DvGwCte6",
        "outputId": "8e633de5-2656-4a4c-be8c-36f617d2ca4f",
        "colab": {
          "base_uri": "https://localhost:8080/",
          "height": 39
        }
      },
      "execution_count": null,
      "outputs": [
        {
          "output_type": "execute_result",
          "data": {
            "text/latex": "$\\displaystyle 2 x$",
            "text/plain": [
              "2*x"
            ]
          },
          "metadata": {},
          "execution_count": 24
        }
      ]
    },
    {
      "cell_type": "code",
      "source": [
        "(x+y)**2"
      ],
      "metadata": {
        "id": "IS2ZMElMC4ea",
        "outputId": "3b656bdf-678f-46bc-e969-6176f6498ee4",
        "colab": {
          "base_uri": "https://localhost:8080/",
          "height": 40
        }
      },
      "execution_count": null,
      "outputs": [
        {
          "output_type": "execute_result",
          "data": {
            "text/latex": "$\\displaystyle \\left(x + y\\right)^{2}$",
            "text/plain": [
              "(x + y)**2"
            ]
          },
          "metadata": {},
          "execution_count": 25
        }
      ]
    },
    {
      "cell_type": "markdown",
      "source": [
        "Bài 5a"
      ],
      "metadata": {
        "id": "j6XNVY8UDSnw"
      }
    },
    {
      "cell_type": "code",
      "source": [
        "from sympy.solvers.solvers import denoms \n",
        "eq = (1/x)*1/(x-3)\n",
        "dd = denoms(eq)\n",
        "print(dd)"
      ],
      "metadata": {
        "id": "C9XJPMzEDA3M",
        "outputId": "2703ce54-ea58-4147-9605-bef60edc420d",
        "colab": {
          "base_uri": "https://localhost:8080/"
        }
      },
      "execution_count": null,
      "outputs": [
        {
          "output_type": "stream",
          "name": "stdout",
          "text": [
            "{x - 3, x}\n"
          ]
        }
      ]
    },
    {
      "cell_type": "markdown",
      "source": [
        "Bài 5b"
      ],
      "metadata": {
        "id": "7n5g7yZeEOQ9"
      }
    },
    {
      "cell_type": "code",
      "source": [
        "eq = (1+1/x)/(x-1)\n",
        "from sympy.solvers.solvers import denoms \n",
        "loai_tru = set()\n",
        "for d in denoms(eq):\n",
        "  for s in solve(d):\n",
        "    loai_tru.add(s)\n",
        "print(loai_tru)    "
      ],
      "metadata": {
        "id": "uf0laxXtEN23",
        "outputId": "c9defa65-813b-4ab6-830d-1c6bba65ea58",
        "colab": {
          "base_uri": "https://localhost:8080/"
        }
      },
      "execution_count": null,
      "outputs": [
        {
          "output_type": "stream",
          "name": "stdout",
          "text": [
            "{0, 1}\n"
          ]
        }
      ]
    },
    {
      "cell_type": "markdown",
      "source": [
        "Bài 6 "
      ],
      "metadata": {
        "id": "cwGwxzpLE-T-"
      }
    },
    {
      "cell_type": "code",
      "source": [
        "from sympy import Symbol \n",
        "x = Symbol('x',positive = True)\n",
        "if (x+3)>0:\n",
        "  print('Chac chan x+3 duong!')\n",
        "else:\n",
        "  print('x+3 chua chac la so duong!')\n"
      ],
      "metadata": {
        "id": "-VxVp5SkVpH5",
        "outputId": "b9b6c7e1-5f72-4b91-e46f-34857010985f",
        "colab": {
          "base_uri": "https://localhost:8080/"
        }
      },
      "execution_count": null,
      "outputs": [
        {
          "output_type": "stream",
          "name": "stdout",
          "text": [
            "Chac chan x+3 duong!\n"
          ]
        }
      ]
    },
    {
      "cell_type": "markdown",
      "source": [
        "Bài 7 "
      ],
      "metadata": {
        "id": "-8LuxbNrb-Am"
      }
    },
    {
      "cell_type": "code",
      "source": [
        "import math \n",
        "math.sin(math.pi/2)"
      ],
      "metadata": {
        "id": "BDWxU6RqVo80",
        "outputId": "242cef7b-3c3f-44a0-d261-fc49fbaaf4e4",
        "colab": {
          "base_uri": "https://localhost:8080/"
        }
      },
      "execution_count": null,
      "outputs": [
        {
          "output_type": "execute_result",
          "data": {
            "text/plain": [
              "1.0"
            ]
          },
          "metadata": {},
          "execution_count": 8
        }
      ]
    },
    {
      "cell_type": "code",
      "source": [
        "import sympy \n",
        "sympy.sin(math.pi/2)"
      ],
      "metadata": {
        "id": "KjKc-nCrVo5b",
        "outputId": "8caf9739-a382-4bd9-8044-d02178a895eb",
        "colab": {
          "base_uri": "https://localhost:8080/",
          "height": 38
        }
      },
      "execution_count": null,
      "outputs": [
        {
          "output_type": "execute_result",
          "data": {
            "text/latex": "$\\displaystyle 1.0$",
            "text/plain": [
              "1.00000000000000"
            ]
          },
          "metadata": {},
          "execution_count": 9
        }
      ]
    },
    {
      "cell_type": "markdown",
      "source": [
        "cách 2 "
      ],
      "metadata": {
        "id": "VSrxrcMocTVL"
      }
    },
    {
      "cell_type": "code",
      "source": [
        " import sympy \n",
        " sympy.sin(goc_theta) + sympy.sin(goc_theta)\n",
        " \n",
        " "
      ],
      "metadata": {
        "id": "yYRpps-YVo1x",
        "outputId": "745463d5-09b1-42e3-9558-2ab39df5f607",
        "colab": {
          "base_uri": "https://localhost:8080/",
          "height": 39
        }
      },
      "execution_count": null,
      "outputs": [
        {
          "output_type": "execute_result",
          "data": {
            "text/latex": "$\\displaystyle 2 \\sin{\\left(\\theta \\right)}$",
            "text/plain": [
              "2*sin(theta)"
            ]
          },
          "metadata": {},
          "execution_count": 21
        }
      ]
    },
    {
      "cell_type": "code",
      "source": [
        "2*sympy.sin(goc_theta) == sympy.sin(goc_theta)+sympy.sin(goc_theta)"
      ],
      "metadata": {
        "id": "sJg7xuI1Vox3",
        "outputId": "73d6fbed-44f5-4641-893b-58c411df1e4b",
        "colab": {
          "base_uri": "https://localhost:8080/"
        }
      },
      "execution_count": null,
      "outputs": [
        {
          "output_type": "execute_result",
          "data": {
            "text/plain": [
              "True"
            ]
          },
          "metadata": {},
          "execution_count": 26
        }
      ]
    },
    {
      "cell_type": "code",
      "source": [
        "(2*sympy.sin(goc_theta)*sympy.cos(goc_theta)).equals(sympy.sin(2*goc_theta))"
      ],
      "metadata": {
        "id": "eRau_mwmgRrV",
        "outputId": "4122457f-0b70-4153-9bcb-cd374bab78aa",
        "colab": {
          "base_uri": "https://localhost:8080/"
        }
      },
      "execution_count": null,
      "outputs": [
        {
          "output_type": "execute_result",
          "data": {
            "text/plain": [
              "True"
            ]
          },
          "metadata": {},
          "execution_count": 28
        }
      ]
    },
    {
      "cell_type": "markdown",
      "source": [
        "Bài 8 "
      ],
      "metadata": {
        "id": "10rh8xY6gw2x"
      }
    },
    {
      "cell_type": "code",
      "source": [
        "from sympy import sin, solve, Symbol \n",
        "u = Symbol(\"u\")\n",
        "t = Symbol('t')\n",
        "g = Symbol ('g')\n",
        "theta = Symbol ('theta')\n",
        "solve(u*sin(theta)-g*t,t)"
      ],
      "metadata": {
        "id": "ykitvjEsgSLN",
        "outputId": "565d938e-7884-4a58-99e0-156e9fc150d9",
        "colab": {
          "base_uri": "https://localhost:8080/"
        }
      },
      "execution_count": null,
      "outputs": [
        {
          "output_type": "execute_result",
          "data": {
            "text/plain": [
              "[u*sin(theta)/g]"
            ]
          },
          "metadata": {},
          "execution_count": 46
        }
      ]
    },
    {
      "cell_type": "markdown",
      "source": [
        "Bài 9"
      ],
      "metadata": {
        "id": "UOtqzMcij9Vd"
      }
    },
    {
      "cell_type": "code",
      "source": [
        "from sympy import Limit,Symbol,S\n",
        "x = Symbol('x')\n",
        "Limit(1/x,x,S.Infinity)\n"
      ],
      "metadata": {
        "id": "gmFn_HiEgSIg",
        "outputId": "a4cbf8d4-e185-4513-8127-f7a8c68288d9",
        "colab": {
          "base_uri": "https://localhost:8080/",
          "height": 51
        }
      },
      "execution_count": null,
      "outputs": [
        {
          "output_type": "execute_result",
          "data": {
            "text/latex": "$\\displaystyle \\lim_{x \\to \\infty} \\frac{1}{x}$",
            "text/plain": [
              "Limit(1/x, x, oo, dir='-')"
            ]
          },
          "metadata": {},
          "execution_count": 47
        }
      ]
    },
    {
      "cell_type": "code",
      "source": [
        "gioihan = Limit(1/x,x,S.Infinity)\n",
        "gioihan.doit()"
      ],
      "metadata": {
        "id": "sb-IysPCgSBz",
        "outputId": "830fb63d-0b0a-4b32-8736-fcab1296e12b",
        "colab": {
          "base_uri": "https://localhost:8080/",
          "height": 38
        }
      },
      "execution_count": null,
      "outputs": [
        {
          "output_type": "execute_result",
          "data": {
            "text/latex": "$\\displaystyle 0$",
            "text/plain": [
              "0"
            ]
          },
          "metadata": {},
          "execution_count": 49
        }
      ]
    },
    {
      "cell_type": "markdown",
      "source": [
        "Bài 10 "
      ],
      "metadata": {
        "id": "4pu4dLqYkgqG"
      }
    },
    {
      "cell_type": "code",
      "source": [
        "from sympy import Limit ,Symbol\n",
        "x = Symbol ('x')\n",
        "Limit(1/x,x,0,dir='-').doit()"
      ],
      "metadata": {
        "id": "hYgs9YCrxYjM",
        "outputId": "9f614603-9bc6-403c-ae00-0d2e7bd09e60",
        "colab": {
          "base_uri": "https://localhost:8080/",
          "height": 38
        }
      },
      "execution_count": null,
      "outputs": [
        {
          "output_type": "execute_result",
          "data": {
            "text/latex": "$\\displaystyle -\\infty$",
            "text/plain": [
              "-oo"
            ]
          },
          "metadata": {},
          "execution_count": 6
        }
      ]
    },
    {
      "cell_type": "code",
      "source": [
        "from sympy import Limit ,Symbol\n",
        "x = Symbol ('x')\n",
        "Limit(1/x,x,0,dir='+').doit()"
      ],
      "metadata": {
        "id": "AC5miVNhzpOo",
        "outputId": "05ff5db3-b7cc-4bca-fec6-133d27a7c985",
        "colab": {
          "base_uri": "https://localhost:8080/",
          "height": 38
        }
      },
      "execution_count": null,
      "outputs": [
        {
          "output_type": "execute_result",
          "data": {
            "text/latex": "$\\displaystyle \\infty$",
            "text/plain": [
              "oo"
            ]
          },
          "metadata": {},
          "execution_count": 7
        }
      ]
    },
    {
      "cell_type": "code",
      "source": [
        "from sympy import Symbol,sin \n",
        "Limit(sin(x)/x,x,0).doit()"
      ],
      "metadata": {
        "id": "b51Q5pKH1vIe",
        "outputId": "a2bf2940-c123-4f33-dbb4-8683601b12e5",
        "colab": {
          "base_uri": "https://localhost:8080/",
          "height": 38
        }
      },
      "execution_count": null,
      "outputs": [
        {
          "output_type": "execute_result",
          "data": {
            "text/latex": "$\\displaystyle 1$",
            "text/plain": [
              "1"
            ]
          },
          "metadata": {},
          "execution_count": 12
        }
      ]
    },
    {
      "cell_type": "markdown",
      "source": [
        "Bài 11a "
      ],
      "metadata": {
        "id": "IIXY7d_bkmK4"
      }
    },
    {
      "cell_type": "code",
      "source": [
        "from sympy import Symbol,Limit,sin \n"
      ],
      "metadata": {
        "id": "HCynz4qT3OYG"
      },
      "execution_count": null,
      "outputs": []
    },
    {
      "cell_type": "markdown",
      "source": [
        "Bài 11b"
      ],
      "metadata": {
        "id": "j4qXCY3aZieP"
      }
    },
    {
      "cell_type": "code",
      "source": [
        "from sympy import limit,sin,S,Symbol \n",
        "x = Symbol('x')\n",
        "limit(x*sin(1/x),x,S.Infinity)"
      ],
      "metadata": {
        "id": "s83BjPu41vPk",
        "outputId": "ba95b85c-ed31-4439-bc88-c12dd829816b",
        "colab": {
          "base_uri": "https://localhost:8080/",
          "height": 37
        }
      },
      "execution_count": 3,
      "outputs": [
        {
          "output_type": "execute_result",
          "data": {
            "text/plain": [
              "1"
            ],
            "text/latex": "$\\displaystyle 1$"
          },
          "metadata": {},
          "execution_count": 3
        }
      ]
    },
    {
      "cell_type": "markdown",
      "source": [
        "BÀI 12"
      ],
      "metadata": {
        "id": "xNV4E497h6I5"
      }
    },
    {
      "cell_type": "code",
      "source": [
        "from sympy import Symbol,Limit,S\n",
        "p = Symbol('P',positive=True)\n",
        "r = Symbol('r',positive=True)\n",
        "t = Symbol('t',positive=True)\n",
        "Limit(p*(1+r/n)**(n*t),n, S.Infinity).doit()"
      ],
      "metadata": {
        "id": "a1xOW45ih7Rh",
        "outputId": "f8a78cc0-3d4a-45eb-afaf-5b99f76471ab",
        "colab": {
          "base_uri": "https://localhost:8080/",
          "height": 208
        }
      },
      "execution_count": 8,
      "outputs": [
        {
          "output_type": "error",
          "ename": "NameError",
          "evalue": "ignored",
          "traceback": [
            "\u001b[0;31m---------------------------------------------------------------------------\u001b[0m",
            "\u001b[0;31mNameError\u001b[0m                                 Traceback (most recent call last)",
            "\u001b[0;32m<ipython-input-8-44edc58d0535>\u001b[0m in \u001b[0;36m<module>\u001b[0;34m()\u001b[0m\n\u001b[1;32m      3\u001b[0m \u001b[0mr\u001b[0m \u001b[0;34m=\u001b[0m \u001b[0mSymbol\u001b[0m\u001b[0;34m(\u001b[0m\u001b[0;34m'r'\u001b[0m\u001b[0;34m,\u001b[0m\u001b[0mpositive\u001b[0m\u001b[0;34m=\u001b[0m\u001b[0;32mTrue\u001b[0m\u001b[0;34m)\u001b[0m\u001b[0;34m\u001b[0m\u001b[0;34m\u001b[0m\u001b[0m\n\u001b[1;32m      4\u001b[0m \u001b[0mt\u001b[0m \u001b[0;34m=\u001b[0m \u001b[0mSymbol\u001b[0m\u001b[0;34m(\u001b[0m\u001b[0;34m't'\u001b[0m\u001b[0;34m,\u001b[0m\u001b[0mpositive\u001b[0m\u001b[0;34m=\u001b[0m\u001b[0;32mTrue\u001b[0m\u001b[0;34m)\u001b[0m\u001b[0;34m\u001b[0m\u001b[0;34m\u001b[0m\u001b[0m\n\u001b[0;32m----> 5\u001b[0;31m \u001b[0mLimit\u001b[0m\u001b[0;34m(\u001b[0m\u001b[0mp\u001b[0m\u001b[0;34m*\u001b[0m\u001b[0;34m(\u001b[0m\u001b[0;36m1\u001b[0m\u001b[0;34m+\u001b[0m\u001b[0mr\u001b[0m\u001b[0;34m/\u001b[0m\u001b[0mn\u001b[0m\u001b[0;34m)\u001b[0m\u001b[0;34m**\u001b[0m\u001b[0;34m(\u001b[0m\u001b[0mn\u001b[0m\u001b[0;34m*\u001b[0m\u001b[0mt\u001b[0m\u001b[0;34m)\u001b[0m\u001b[0;34m,\u001b[0m\u001b[0mn\u001b[0m\u001b[0;34m,\u001b[0m \u001b[0mS\u001b[0m\u001b[0;34m.\u001b[0m\u001b[0mInfinity\u001b[0m\u001b[0;34m)\u001b[0m\u001b[0;34m.\u001b[0m\u001b[0mdoit\u001b[0m\u001b[0;34m(\u001b[0m\u001b[0;34m)\u001b[0m\u001b[0;34m\u001b[0m\u001b[0;34m\u001b[0m\u001b[0m\n\u001b[0m",
            "\u001b[0;31mNameError\u001b[0m: name 'n' is not defined"
          ]
        }
      ]
    },
    {
      "cell_type": "markdown",
      "source": [
        "BÀI 13"
      ],
      "metadata": {
        "id": "F2aNFJmsgpHe"
      }
    },
    {
      "cell_type": "code",
      "source": [
        "from sympy import Symbol, Limit \n",
        "t = Symbol('t')\n",
        "St = 5*t**2 + 2*t + 8 \n",
        "\n",
        "t1 = Symbol('t1')\n",
        "delta_t = Symbol('delta_t')\n",
        "\n",
        "St1 = St.subs({t: t1})\n",
        "St1_delta = St.subs({t: t1 + delta_t})"
      ],
      "metadata": {
        "id": "PbIAz6zt1vXf"
      },
      "execution_count": 6,
      "outputs": []
    },
    {
      "cell_type": "code",
      "source": [
        "Limit((St1_delta-St1)/delta_t, delta_t,0).doit()"
      ],
      "metadata": {
        "id": "lUYkJ8dPhlVm",
        "outputId": "e963e496-e6ac-4835-f5c1-cc2d311f340c",
        "colab": {
          "base_uri": "https://localhost:8080/",
          "height": 39
        }
      },
      "execution_count": 7,
      "outputs": [
        {
          "output_type": "execute_result",
          "data": {
            "text/plain": [
              "10*t1 + 2"
            ],
            "text/latex": "$\\displaystyle 10 t_{1} + 2$"
          },
          "metadata": {},
          "execution_count": 7
        }
      ]
    },
    {
      "cell_type": "code",
      "source": [
        "a = 3.1; b=3.0; i= -1 \n",
        "while (a !=b):\n",
        "  print( a, \" !=\", b )\n",
        "  a_new = a - 0.9 * 10 ** (i)\n",
        "  if (a_new != a):\n",
        "          a = a_new\n",
        "          i = i - 1 \n",
        "  else:\n",
        "        print(i)\n",
        "        a = b"
      ],
      "metadata": {
        "id": "QPElVf0pj2Fj",
        "outputId": "e21c4b5b-c543-4d6d-e039-5e4e2b227450",
        "colab": {
          "base_uri": "https://localhost:8080/"
        }
      },
      "execution_count": 13,
      "outputs": [
        {
          "output_type": "stream",
          "name": "stdout",
          "text": [
            "3.1  != 3.0\n",
            "3.0100000000000002  != 3.0\n",
            "3.0010000000000003  != 3.0\n",
            "3.0001  != 3.0\n",
            "3.00001  != 3.0\n",
            "3.000001  != 3.0\n",
            "3.0000001000000003  != 3.0\n",
            "3.0000000100000004  != 3.0\n",
            "3.0000000010000005  != 3.0\n",
            "3.0000000001000005  != 3.0\n",
            "3.0000000000100004  != 3.0\n",
            "3.0000000000010005  != 3.0\n",
            "3.0000000000001004  != 3.0\n",
            "3.00000000000001  != 3.0\n",
            "3.0000000000000013  != 3.0\n",
            "3.0000000000000004  != 3.0\n",
            "-16\n"
          ]
        }
      ]
    },
    {
      "cell_type": "code",
      "source": [
        " if (a==b) and (1/0 >0):\n",
        "   print(\"a=b\")\n",
        " else:\n",
        "   print(\"a khac b\")   "
      ],
      "metadata": {
        "id": "I4YgirMslHax",
        "outputId": "cc6dd518-2905-4eb5-921c-05a5b1566b3f",
        "colab": {
          "base_uri": "https://localhost:8080/"
        }
      },
      "execution_count": 15,
      "outputs": [
        {
          "output_type": "stream",
          "name": "stdout",
          "text": [
            "a khac b\n"
          ]
        }
      ]
    },
    {
      "cell_type": "code",
      "source": [
        "a = True \n",
        "b = False \n",
        "if (1/0 > 0) and (a==b):\n",
        "   print(\"a=b\")\n",
        "else:\n",
        "   print(\"a khac b \")"
      ],
      "metadata": {
        "id": "uux22DR5lq3m",
        "outputId": "889b9fd9-0ef7-46ae-f117-a4fc4698a305",
        "colab": {
          "base_uri": "https://localhost:8080/",
          "height": 245
        }
      },
      "execution_count": 18,
      "outputs": [
        {
          "output_type": "error",
          "ename": "ZeroDivisionError",
          "evalue": "ignored",
          "traceback": [
            "\u001b[0;31m---------------------------------------------------------------------------\u001b[0m",
            "\u001b[0;31mZeroDivisionError\u001b[0m                         Traceback (most recent call last)",
            "\u001b[0;32m<ipython-input-18-3829663e654a>\u001b[0m in \u001b[0;36m<module>\u001b[0;34m()\u001b[0m\n\u001b[1;32m      1\u001b[0m \u001b[0ma\u001b[0m \u001b[0;34m=\u001b[0m \u001b[0;32mTrue\u001b[0m\u001b[0;34m\u001b[0m\u001b[0;34m\u001b[0m\u001b[0m\n\u001b[1;32m      2\u001b[0m \u001b[0mb\u001b[0m \u001b[0;34m=\u001b[0m \u001b[0;32mFalse\u001b[0m\u001b[0;34m\u001b[0m\u001b[0;34m\u001b[0m\u001b[0m\n\u001b[0;32m----> 3\u001b[0;31m \u001b[0;32mif\u001b[0m \u001b[0;34m(\u001b[0m\u001b[0;36m1\u001b[0m\u001b[0;34m/\u001b[0m\u001b[0;36m0\u001b[0m \u001b[0;34m>\u001b[0m \u001b[0;36m0\u001b[0m\u001b[0;34m)\u001b[0m \u001b[0;32mand\u001b[0m \u001b[0;34m(\u001b[0m\u001b[0ma\u001b[0m\u001b[0;34m==\u001b[0m\u001b[0mb\u001b[0m\u001b[0;34m)\u001b[0m\u001b[0;34m:\u001b[0m\u001b[0;34m\u001b[0m\u001b[0;34m\u001b[0m\u001b[0m\n\u001b[0m\u001b[1;32m      4\u001b[0m    \u001b[0mprint\u001b[0m\u001b[0;34m(\u001b[0m\u001b[0;34m\"a=b\"\u001b[0m\u001b[0;34m)\u001b[0m\u001b[0;34m\u001b[0m\u001b[0;34m\u001b[0m\u001b[0m\n\u001b[1;32m      5\u001b[0m \u001b[0;32melse\u001b[0m\u001b[0;34m:\u001b[0m\u001b[0;34m\u001b[0m\u001b[0;34m\u001b[0m\u001b[0m\n",
            "\u001b[0;31mZeroDivisionError\u001b[0m: division by zero"
          ]
        }
      ]
    }
  ]
}