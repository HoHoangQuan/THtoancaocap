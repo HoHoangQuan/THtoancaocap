{
  "nbformat": 4,
  "nbformat_minor": 0,
  "metadata": {
    "colab": {
      "name": " Baitapchuong6.ipynb",
      "provenance": [],
      "authorship_tag": "ABX9TyM5MpNj/E94w9mu3N7s1m+M",
      "include_colab_link": true
    },
    "kernelspec": {
      "name": "python3",
      "display_name": "Python 3"
    },
    "language_info": {
      "name": "python"
    }
  },
  "cells": [
    {
      "cell_type": "markdown",
      "metadata": {
        "id": "view-in-github",
        "colab_type": "text"
      },
      "source": [
        "<a href=\"https://colab.research.google.com/github/HoHoangQuan/THtoancaocap/blob/main/Baitapchuong6.ipynb\" target=\"_parent\"><img src=\"https://colab.research.google.com/assets/colab-badge.svg\" alt=\"Open In Colab\"/></a>"
      ]
    },
    {
      "cell_type": "code",
      "execution_count": null,
      "metadata": {
        "colab": {
          "base_uri": "https://localhost:8080/"
        },
        "id": "G32bToNlRMVT",
        "outputId": "a4209a21-4650-4707-966b-68e2ca7053ef"
      },
      "outputs": [
        {
          "output_type": "execute_result",
          "data": {
            "text/plain": [
              "6"
            ]
          },
          "metadata": {},
          "execution_count": 5
        }
      ],
      "source": [
        " import math \n",
        " def giaithua(n):\n",
        "  if (n==0): \n",
        "         return 1 \n",
        "  else: \n",
        "    return n*giaithua(n-1)  \n",
        "giaithua(3)       "
      ]
    },
    {
      "cell_type": "code",
      "source": [
        "giaithua(4) "
      ],
      "metadata": {
        "colab": {
          "base_uri": "https://localhost:8080/"
        },
        "id": "o2Y1IfCUUVqP",
        "outputId": "4d9ced56-7a5c-4f95-fa44-172b17b57bdc"
      },
      "execution_count": null,
      "outputs": [
        {
          "output_type": "execute_result",
          "data": {
            "text/plain": [
              "24"
            ]
          },
          "metadata": {},
          "execution_count": 6
        }
      ]
    },
    {
      "cell_type": "markdown",
      "source": [
        "TH2"
      ],
      "metadata": {
        "id": "FOPNn8vwXETF"
      }
    },
    {
      "cell_type": "code",
      "source": [
        " def fibo(n): \n",
        "   if n == 0: \n",
        "     return 0 \n",
        "   if n == 1:\n",
        "     return 1 \n",
        "   return fibo(n-1) + fibo(n-2) \n",
        " "
      ],
      "metadata": {
        "id": "SNXEw3MLXHTx"
      },
      "execution_count": null,
      "outputs": []
    },
    {
      "cell_type": "code",
      "source": [
        "fibo(4)"
      ],
      "metadata": {
        "id": "ymVk5900KmsI",
        "outputId": "397df8a3-31b6-43ec-ab8e-77c9d70ac49b",
        "colab": {
          "base_uri": "https://localhost:8080/"
        }
      },
      "execution_count": null,
      "outputs": [
        {
          "output_type": "execute_result",
          "data": {
            "text/plain": [
              "3"
            ]
          },
          "metadata": {},
          "execution_count": 4
        }
      ]
    },
    {
      "cell_type": "code",
      "source": [
        "fibo(5)"
      ],
      "metadata": {
        "id": "udOt70FTYK1e",
        "outputId": "3c1fbdfb-074b-43eb-cf26-e369209e775d",
        "colab": {
          "base_uri": "https://localhost:8080/"
        }
      },
      "execution_count": null,
      "outputs": [
        {
          "output_type": "execute_result",
          "data": {
            "text/plain": [
              "5"
            ]
          },
          "metadata": {},
          "execution_count": 2
        }
      ]
    },
    {
      "cell_type": "code",
      "source": [
        "fibo(6)"
      ],
      "metadata": {
        "id": "w7xZLgM-Kp1Y",
        "outputId": "adf86c07-1194-4743-b610-7568756a80de",
        "colab": {
          "base_uri": "https://localhost:8080/"
        }
      },
      "execution_count": null,
      "outputs": [
        {
          "output_type": "execute_result",
          "data": {
            "text/plain": [
              "8"
            ]
          },
          "metadata": {},
          "execution_count": 5
        }
      ]
    },
    {
      "cell_type": "markdown",
      "source": [
        "TH3"
      ],
      "metadata": {
        "id": "Nhz6gSNyLkDt"
      }
    },
    {
      "cell_type": "code",
      "source": [
        "def an_exp_an(n):\n",
        "  if n==1:\n",
        "    return 1.0/2\n",
        "  else:\n",
        "    return an_exp_an(n-1)**an_exp_an(n-1)"
      ],
      "metadata": {
        "id": "OA7xrqDkLlgA"
      },
      "execution_count": null,
      "outputs": []
    },
    {
      "cell_type": "code",
      "source": [
        "an_exp_an(1)"
      ],
      "metadata": {
        "id": "nfWo1CY6MEah",
        "outputId": "577831d1-6967-4566-b1a6-9562152a8a90",
        "colab": {
          "base_uri": "https://localhost:8080/"
        }
      },
      "execution_count": null,
      "outputs": [
        {
          "output_type": "execute_result",
          "data": {
            "text/plain": [
              "0.5"
            ]
          },
          "metadata": {},
          "execution_count": 7
        }
      ]
    },
    {
      "cell_type": "code",
      "source": [
        "an_exp_an(2)"
      ],
      "metadata": {
        "id": "vGEdvZnRMIo_",
        "outputId": "3f0f1692-1010-4abe-db7d-ffa9da3c4405",
        "colab": {
          "base_uri": "https://localhost:8080/"
        }
      },
      "execution_count": null,
      "outputs": [
        {
          "output_type": "execute_result",
          "data": {
            "text/plain": [
              "0.7071067811865476"
            ]
          },
          "metadata": {},
          "execution_count": 8
        }
      ]
    },
    {
      "cell_type": "code",
      "source": [
        "an_exp_an(3) "
      ],
      "metadata": {
        "id": "MR60oQlIMMTR",
        "outputId": "2dbfaacb-7346-4524-8624-5ff4d04b6cfd",
        "colab": {
          "base_uri": "https://localhost:8080/"
        }
      },
      "execution_count": null,
      "outputs": [
        {
          "output_type": "execute_result",
          "data": {
            "text/plain": [
              "0.7826540273556803"
            ]
          },
          "metadata": {},
          "execution_count": 9
        }
      ]
    },
    {
      "cell_type": "code",
      "source": [
        "an_exp_an(4) "
      ],
      "metadata": {
        "id": "RJOpIATBMMQl",
        "outputId": "42540a3f-5cb8-4155-aa8a-5ac97d960b92",
        "colab": {
          "base_uri": "https://localhost:8080/"
        }
      },
      "execution_count": null,
      "outputs": [
        {
          "output_type": "execute_result",
          "data": {
            "text/plain": [
              "0.8254713306050621"
            ]
          },
          "metadata": {},
          "execution_count": 10
        }
      ]
    },
    {
      "cell_type": "code",
      "source": [
        "an_exp_an(5) "
      ],
      "metadata": {
        "id": "kSYBrl0yMMOE",
        "outputId": "4c92e154-2953-4270-a3ef-5c4971741bd2",
        "colab": {
          "base_uri": "https://localhost:8080/"
        }
      },
      "execution_count": null,
      "outputs": [
        {
          "output_type": "execute_result",
          "data": {
            "text/plain": [
              "0.8535714578150946"
            ]
          },
          "metadata": {},
          "execution_count": 11
        }
      ]
    },
    {
      "cell_type": "code",
      "source": [
        "an_exp_an(10) "
      ],
      "metadata": {
        "id": "xvMiZuQCMMLh",
        "outputId": "daa39bb6-0f71-428b-f4b0-7641be9f409f",
        "colab": {
          "base_uri": "https://localhost:8080/"
        }
      },
      "execution_count": null,
      "outputs": [
        {
          "output_type": "execute_result",
          "data": {
            "text/plain": [
              "0.9176411981636667"
            ]
          },
          "metadata": {},
          "execution_count": 12
        }
      ]
    },
    {
      "cell_type": "markdown",
      "source": [
        "TH4"
      ],
      "metadata": {
        "id": "4tPsrITUMa5i"
      }
    },
    {
      "cell_type": "code",
      "source": [
        "def bai4(n): \n",
        "  if n==1: \n",
        "    return 4 \n",
        "  else: \n",
        "    return 5.0/(6-bai4(n-1)) ="
      ],
      "metadata": {
        "id": "zBjx_72rMMIv"
      },
      "execution_count": null,
      "outputs": []
    },
    {
      "cell_type": "code",
      "source": [
        "bai4(5)"
      ],
      "metadata": {
        "id": "KzddiRsrMMCk",
        "outputId": "d4f44be4-0dd4-472a-fb85-f5bb6a2bf284",
        "colab": {
          "base_uri": "https://localhost:8080/"
        }
      },
      "execution_count": null,
      "outputs": [
        {
          "output_type": "execute_result",
          "data": {
            "text/plain": [
              "1.019108280254777"
            ]
          },
          "metadata": {},
          "execution_count": 14
        }
      ]
    },
    {
      "cell_type": "code",
      "source": [
        "bai4(6)"
      ],
      "metadata": {
        "id": "MKKfUf0VML_q",
        "outputId": "781cf356-7c3c-4fb4-b637-de143bb0de11",
        "colab": {
          "base_uri": "https://localhost:8080/"
        }
      },
      "execution_count": null,
      "outputs": [
        {
          "output_type": "execute_result",
          "data": {
            "text/plain": [
              "1.0038363171355498"
            ]
          },
          "metadata": {},
          "execution_count": 15
        }
      ]
    },
    {
      "cell_type": "code",
      "source": [
        "bai4(7)"
      ],
      "metadata": {
        "id": "DGDlVymcML83",
        "outputId": "6083a63a-4497-4f9e-b321-8b2baed881ad",
        "colab": {
          "base_uri": "https://localhost:8080/"
        }
      },
      "execution_count": null,
      "outputs": [
        {
          "output_type": "execute_result",
          "data": {
            "text/plain": [
              "1.000767852572306"
            ]
          },
          "metadata": {},
          "execution_count": 16
        }
      ]
    },
    {
      "cell_type": "code",
      "source": [
        "bai4(10)"
      ],
      "metadata": {
        "id": "-5kKEyXcML0a",
        "outputId": "14303a4c-4cbf-4d06-a696-cc40e0173116",
        "colab": {
          "base_uri": "https://localhost:8080/"
        }
      },
      "execution_count": null,
      "outputs": [
        {
          "output_type": "execute_result",
          "data": {
            "text/plain": [
              "1.0000061439905628"
            ]
          },
          "metadata": {},
          "execution_count": 17
        }
      ]
    },
    {
      "cell_type": "code",
      "source": [
        "bai4(100)"
      ],
      "metadata": {
        "id": "9EVUWyYrNPZx",
        "outputId": "a75ed837-ee40-4c90-f3a2-a175da5312b2",
        "colab": {
          "base_uri": "https://localhost:8080/"
        }
      },
      "execution_count": null,
      "outputs": [
        {
          "output_type": "execute_result",
          "data": {
            "text/plain": [
              "1.0"
            ]
          },
          "metadata": {},
          "execution_count": 18
        }
      ]
    },
    {
      "cell_type": "markdown",
      "source": [
        "Ket qua giam dan "
      ],
      "metadata": {
        "id": "WirfWf4mNcXc"
      }
    },
    {
      "cell_type": "markdown",
      "source": [
        "TH5"
      ],
      "metadata": {
        "id": "thm6zv9ZNiqa"
      }
    },
    {
      "cell_type": "code",
      "source": [
        "def tisoFibo(n): \n",
        "  if n==1: \n",
        "      return 1   \n",
        "  else: \n",
        "      return 1.0 + 1.0/tisoFibo(n-1) \n",
        "for i in range(1, 11):\n",
        " print (i, tisoFibo(i)) "
      ],
      "metadata": {
        "id": "lvv5PjESNZPf",
        "outputId": "9b02c68d-6b07-4842-a3f8-928758425b1f",
        "colab": {
          "base_uri": "https://localhost:8080/"
        }
      },
      "execution_count": null,
      "outputs": [
        {
          "output_type": "stream",
          "name": "stdout",
          "text": [
            "1 1\n",
            "2 2.0\n",
            "3 1.5\n",
            "4 1.6666666666666665\n",
            "5 1.6\n",
            "6 1.625\n",
            "7 1.6153846153846154\n",
            "8 1.619047619047619\n",
            "9 1.6176470588235294\n",
            "10 1.6181818181818182\n"
          ]
        }
      ]
    },
    {
      "cell_type": "code",
      "source": [
        "from sympy import Derivative, Symbol, sympify \n",
        "def grad_ascent(x0, ham_f1x, x): \n",
        "    epsilon = 1e-6 \n",
        "    step_size = 1e-4 \n",
        "    x_old = x0 \n",
        "    x_new = x_old + step_size*ham_f1x.subs({x:x_old}).evalf() \n",
        "    while abs(x_old - x_new) > epsilon: \n",
        "        x_old = x_new \n",
        "        x_new = x_old + step_size*ham_f1x.subs({x:x_old}).evalf()\n",
        "    return x_new \n",
        "if __name__ == '__main__': \n",
        " f = input('Nhap ham 1 bien (f): ') \n",
        " var = input('Nhap ten bien tuong ung (x): ') \n",
        " var0 = float(input('Nhap gia tri khoi dau cho bien x: ')) \n",
        " \n",
        " try: \n",
        "     f = sympify(f) # kiem tra ham \n",
        " except SympifyError: \n",
        "     print('Ham nhap khong hop le!') \n",
        " else: \n",
        "    var = Symbol(var) \n",
        "    d = Derivative(f, var).doit() \n",
        "    var_max = grad_ascent(var0, d, var) \n",
        "    print('{0}: {1}'.format(var.name, var_max)) \n",
        "    print('Maximum value: {0}'.format(f.subs({var:var_max})))"
      ],
      "metadata": {
        "id": "r5-lqLb1N6hR",
        "outputId": "8dcfc50f-5c80-4ffd-e964-d9d65b424d82",
        "colab": {
          "base_uri": "https://localhost:8080/"
        }
      },
      "execution_count": 7,
      "outputs": [
        {
          "output_type": "stream",
          "name": "stdout",
          "text": [
            "Nhap ham 1 bien (f): 25*25*sin(2*theta)/9.8\n",
            "Nhap ten bien tuong ung (x):  theta\n",
            "Nhap gia tri khoi dau cho bien x:  0.001\n",
            " theta: 0.00100000000000000\n",
            "Maximum value: 63.7755102040816*sin(2*theta)\n"
          ]
        }
      ]
    },
    {
      "cell_type": "markdown",
      "source": [
        ""
      ],
      "metadata": {
        "id": "Pp150WDONpxm"
      }
    },
    {
      "cell_type": "code",
      "source": [
        "from sympy import Derivative, Symbol, sympify \n",
        "def grad_ascent(x0, ham_f1x, x): \n",
        "    epsilon = 1e-6 \n",
        "    step_size = 1e-4 \n",
        "    x_old = x0 \n",
        "    x_new = x_old + step_size*ham_f1x.subs({x:x_old}).evalf() \n",
        "    while abs(x_old - x_new) > epsilon: \n",
        "        x_old = x_new \n",
        "        x_new = x_old + step_size*ham_f1x.subs({x:x_old}).evalf()\n",
        "    return x_new \n",
        "if __name__ == '__main__': \n",
        " f = input('Nhap ham 1 bien (f): ') \n",
        " var = input('Nhap ten bien tuong ung (x): ') \n",
        " var0 = float(input('Nhap gia tri khoi dau cho bien x: ')) \n",
        " \n",
        " try: \n",
        "     f = sympify(f) # kiem tra ham \n",
        " except SympifyError: \n",
        "     print('Ham nhap khong hop le!') \n",
        " else: \n",
        "    var = Symbol(var) \n",
        "    d = Derivative(f, var).doit() \n",
        "    var_max = grad_ascent(var0, d, var) \n",
        "    print('{0}: {1}'.format(var.name, var_max)) \n",
        "    print('Maximum value: {0}'.format(f.subs({var:var_max})))"
      ],
      "metadata": {
        "id": "i-BujKElNZDM",
        "outputId": "6290c4d8-a76d-46dc-8840-fb771a1da2c7",
        "colab": {
          "base_uri": "https://localhost:8080/"
        }
      },
      "execution_count": 8,
      "outputs": [
        {
          "output_type": "stream",
          "name": "stdout",
          "text": [
            "Nhap ham 1 bien (f):  cos(t)\n",
            "Nhap ten bien tuong ung (x):  cos(t)\n",
            "Nhap gia tri khoi dau cho bien x: 0.01 \n",
            " cos(t): 0.0100000000000000\n",
            "Maximum value: cos(t)\n"
          ]
        }
      ]
    },
    {
      "cell_type": "code",
      "source": [
        "from sympy import Derivative, Symbol, sympify \n",
        "def grad_ascent(x0, ham_f1x, x): \n",
        "    epsilon = 1e-6 \n",
        "    step_size = 1e-4 \n",
        "    x_old = x0 \n",
        "    x_new = x_old + step_size*ham_f1x.subs({x:x_old}).evalf() \n",
        "    while abs(x_old - x_new) > epsilon: \n",
        "        x_old = x_new \n",
        "        x_new = x_old + step_size*ham_f1x.subs({x:x_old}).evalf()\n",
        "    return x_new \n",
        "if __name__ == '__main__': \n",
        " f = input('Nhap ham 1 bien (f): ') \n",
        " var = input('Nhap ten bien tuong ung (x): ') \n",
        " var0 = float(input('Nhap gia tri khoi dau cho bien x: ')) \n",
        " \n",
        " try: \n",
        "     f = sympify(f) # kiem tra ham \n",
        " except SympifyError: \n",
        "     print('Ham nhap khong hop le!') \n",
        " else: \n",
        "    var = Symbol(var) \n",
        "    d = Derivative(f, var).doit() \n",
        "    var_max = grad_ascent(var0, d, var) \n",
        "    print('{0}: {1}'.format(var.name, var_max)) \n",
        "    print('Maximum value: {0}'.format(f.subs({var:var_max})))"
      ],
      "metadata": {
        "id": "_iVLnpXiBeTs",
        "outputId": "c28fb9a9-f866-46fe-aee8-2194a084ddb5",
        "colab": {
          "base_uri": "https://localhost:8080/"
        }
      },
      "execution_count": 9,
      "outputs": [
        {
          "output_type": "stream",
          "name": "stdout",
          "text": [
            "Nhap ham 1 bien (f): cos(t)+p \n",
            "Nhap ten bien tuong ung (x): t\n",
            "Nhap gia tri khoi dau cho bien x: 0.01\n",
            "t: 0.00999900001666658\n",
            "Maximum value: p + 0.999950010415832\n"
          ]
        }
      ]
    },
    {
      "cell_type": "code",
      "source": [
        "from sympy import Derivative, Symbol, sympify \n",
        "def grad_ascent(x0, ham_f1x, x): \n",
        " from sympy import solve, E \n",
        " if not solve(ham_f1x): \n",
        "    print('Khong the tiep tuc, phuong trinh {0}=0 vo nghiem'.format(ham_f1x)) \n",
        " return \n",
        " # như đoạn mã cũ \n",
        " epsilon = 1e-6 \n",
        " step_size = 1e-4 \n",
        " x_old = x0 \n",
        " x_new = x_old + step_size*ham_f1x.subs({x:x_old}).evalf() \n",
        " while abs(x_old - x_new) > epsilon: \n",
        "   x_old = x_new \n",
        "   x_new = x_old + step_size*ham_f1x.subs({x:x_old}).evalf() \n",
        " \n",
        " return x_new \n",
        "if __name__ == '__main__': \n",
        " f = input('Nhap ham 1 bien (f): ') \n",
        " var = input('Nhap ten bien tuong ung (x): ') \n",
        " var0 = float(input('Nhap gia tri khoi dau cho bien x: ')) \n",
        " \n",
        " try: \n",
        "  f = sympify(f)  \n",
        " except SympifyError: \n",
        "  print('Ham nhap khong hop le!') \n",
        " else: \n",
        "  var = Symbol(var) \n",
        "  d = Derivative(f, var).doit() \n",
        "  var_max = grad_ascent(var0, d, var) \n",
        "  \n",
        " if var_max: \n",
        "  print('{0}: {1}'.format(var.name, var_max)) \n",
        "  print('Maximum value: {0}'.format(f.subs({var:var_max}))) "
      ],
      "metadata": {
        "id": "NRqsY_v2BwTQ",
        "outputId": "d108afe1-c875-4955-c4c0-cc6545fb715e",
        "colab": {
          "base_uri": "https://localhost:8080/"
        }
      },
      "execution_count": 18,
      "outputs": [
        {
          "output_type": "stream",
          "name": "stdout",
          "text": [
            "Nhap ham 1 bien (f):  log(x)\n",
            "Nhap ten bien tuong ung (x): x \n",
            "Nhap gia tri khoi dau cho bien x: 0.1 \n",
            "Khong the tiep tuc, phuong trinh 0=0 vo nghiem\n"
          ]
        }
      ]
    },
    {
      "cell_type": "code",
      "source": [
        "from sympy import Derivative, Symbol, sympify \n",
        "def grad_ascent(x0, ham_f1x, x): \n",
        " from sympy import solve, E \n",
        " if not solve(ham_f1x): \n",
        "    print('Khong the tiep tuc, phuong trinh {0}=0 vo nghiem'.format(ham_f1x)) \n",
        " return \n",
        " # như đoạn mã cũ \n",
        " epsilon = 1e-6 \n",
        " step_size = 1e-4 \n",
        " x_old = x0 \n",
        " x_new = x_old + step_size*ham_f1x.subs({x:x_old}).evalf() \n",
        " while abs(x_old - x_new) > epsilon: \n",
        "   x_old = x_new \n",
        "   x_new = x_old + step_size*ham_f1x.subs({x:x_old}).evalf() \n",
        " \n",
        " return x_new \n",
        "if __name__ == '__main__': \n",
        " f = input('Nhap ham 1 bien (f): ') \n",
        " var = input('Nhap ten bien tuong ung (x): ') \n",
        " var0 = float(input('Nhap gia tri khoi dau cho bien x: ')) \n",
        " \n",
        " try: \n",
        "  f = sympify(f)  \n",
        " except SympifyError: \n",
        "  print('Ham nhap khong hop le!') \n",
        " else: \n",
        "  var = Symbol(var) \n",
        "  d = Derivative(f, var).doit() \n",
        "  var_max = grad_ascent(var0, d, var) \n",
        "  \n",
        " if var_max: \n",
        "  print('{0}: {1}'.format(var.name, var_max)) \n",
        "  print('Maximum value: {0}'.format(f.subs({var:var_max}))) "
      ],
      "metadata": {
        "id": "qe9vq3Y5Cf9j",
        "outputId": "33223aed-14ff-4655-8690-aae24ab7a984",
        "colab": {
          "base_uri": "https://localhost:8080/"
        }
      },
      "execution_count": 19,
      "outputs": [
        {
          "output_type": "stream",
          "name": "stdout",
          "text": [
            "Nhap ham 1 bien (f):  E**x\n",
            "Nhap ten bien tuong ung (x): x \n",
            "Nhap gia tri khoi dau cho bien x: 0.1 \n",
            "Khong the tiep tuc, phuong trinh 0=0 vo nghiem\n"
          ]
        }
      ]
    }
  ]
}