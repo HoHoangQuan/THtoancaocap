{
  "nbformat": 4,
  "nbformat_minor": 0,
  "metadata": {
    "colab": {
      "name": " Baitapchuong6.ipynb",
      "provenance": [],
      "authorship_tag": "ABX9TyNOEHTICuniw3pPhTsdQS2j",
      "include_colab_link": true
    },
    "kernelspec": {
      "name": "python3",
      "display_name": "Python 3"
    },
    "language_info": {
      "name": "python"
    }
  },
  "cells": [
    {
      "cell_type": "markdown",
      "metadata": {
        "id": "view-in-github",
        "colab_type": "text"
      },
      "source": [
        "<a href=\"https://colab.research.google.com/github/HoHoangQuan/THtoancaocap/blob/main/Baitapchuong6.ipynb\" target=\"_parent\"><img src=\"https://colab.research.google.com/assets/colab-badge.svg\" alt=\"Open In Colab\"/></a>"
      ]
    },
    {
      "cell_type": "code",
      "execution_count": 5,
      "metadata": {
        "colab": {
          "base_uri": "https://localhost:8080/"
        },
        "id": "G32bToNlRMVT",
        "outputId": "a4209a21-4650-4707-966b-68e2ca7053ef"
      },
      "outputs": [
        {
          "output_type": "execute_result",
          "data": {
            "text/plain": [
              "6"
            ]
          },
          "metadata": {},
          "execution_count": 5
        }
      ],
      "source": [
        " import math \n",
        " def giaithua(n):\n",
        "  if (n==0): \n",
        "         return 1 \n",
        "  else: \n",
        "    return n*giaithua(n-1)  \n",
        "giaithua(3)       "
      ]
    },
    {
      "cell_type": "code",
      "source": [
        "giaithua(4) "
      ],
      "metadata": {
        "colab": {
          "base_uri": "https://localhost:8080/"
        },
        "id": "o2Y1IfCUUVqP",
        "outputId": "4d9ced56-7a5c-4f95-fa44-172b17b57bdc"
      },
      "execution_count": 6,
      "outputs": [
        {
          "output_type": "execute_result",
          "data": {
            "text/plain": [
              "24"
            ]
          },
          "metadata": {},
          "execution_count": 6
        }
      ]
    },
    {
      "cell_type": "markdown",
      "source": [
        "TH2"
      ],
      "metadata": {
        "id": "FOPNn8vwXETF"
      }
    },
    {
      "cell_type": "code",
      "source": [
        " def fibo(n): \n",
        "   if n == 0: \n",
        "     return 0 \n",
        "   if n == 1:\n",
        "     return 1 \n",
        "   return fibo(n-1) + fibo(n-2) \n",
        "   fibo(4)"
      ],
      "metadata": {
        "id": "SNXEw3MLXHTx"
      },
      "execution_count": 9,
      "outputs": []
    },
    {
      "cell_type": "code",
      "source": [
        ""
      ],
      "metadata": {
        "id": "udOt70FTYK1e"
      },
      "execution_count": null,
      "outputs": []
    }
  ]
}