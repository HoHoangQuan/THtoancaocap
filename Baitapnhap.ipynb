{
  "nbformat": 4,
  "nbformat_minor": 0,
  "metadata": {
    "colab": {
      "name": " Baitapnhap.ipynb",
      "provenance": [],
      "authorship_tag": "ABX9TyM2HdxKLTZBxYBFJ1hp4Pu5",
      "include_colab_link": true
    },
    "kernelspec": {
      "name": "python3",
      "display_name": "Python 3"
    },
    "language_info": {
      "name": "python"
    }
  },
  "cells": [
    {
      "cell_type": "markdown",
      "metadata": {
        "id": "view-in-github",
        "colab_type": "text"
      },
      "source": [
        "<a href=\"https://colab.research.google.com/github/HoHoangQuan/THtoancaocap/blob/main/Baitapnhap.ipynb\" target=\"_parent\"><img src=\"https://colab.research.google.com/assets/colab-badge.svg\" alt=\"Open In Colab\"/></a>"
      ]
    },
    {
      "cell_type": "markdown",
      "source": [
        "CAU 1 "
      ],
      "metadata": {
        "id": "ByNpW918tAKC"
      }
    },
    {
      "cell_type": "markdown",
      "source": [
        "A\n"
      ],
      "metadata": {
        "id": "wXWl-rvbuPMl"
      }
    },
    {
      "cell_type": "code",
      "execution_count": 3,
      "metadata": {
        "id": "LPSdE88VX02t",
        "colab": {
          "base_uri": "https://localhost:8080/"
        },
        "outputId": "7f5239a3-4f9f-4865-8988-fe56e875408c"
      },
      "outputs": [
        {
          "output_type": "stream",
          "name": "stdout",
          "text": [
            "x 10 = 3791862310265926082868235028027893277370233152247388584761734150717768254410341175325352026\n"
          ]
        }
      ],
      "source": [
        "x = 0 \n",
        "tong=0\n",
        "while True : \n",
        "  if tong==10: \n",
        "    print(\"x\",tong,\"=\",x)\n",
        "    break \n",
        "  else:\n",
        "    x=(x*x)+1 \n",
        "    tong= tong+1 \n"
      ]
    },
    {
      "cell_type": "markdown",
      "source": [
        "B"
      ],
      "metadata": {
        "id": "u6ebl7pVuSC8"
      }
    },
    {
      "cell_type": "code",
      "source": [
        "x = 0 \n",
        "tong=0\n",
        "while True : \n",
        "  if tong==10: \n",
        "    break \n",
        "  else:\n",
        "    x=(x*x)+1 \n",
        "    tong= tong+1 \n",
        "    print(\"x\",tong,\"=\",x)"
      ],
      "metadata": {
        "colab": {
          "base_uri": "https://localhost:8080/"
        },
        "id": "06FZ1J1fuNnv",
        "outputId": "50695d87-2c70-45f1-ce2c-5bafa4b94377"
      },
      "execution_count": 4,
      "outputs": [
        {
          "output_type": "stream",
          "name": "stdout",
          "text": [
            "x 1 = 1\n",
            "x 2 = 2\n",
            "x 3 = 5\n",
            "x 4 = 26\n",
            "x 5 = 677\n",
            "x 6 = 458330\n",
            "x 7 = 210066388901\n",
            "x 8 = 44127887745906175987802\n",
            "x 9 = 1947270476915296449559703445493848930452791205\n",
            "x 10 = 3791862310265926082868235028027893277370233152247388584761734150717768254410341175325352026\n"
          ]
        }
      ]
    },
    {
      "cell_type": "markdown",
      "source": [
        "C"
      ],
      "metadata": {
        "id": "egpte33VugPT"
      }
    },
    {
      "cell_type": "code",
      "source": [
        "import math \n",
        "x=1000\n",
        "tong=0\n",
        "while True : \n",
        "  if tong==10: \n",
        "    break \n",
        "  else:\n",
        "    a=math.sqrt(x+1) \n",
        "    tong= tong+1 \n",
        "    print(\"x\",tong,\"=\",a)"
      ],
      "metadata": {
        "colab": {
          "base_uri": "https://localhost:8080/"
        },
        "id": "QJPitRikug4W",
        "outputId": "2f5b2777-4325-45ec-e3fc-6ec1ac16f5f7"
      },
      "execution_count": 6,
      "outputs": [
        {
          "output_type": "stream",
          "name": "stdout",
          "text": [
            "x 1 = 31.63858403911275\n",
            "x 2 = 31.63858403911275\n",
            "x 3 = 31.63858403911275\n",
            "x 4 = 31.63858403911275\n",
            "x 5 = 31.63858403911275\n",
            "x 6 = 31.63858403911275\n",
            "x 7 = 31.63858403911275\n",
            "x 8 = 31.63858403911275\n",
            "x 9 = 31.63858403911275\n",
            "x 10 = 31.63858403911275\n"
          ]
        }
      ]
    },
    {
      "cell_type": "markdown",
      "source": [
        "D"
      ],
      "metadata": {
        "id": "tG0WG8o_vQau"
      }
    },
    {
      "cell_type": "code",
      "source": [
        "x = 0 \n",
        "tong=0\n",
        "while True : \n",
        "  if tong==9996: \n",
        "    print(\"x\",tong,\"=\",x)\n",
        "  if tong==9997: \n",
        "    print(\"x\",tong,\"=\",x)\n",
        "  if tong==9998: \n",
        "    print(\"x\",tong,\"=\",x)\n",
        "  if tong==9999:  \n",
        "    print(\"x\",tong,\"=\",x)\n",
        "  if tong==10000:\n",
        "    print(\"x\",tong,\"=\",x) \n",
        "    break \n",
        "  else:\n",
        "    x=(x*x)-0.5 \n",
        "    tong= tong+1 "
      ],
      "metadata": {
        "colab": {
          "base_uri": "https://localhost:8080/"
        },
        "id": "EQSssiaIvROY",
        "outputId": "4237c10d-c6df-4beb-f3c0-ee2608cedf9d"
      },
      "execution_count": 16,
      "outputs": [
        {
          "output_type": "stream",
          "name": "stdout",
          "text": [
            "x 9996 = -0.3660254037844386\n",
            "x 9997 = -0.3660254037844387\n",
            "x 9998 = -0.3660254037844386\n",
            "x 9999 = -0.3660254037844387\n",
            "x 10000 = -0.3660254037844386\n"
          ]
        }
      ]
    },
    {
      "cell_type": "markdown",
      "source": [
        "CAU 2"
      ],
      "metadata": {
        "id": "68DtrkkTwzdu"
      }
    },
    {
      "cell_type": "markdown",
      "source": [
        "A"
      ],
      "metadata": {
        "id": "f-nwtG3Uw3H1"
      }
    },
    {
      "cell_type": "code",
      "source": [
        "def fibo(n):\n",
        "  if n==0:\n",
        "    return 0\n",
        "  if n==1:\n",
        "    return 1 \n",
        "  return fibo(n-1) + fibo(n-2)   "
      ],
      "metadata": {
        "id": "OVnjfpkiw1m6"
      },
      "execution_count": 17,
      "outputs": []
    },
    {
      "cell_type": "code",
      "source": [
        "def thue(phan_tram): return lambda x:x * phan_tram \n",
        "hcm = thue(0.012)\n",
        "hcm(1000000000)"
      ],
      "metadata": {
        "colab": {
          "base_uri": "https://localhost:8080/"
        },
        "id": "eVlaLjwcxoIq",
        "outputId": "bdcb039c-1b73-4935-b355-8526a4d41a0a"
      },
      "execution_count": 18,
      "outputs": [
        {
          "output_type": "execute_result",
          "data": {
            "text/plain": [
              "12000000.0"
            ]
          },
          "metadata": {},
          "execution_count": 18
        }
      ]
    },
    {
      "cell_type": "code",
      "source": [
        "hinhthang=lambda f,a,b:(b-a)*(f(a)+f(b))/2\n",
        "def hai_x(x):\n",
        "  return 2*x\n",
        "hinhthang(hai_x, 1, 2)"
      ],
      "metadata": {
        "colab": {
          "base_uri": "https://localhost:8080/"
        },
        "id": "XxG88iR6yDVv",
        "outputId": "15f514f4-b2df-486b-d741-2e3981412a69"
      },
      "execution_count": 22,
      "outputs": [
        {
          "output_type": "execute_result",
          "data": {
            "text/plain": [
              "3.0"
            ]
          },
          "metadata": {},
          "execution_count": 22
        }
      ]
    },
    {
      "cell_type": "code",
      "source": [
        "from sympy import sin, solve,Symbol \n",
        "u = Symbol(\"\")"
      ],
      "metadata": {
        "id": "ORMQNCA9yzc6"
      },
      "execution_count": null,
      "outputs": []
    }
  ]
}