{
  "nbformat": 4,
  "nbformat_minor": 0,
  "metadata": {
    "colab": {
      "name": " Baitapnhap.ipynb",
      "provenance": [],
      "authorship_tag": "ABX9TyPK6kBb7waUAWYwOSE5CRsk",
      "include_colab_link": true
    },
    "kernelspec": {
      "name": "python3",
      "display_name": "Python 3"
    },
    "language_info": {
      "name": "python"
    }
  },
  "cells": [
    {
      "cell_type": "markdown",
      "metadata": {
        "id": "view-in-github",
        "colab_type": "text"
      },
      "source": [
        "<a href=\"https://colab.research.google.com/github/HoHoangQuan/THtoancaocap/blob/main/Baitapnhap.ipynb\" target=\"_parent\"><img src=\"https://colab.research.google.com/assets/colab-badge.svg\" alt=\"Open In Colab\"/></a>"
      ]
    },
    {
      "cell_type": "markdown",
      "source": [
        "CAU 1 "
      ],
      "metadata": {
        "id": "ByNpW918tAKC"
      }
    },
    {
      "cell_type": "markdown",
      "source": [
        "A\n"
      ],
      "metadata": {
        "id": "wXWl-rvbuPMl"
      }
    },
    {
      "cell_type": "code",
      "execution_count": null,
      "metadata": {
        "id": "LPSdE88VX02t",
        "colab": {
          "base_uri": "https://localhost:8080/"
        },
        "outputId": "7f5239a3-4f9f-4865-8988-fe56e875408c"
      },
      "outputs": [
        {
          "output_type": "stream",
          "name": "stdout",
          "text": [
            "x 10 = 3791862310265926082868235028027893277370233152247388584761734150717768254410341175325352026\n"
          ]
        }
      ],
      "source": [
        "x = 0 \n",
        "tong=0\n",
        "while True : \n",
        "  if tong==10: \n",
        "    print(\"x\",tong,\"=\",x)\n",
        "    break \n",
        "  else:\n",
        "    x=(x*x)+1 \n",
        "    tong= tong+1 \n"
      ]
    },
    {
      "cell_type": "markdown",
      "source": [
        "B"
      ],
      "metadata": {
        "id": "u6ebl7pVuSC8"
      }
    },
    {
      "cell_type": "code",
      "source": [
        "x = 0 \n",
        "tong=0\n",
        "while True : \n",
        "  if tong==10: \n",
        "    break \n",
        "  else:\n",
        "    x=(x*x)+1 \n",
        "    tong= tong+1 \n",
        "    print(\"x\",tong,\"=\",x)"
      ],
      "metadata": {
        "colab": {
          "base_uri": "https://localhost:8080/"
        },
        "id": "06FZ1J1fuNnv",
        "outputId": "50695d87-2c70-45f1-ce2c-5bafa4b94377"
      },
      "execution_count": null,
      "outputs": [
        {
          "output_type": "stream",
          "name": "stdout",
          "text": [
            "x 1 = 1\n",
            "x 2 = 2\n",
            "x 3 = 5\n",
            "x 4 = 26\n",
            "x 5 = 677\n",
            "x 6 = 458330\n",
            "x 7 = 210066388901\n",
            "x 8 = 44127887745906175987802\n",
            "x 9 = 1947270476915296449559703445493848930452791205\n",
            "x 10 = 3791862310265926082868235028027893277370233152247388584761734150717768254410341175325352026\n"
          ]
        }
      ]
    },
    {
      "cell_type": "markdown",
      "source": [
        "C"
      ],
      "metadata": {
        "id": "egpte33VugPT"
      }
    },
    {
      "cell_type": "code",
      "source": [
        "import math \n",
        "x=1000\n",
        "tong=0\n",
        "while True : \n",
        "  if tong==10: \n",
        "    break \n",
        "  else:\n",
        "    a=math.sqrt(x+1) \n",
        "    tong= tong+1 \n",
        "    print(\"x\",tong,\"=\",a)"
      ],
      "metadata": {
        "colab": {
          "base_uri": "https://localhost:8080/"
        },
        "id": "QJPitRikug4W",
        "outputId": "2f5b2777-4325-45ec-e3fc-6ec1ac16f5f7"
      },
      "execution_count": null,
      "outputs": [
        {
          "output_type": "stream",
          "name": "stdout",
          "text": [
            "x 1 = 31.63858403911275\n",
            "x 2 = 31.63858403911275\n",
            "x 3 = 31.63858403911275\n",
            "x 4 = 31.63858403911275\n",
            "x 5 = 31.63858403911275\n",
            "x 6 = 31.63858403911275\n",
            "x 7 = 31.63858403911275\n",
            "x 8 = 31.63858403911275\n",
            "x 9 = 31.63858403911275\n",
            "x 10 = 31.63858403911275\n"
          ]
        }
      ]
    },
    {
      "cell_type": "markdown",
      "source": [
        "D"
      ],
      "metadata": {
        "id": "tG0WG8o_vQau"
      }
    },
    {
      "cell_type": "code",
      "source": [
        "x = 0 \n",
        "tong=0\n",
        "while True : \n",
        "  if tong==9996: \n",
        "    print(\"x\",tong,\"=\",x)\n",
        "  if tong==9997: \n",
        "    print(\"x\",tong,\"=\",x)\n",
        "  if tong==9998: \n",
        "    print(\"x\",tong,\"=\",x)\n",
        "  if tong==9999:  \n",
        "    print(\"x\",tong,\"=\",x)\n",
        "  if tong==10000:\n",
        "    print(\"x\",tong,\"=\",x) \n",
        "    break \n",
        "  else:\n",
        "    x=(x*x)-0.5 \n",
        "    tong= tong+1 "
      ],
      "metadata": {
        "colab": {
          "base_uri": "https://localhost:8080/"
        },
        "id": "EQSssiaIvROY",
        "outputId": "4237c10d-c6df-4beb-f3c0-ee2608cedf9d"
      },
      "execution_count": null,
      "outputs": [
        {
          "output_type": "stream",
          "name": "stdout",
          "text": [
            "x 9996 = -0.3660254037844386\n",
            "x 9997 = -0.3660254037844387\n",
            "x 9998 = -0.3660254037844386\n",
            "x 9999 = -0.3660254037844387\n",
            "x 10000 = -0.3660254037844386\n"
          ]
        }
      ]
    },
    {
      "cell_type": "markdown",
      "source": [
        "CAU 2"
      ],
      "metadata": {
        "id": "68DtrkkTwzdu"
      }
    },
    {
      "cell_type": "markdown",
      "source": [
        "A"
      ],
      "metadata": {
        "id": "f-nwtG3Uw3H1"
      }
    },
    {
      "cell_type": "code",
      "source": [
        "def fibo(n):\n",
        "  if n==0:\n",
        "    return 0\n",
        "  if n==1:\n",
        "    return 1 \n",
        "  return fibo(n-1) + fibo(n-2)   "
      ],
      "metadata": {
        "id": "OVnjfpkiw1m6"
      },
      "execution_count": null,
      "outputs": []
    },
    {
      "cell_type": "code",
      "source": [
        "def thue(phan_tram): return lambda x:x * phan_tram \n",
        "hcm = thue(0.012)\n",
        "hcm(1000000000)"
      ],
      "metadata": {
        "colab": {
          "base_uri": "https://localhost:8080/"
        },
        "id": "eVlaLjwcxoIq",
        "outputId": "bdcb039c-1b73-4935-b355-8526a4d41a0a"
      },
      "execution_count": null,
      "outputs": [
        {
          "output_type": "execute_result",
          "data": {
            "text/plain": [
              "12000000.0"
            ]
          },
          "metadata": {},
          "execution_count": 18
        }
      ]
    },
    {
      "cell_type": "code",
      "source": [
        "hinhthang=lambda f,a,b:(b-a)*(f(a)+f(b))/2\n",
        "def hai_x(x):\n",
        "  return 2*x\n",
        "hinhthang(hai_x, 1, 2)"
      ],
      "metadata": {
        "colab": {
          "base_uri": "https://localhost:8080/"
        },
        "id": "XxG88iR6yDVv",
        "outputId": "15f514f4-b2df-486b-d741-2e3981412a69"
      },
      "execution_count": null,
      "outputs": [
        {
          "output_type": "execute_result",
          "data": {
            "text/plain": [
              "3.0"
            ]
          },
          "metadata": {},
          "execution_count": 22
        }
      ]
    },
    {
      "cell_type": "markdown",
      "source": [
        "CAU 3 "
      ],
      "metadata": {
        "id": "KJKOwPXqsKCy"
      }
    },
    {
      "cell_type": "code",
      "source": [
        "from sympy import sin, solve,Symbol \n",
        "u = Symbol(\"u\")\n",
        "t = Symbol(\"t\")\n",
        "g = Symbol(\"g\")\n",
        "theta = Symbol('theta')\n",
        "solve(u*sin(theta)-g*t,t)\n"
      ],
      "metadata": {
        "id": "ORMQNCA9yzc6",
        "outputId": "c8178128-4e6d-4d13-b362-2c3162067126",
        "colab": {
          "base_uri": "https://localhost:8080/"
        }
      },
      "execution_count": 1,
      "outputs": [
        {
          "output_type": "execute_result",
          "data": {
            "text/plain": [
              "[u*sin(theta)/g]"
            ]
          },
          "metadata": {},
          "execution_count": 1
        }
      ]
    },
    {
      "cell_type": "code",
      "source": [
        "from sympy import Symbol,solve,Derivative \n",
        "x=Symbol('x')\n",
        "f=x**5-30*x**3+50*x \n",
        "d1=Derivative(f,x).doit()\n",
        "cuctri=solve(d1)\n",
        "print(cuctri)"
      ],
      "metadata": {
        "id": "hv_xgvAoszCR",
        "outputId": "eea8f2c0-5898-45fa-c721-bf2ba68c2eae",
        "colab": {
          "base_uri": "https://localhost:8080/"
        }
      },
      "execution_count": 4,
      "outputs": [
        {
          "output_type": "stream",
          "name": "stdout",
          "text": [
            "[-sqrt(9 - sqrt(71)), sqrt(9 - sqrt(71)), -sqrt(sqrt(71) + 9), sqrt(sqrt(71) + 9)]\n"
          ]
        }
      ]
    },
    {
      "cell_type": "markdown",
      "source": [
        "CAU 4 "
      ],
      "metadata": {
        "id": "wvJw38hTt0jh"
      }
    },
    {
      "cell_type": "markdown",
      "source": [
        "A"
      ],
      "metadata": {
        "id": "wwSBxOW6umdx"
      }
    },
    {
      "cell_type": "code",
      "source": [
        "from sympy import Symbol,Limit ,S\n",
        "x = Symbol(\"x\")\n",
        "Limit(1/x, x, S.Infinity)\n"
      ],
      "metadata": {
        "id": "Q7Fm9liPtbkI",
        "outputId": "33e2617d-5c88-4e02-b286-48bf725a1b59",
        "colab": {
          "base_uri": "https://localhost:8080/",
          "height": 51
        }
      },
      "execution_count": 7,
      "outputs": [
        {
          "output_type": "execute_result",
          "data": {
            "text/plain": [
              "Limit(1/x, x, oo, dir='-')"
            ],
            "text/latex": "$\\displaystyle \\lim_{x \\to \\infty} \\frac{1}{x}$"
          },
          "metadata": {},
          "execution_count": 7
        }
      ]
    },
    {
      "cell_type": "code",
      "source": [
        "gioihan = Limit(1/x, x, S.Infinity)\n",
        "gioihan.doit "
      ],
      "metadata": {
        "id": "RnITo-5LuYAe",
        "outputId": "696d4a84-6898-451d-bd50-93e1384850c0",
        "colab": {
          "base_uri": "https://localhost:8080/"
        }
      },
      "execution_count": 9,
      "outputs": [
        {
          "output_type": "execute_result",
          "data": {
            "text/plain": [
              "<bound method Limit.doit of Limit(1/x, x, oo, dir='-')>"
            ]
          },
          "metadata": {},
          "execution_count": 9
        }
      ]
    },
    {
      "cell_type": "markdown",
      "source": [
        "B"
      ],
      "metadata": {
        "id": "8RDwBA-3ukcQ"
      }
    },
    {
      "cell_type": "code",
      "source": [
        "Limit(1/x, x, 0, dir='-').doit()"
      ],
      "metadata": {
        "id": "8ltmtRZfujtM",
        "outputId": "6c2830e2-7be3-4f10-8765-13aaf145bde1",
        "colab": {
          "base_uri": "https://localhost:8080/",
          "height": 37
        }
      },
      "execution_count": 10,
      "outputs": [
        {
          "output_type": "execute_result",
          "data": {
            "text/plain": [
              "-oo"
            ],
            "text/latex": "$\\displaystyle -\\infty$"
          },
          "metadata": {},
          "execution_count": 10
        }
      ]
    },
    {
      "cell_type": "code",
      "source": [
        "Limit(1/x , x, 0, dir='+').doit()"
      ],
      "metadata": {
        "id": "1Y1XbSAyu3Oe",
        "outputId": "84a47761-4dce-425a-9ee7-61289797ad98",
        "colab": {
          "base_uri": "https://localhost:8080/",
          "height": 37
        }
      },
      "execution_count": 11,
      "outputs": [
        {
          "output_type": "execute_result",
          "data": {
            "text/plain": [
              "oo"
            ],
            "text/latex": "$\\displaystyle \\infty$"
          },
          "metadata": {},
          "execution_count": 11
        }
      ]
    },
    {
      "cell_type": "code",
      "source": [
        "Limit(sin(x)/x, x, 0).doit()"
      ],
      "metadata": {
        "id": "M2TI9ujBvBh4",
        "outputId": "c0e26188-2b94-457e-bbd7-c9a0ad82a7d1",
        "colab": {
          "base_uri": "https://localhost:8080/",
          "height": 37
        }
      },
      "execution_count": 15,
      "outputs": [
        {
          "output_type": "execute_result",
          "data": {
            "text/plain": [
              "1"
            ],
            "text/latex": "$\\displaystyle 1$"
          },
          "metadata": {},
          "execution_count": 15
        }
      ]
    },
    {
      "cell_type": "code",
      "source": [
        "Limit(x*sin(1/x), x, S.Infinity)"
      ],
      "metadata": {
        "id": "eAGmmkCivtHV",
        "outputId": "b2df9411-0aa5-4975-8d4b-abf82d91c23a",
        "colab": {
          "base_uri": "https://localhost:8080/",
          "height": 57
        }
      },
      "execution_count": 16,
      "outputs": [
        {
          "output_type": "execute_result",
          "data": {
            "text/plain": [
              "Limit(x*sin(1/x), x, oo, dir='-')"
            ],
            "text/latex": "$\\displaystyle \\lim_{x \\to \\infty}\\left(x \\sin{\\left(\\frac{1}{x} \\right)}\\right)$"
          },
          "metadata": {},
          "execution_count": 16
        }
      ]
    },
    {
      "cell_type": "markdown",
      "source": [
        "CAU 5 "
      ],
      "metadata": {
        "id": "xdXizhhdwQ2K"
      }
    },
    {
      "cell_type": "code",
      "source": [
        "from sympy import Derivative, Symbol \n",
        "x = Symbol('x')\n",
        "f = (x**3+x**2+x)*(x**2+x)\n",
        "Derivative(f,x).doit()"
      ],
      "metadata": {
        "id": "HRGowoSbwTnh",
        "outputId": "bd2c2855-437a-4f2c-87af-e3059de33768",
        "colab": {
          "base_uri": "https://localhost:8080/",
          "height": 39
        }
      },
      "execution_count": 19,
      "outputs": [
        {
          "output_type": "execute_result",
          "data": {
            "text/plain": [
              "(2*x + 1)*(x**3 + x**2 + x) + (x**2 + x)*(3*x**2 + 2*x + 1)"
            ],
            "text/latex": "$\\displaystyle \\left(2 x + 1\\right) \\left(x^{3} + x^{2} + x\\right) + \\left(x^{2} + x\\right) \\left(3 x^{2} + 2 x + 1\\right)$"
          },
          "metadata": {},
          "execution_count": 19
        }
      ]
    },
    {
      "cell_type": "code",
      "source": [
        "import sympy \n",
        "f = sympy.sin(x)*sympy.cos(x)\n",
        "Derivative(f,x).doit()"
      ],
      "metadata": {
        "id": "OYAcHikTxVnw",
        "outputId": "d944b5f4-8946-4be7-e5bc-ea2ec12b9c3d",
        "colab": {
          "base_uri": "https://localhost:8080/",
          "height": 39
        }
      },
      "execution_count": 24,
      "outputs": [
        {
          "output_type": "execute_result",
          "data": {
            "text/plain": [
              "-sin(x)**2 + cos(x)**2"
            ],
            "text/latex": "$\\displaystyle - \\sin^{2}{\\left(x \\right)} + \\cos^{2}{\\left(x \\right)}$"
          },
          "metadata": {},
          "execution_count": 24
        }
      ]
    },
    {
      "cell_type": "code",
      "source": [
        "f = sympy.sin(2*x)\n",
        "Derivative(f,x).doit()"
      ],
      "metadata": {
        "id": "pQmF8PrCzfYO",
        "outputId": "18825778-d82c-4a4a-887b-1138e77ec593",
        "colab": {
          "base_uri": "https://localhost:8080/",
          "height": 39
        }
      },
      "execution_count": 26,
      "outputs": [
        {
          "output_type": "execute_result",
          "data": {
            "text/plain": [
              "2*cos(2*x)"
            ],
            "text/latex": "$\\displaystyle 2 \\cos{\\left(2 x \\right)}$"
          },
          "metadata": {},
          "execution_count": 26
        }
      ]
    },
    {
      "cell_type": "markdown",
      "source": [
        "CAU 6 \n"
      ],
      "metadata": {
        "id": "CG5gG9vQz1JJ"
      }
    },
    {
      "cell_type": "code",
      "source": [
        "from sympy import Integral, Symbol\n",
        "x = Symbol('x')\n",
        "k = Symbol('k')\n",
        "Integral(k*x,x).doit()"
      ],
      "metadata": {
        "id": "xbXkThN9zwCJ",
        "outputId": "3f738192-fedd-4c83-e48b-3b9a1d83c1ea",
        "colab": {
          "base_uri": "https://localhost:8080/",
          "height": 54
        }
      },
      "execution_count": 28,
      "outputs": [
        {
          "output_type": "execute_result",
          "data": {
            "text/plain": [
              "k*x**2/2"
            ],
            "text/latex": "$\\displaystyle \\frac{k x^{2}}{2}$"
          },
          "metadata": {},
          "execution_count": 28
        }
      ]
    },
    {
      "cell_type": "markdown",
      "source": [
        "CAU 7 "
      ],
      "metadata": {
        "id": "YrOtPVss0bqA"
      }
    },
    {
      "cell_type": "code",
      "source": [
        "from pylab import plot ,show \n",
        "x_numbers=[1,6,8]\n",
        "y_numbers=[2,5,9]\n",
        "plot(x_numbers,y_numbers)\n",
        "show()"
      ],
      "metadata": {
        "id": "uMtpOyMH0eqZ",
        "outputId": "613ac53b-8a52-4a28-89d9-dd379117575c",
        "colab": {
          "base_uri": "https://localhost:8080/",
          "height": 265
        }
      },
      "execution_count": 31,
      "outputs": [
        {
          "output_type": "display_data",
          "data": {
            "text/plain": [
              "<Figure size 432x288 with 1 Axes>"
            ],
            "image/png": "[encoded data removed]"
          },
          "metadata": {
            "needs_background": "light"
          }
        }
      ]
    },
    {
      "cell_type": "code",
      "source": [
        "hcm_rain=[13.8, 4.1, 10.5, 50.4, 218.4, 311.7]\n",
        "months = range(1,7)\n",
        "plot(months,hcm_rain,marker='o')\n",
        "show()"
      ],
      "metadata": {
        "id": "gyaeXuEV1MMT",
        "outputId": "bdaef483-65bf-4d30-f0a3-de34e5dc3846",
        "colab": {
          "base_uri": "https://localhost:8080/",
          "height": 265
        }
      },
      "execution_count": 36,
      "outputs": [
        {
          "output_type": "display_data",
          "data": {
            "text/plain": [
              "<Figure size 432x288 with 1 Axes>"
            ],
            "image/png": "[encoded data removed]"
          },
          "metadata": {
            "needs_background": "light"
          }
        }
      ]
    },
    {
      "cell_type": "code",
      "source": [
        "import numpy as np\n",
        "import matplotlib.pyplot as plt \n",
        "fs = [1,2,4]\n",
        "all_time = np.linspace(0,2,200)\n",
        "t = all_time[:100]\n",
        "\n",
        "for f in fs:\n",
        "  y = np.sin(2*np.pi*f*t)\n",
        "  plt.plot(t,y,label='{}Hz'.format(f)) \n",
        "plt.legend()  \n"
      ],
      "metadata": {
        "id": "QoIE-1Rz2WXy",
        "outputId": "cf54d4f5-7a8c-4198-c184-3c72bc17fa5e",
        "colab": {
          "base_uri": "https://localhost:8080/",
          "height": 284
        }
      },
      "execution_count": 41,
      "outputs": [
        {
          "output_type": "execute_result",
          "data": {
            "text/plain": [
              "<matplotlib.legend.Legend at 0x7f1fa123f490>"
            ]
          },
          "metadata": {},
          "execution_count": 41
        },
        {
          "output_type": "display_data",
          "data": {
            "text/plain": [
              "<Figure size 432x288 with 1 Axes>"
            ],
            "image/png": "[encoded data removed]"
          },
          "metadata": {
            "needs_background": "light"
          }
        }
      ]
    },
    {
      "cell_type": "code",
      "source": [
        ""
      ],
      "metadata": {
        "id": "uo9jPmfF3qyU"
      },
      "execution_count": null,
      "outputs": []
    }
  ]
}