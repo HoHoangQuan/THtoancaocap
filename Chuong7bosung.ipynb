{
  "nbformat": 4,
  "nbformat_minor": 0,
  "metadata": {
    "colab": {
      "name": " Chuong7bosung.ipynb",
      "provenance": [],
      "authorship_tag": "ABX9TyN3Vygr6FzoEsghllAJOKF+",
      "include_colab_link": true
    },
    "kernelspec": {
      "name": "python3",
      "display_name": "Python 3"
    },
    "language_info": {
      "name": "python"
    }
  },
  "cells": [
    {
      "cell_type": "markdown",
      "metadata": {
        "id": "view-in-github",
        "colab_type": "text"
      },
      "source": [
        "<a href=\"https://colab.research.google.com/github/HoHoangQuan/THtoancaocap/blob/main/Chuong7bosung.ipynb\" target=\"_parent\"><img src=\"https://colab.research.google.com/assets/colab-badge.svg\" alt=\"Open In Colab\"/></a>"
      ]
    },
    {
      "cell_type": "code",
      "execution_count": 18,
      "metadata": {
        "id": "82kqdI3SFP0Y"
      },
      "outputs": [],
      "source": [
        "import math\n",
        "import sys\n",
        "class Graph():\n",
        "  def __init__(cung, dinh):\n",
        "    cung.x = dinh\n",
        "    cung.graph = [[0 for column in range(dinh)]\n",
        "                  for row in range(dinh)]\n",
        "  def inketqua(cung, L, a):\n",
        "    print (\"đỉnh nguồn xuất phát từ: \")\n",
        "    for nut in range(cung.x):\n",
        "      print (a,\" đến đỉnh \",nut, \"độ dài đường đi là: \", L[nut])\n",
        "  def duongdinhonhat(cung, L, P):\n",
        "    min = sys.maxsize\n",
        "    for x in range(cung.x):\n",
        "      if L[x] < min and P[x] == False:\n",
        "        min = L[x]\n",
        "        min_index = x\n",
        "    return min_index\n",
        "  def timduongdi(cung, a):\n",
        "    L = [sys.maxsize] * cung.x\n",
        "    L[a] = 0\n",
        "    P = [False] * cung.x\n",
        "    for cout in range(cung.x):\n",
        "      u = cung.duongdinhonhat(L, P)\n",
        "      P[u] = True\n",
        "      for x in range(cung.x):\n",
        "        if cung.graph[u][x]>0 and P[x]== False and L[x] > L[u] + cung.graph[u][x]:\n",
        "          L[x]=L[u] + cung.graph[u][x]\n",
        "    cung.inketqua(L,a)"
      ]
    },
    {
      "cell_type": "code",
      "source": [
        "g = Graph(6)"
      ],
      "metadata": {
        "id": "i2TuG8cZJUoL"
      },
      "execution_count": 16,
      "outputs": []
    },
    {
      "cell_type": "code",
      "source": [
        "g.graph = [[0, 2, 0, 1, 0, 0],\n",
        " [3, 0, 8, 4, 0, 0],\n",
        " [0, 2, 0, 0, 7, 4],\n",
        " [4, 2, 0, 0, 2, 0],\n",
        " [0, 0, 11, 1, 0, 5],\n",
        " [0, 0, 3, 0, 5, 0]\n",
        " ];\n",
        "g.timduongdi(0);\n"
      ],
      "metadata": {
        "colab": {
          "base_uri": "https://localhost:8080/"
        },
        "id": "garDsQ3gJa_t",
        "outputId": "9e82bac8-967b-4eb6-9791-597da73cc047"
      },
      "execution_count": 19,
      "outputs": [
        {
          "output_type": "stream",
          "name": "stdout",
          "text": [
            "đỉnh nguồn xuất phát từ: \n",
            "0  đến đỉnh  0 độ dài đường đi là:  0\n",
            "0  đến đỉnh  1 độ dài đường đi là:  2\n",
            "0  đến đỉnh  2 độ dài đường đi là:  10\n",
            "0  đến đỉnh  3 độ dài đường đi là:  1\n",
            "0  đến đỉnh  4 độ dài đường đi là:  3\n",
            "0  đến đỉnh  5 độ dài đường đi là:  8\n"
          ]
        }
      ]
    },
    {
      "cell_type": "code",
      "source": [
        "g.graph = [[0, 3, 0, 1, 0, 0],\n",
        " [3, 0, 5, 2, 0, 0],\n",
        " [0, 5, 0, 0, 4, 2],\n",
        " [1, 2, 0, 0, 6, 0],\n",
        " [0, 0, 4, 6, 0, 7],\n",
        " [0, 0, 2, 0, 7, 0]\n",
        " ];\n",
        "g.timduongdi(0);"
      ],
      "metadata": {
        "colab": {
          "base_uri": "https://localhost:8080/"
        },
        "id": "4GJat9xlJ1WC",
        "outputId": "5d217ad3-57fe-41fb-d006-c340d76638d7"
      },
      "execution_count": 12,
      "outputs": [
        {
          "output_type": "stream",
          "name": "stdout",
          "text": [
            "đỉnh nguồn xuất phát từ: \n",
            "0  đến đỉnh  0 độ dài đường đi là:  0\n",
            "0  đến đỉnh  1 độ dài đường đi là:  3\n",
            "0  đến đỉnh  2 độ dài đường đi là:  8\n",
            "0  đến đỉnh  3 độ dài đường đi là:  1\n",
            "0  đến đỉnh  4 độ dài đường đi là:  7\n",
            "0  đến đỉnh  5 độ dài đường đi là:  10\n"
          ]
        }
      ]
    },
    {
      "cell_type": "code",
      "source": [
        "g.graph = [[0, 4, 0, 1, 0, 0],\n",
        " [0, 0, 8, 0, 0, 0],\n",
        " [0, 0, 0, 0, 0, 4],\n",
        " [0, 0, 9, 0, 5, 0],\n",
        " [0, 0, 1, 0, 0, 7],\n",
        " [0, 0, 0, 0, 0, 0]\n",
        " ];\n",
        "g.timduongdi(0);"
      ],
      "metadata": {
        "colab": {
          "base_uri": "https://localhost:8080/"
        },
        "id": "qsbZ5wBRJ8mh",
        "outputId": "224ebd08-1615-4fb5-c2b5-d216afd3d8c7"
      },
      "execution_count": 13,
      "outputs": [
        {
          "output_type": "stream",
          "name": "stdout",
          "text": [
            "đỉnh nguồn xuất phát từ: \n",
            "0  đến đỉnh  0 độ dài đường đi là:  0\n",
            "0  đến đỉnh  1 độ dài đường đi là:  4\n",
            "0  đến đỉnh  2 độ dài đường đi là:  7\n",
            "0  đến đỉnh  3 độ dài đường đi là:  1\n",
            "0  đến đỉnh  4 độ dài đường đi là:  6\n",
            "0  đến đỉnh  5 độ dài đường đi là:  11\n"
          ]
        }
      ]
    }
  ]
}