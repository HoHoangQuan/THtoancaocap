{
  "nbformat": 4,
  "nbformat_minor": 0,
  "metadata": {
    "colab": {
      "name": "KTgiuakylan2.ipynb",
      "provenance": [],
      "authorship_tag": "ABX9TyNYWI8zXoLD6uK1Nk9BpWs7",
      "include_colab_link": true
    },
    "kernelspec": {
      "name": "python3",
      "display_name": "Python 3"
    },
    "language_info": {
      "name": "python"
    }
  },
  "cells": [
    {
      "cell_type": "markdown",
      "metadata": {
        "id": "view-in-github",
        "colab_type": "text"
      },
      "source": [
        "<a href=\"https://colab.research.google.com/github/HoHoangQuan/THtoancaocap/blob/main/KTgiuakylan2.ipynb\" target=\"_parent\"><img src=\"https://colab.research.google.com/assets/colab-badge.svg\" alt=\"Open In Colab\"/></a>"
      ]
    },
    {
      "cell_type": "markdown",
      "source": [
        "BAI 1"
      ],
      "metadata": {
        "id": "N-Q2_Ey4gibG"
      }
    },
    {
      "cell_type": "code",
      "source": [
        "trang_thai = \"s0\"\n",
        "def chuyen(tin_hieu):\n",
        "  global trang_thai \n",
        "  if trang_thai ==\"s0\":\n",
        "    if tin_hieu == 1:\n",
        "      print(\"1 - s0\")\n",
        "      trang_thai =\"s0\"\n",
        "    elif tin_hieu ==0: \n",
        "      print(\"0 - s1\")\n",
        "      trang_thai = \"s1\"\n",
        "  elif trang_thai ==\"s1\": \n",
        "    if tin_hieu == 1 :\n",
        "      print(\"1 - s1\")\n",
        "      trang_thai = \"s1\"\n",
        "    elif tin_hieu ==0: \n",
        "      print(\"1 -s2\")\n",
        "      trang_thai = \"s2\"\n",
        "  elif trang_thai ==\"s2\":\n",
        "    if tin_hieu==1:\n",
        "      print(\"1-s2\")\n",
        "      trang_thai=\"s2\"\n",
        "    elif tin_hieu ==0:\n",
        "      print(\"0 - s0\")\n",
        "      trang_thai =\"s0\""
      ],
      "metadata": {
        "id": "Ns_BTXn6WFJM"
      },
      "execution_count": null,
      "outputs": []
    },
    {
      "cell_type": "code",
      "source": [
        "tap_tinhieu = [1,0,1,0,1,0]  \n",
        "for i in tap_tinhieu:\n",
        " chuyen(i)"
      ],
      "metadata": {
        "colab": {
          "base_uri": "https://localhost:8080/"
        },
        "id": "z7IZ4ICcePTi",
        "outputId": "26eb2546-aa25-4b95-c553-e38d898f2040"
      },
      "execution_count": null,
      "outputs": [
        {
          "output_type": "stream",
          "name": "stdout",
          "text": [
            "1 - s0\n",
            "0 - s1\n",
            "1 - s1\n",
            "1 -s2\n",
            "1-s2\n",
            "0 - s0\n"
          ]
        }
      ]
    },
    {
      "cell_type": "markdown",
      "source": [
        "BAI 2"
      ],
      "metadata": {
        "id": "R4KBL8eDWEVs"
      }
    },
    {
      "cell_type": "code",
      "execution_count": null,
      "metadata": {
        "id": "ucC3Sg68U4XC"
      },
      "outputs": [],
      "source": [
        "import math\n",
        "import sys\n",
        "class Graph():\n",
        "  def __init__(cung, dinh):\n",
        "    cung.x = dinh\n",
        "    cung.graph = [[0 for column in range(dinh)]\n",
        "                  for row in range(dinh)]\n",
        "  def inketqua(cung, L, a):\n",
        "    print (\"đỉnh nguồn xuất phát từ: \")\n",
        "    for nut in range(cung.x):\n",
        "      print (a,\" đến đỉnh \",nut, \"độ dài đường đi là: \", L[nut])\n",
        "  def duongdinhonhat(cung, L, P):\n",
        "    min = sys.maxsize\n",
        "    for x in range(cung.x):\n",
        "      if L[x] < min and P[x] == False:\n",
        "        min = L[x]\n",
        "        min_index = x\n",
        "    return min_index\n",
        "  def timduongdi(cung, a):\n",
        "    L = [sys.maxsize] * cung.x\n",
        "    L[a] = 0\n",
        "    P = [False] * cung.x\n",
        "    for cout in range(cung.x):\n",
        "      u = cung.duongdinhonhat(L, P)\n",
        "      P[u] = True\n",
        "      for x in range(cung.x):\n",
        "        if cung.graph[u][x]>0 and P[x]== False and L[x] > L[u] + cung.graph[u][x]:\n",
        "          L[x]=L[u] + cung.graph[u][x]\n",
        "    cung.inketqua(L,a)"
      ]
    },
    {
      "cell_type": "code",
      "source": [
        "g = Graph(6)"
      ],
      "metadata": {
        "id": "qTm3smYiV0uB"
      },
      "execution_count": null,
      "outputs": []
    },
    {
      "cell_type": "code",
      "source": [
        "g.graph = [[0, 4, 0, 1, 0, 0],\n",
        "[0, 0, 8, 0, 0, 0],\n",
        "[0, 0, 0, 0, 0, 4],\n",
        "[0, 0, 9, 0, 5, 0],\n",
        "[0, 0, 1, 0, 0, 7],\n",
        "[0, 0, 0, 0, 0, 0]\n",
        "];\n",
        "g.timduongdi(0);"
      ],
      "metadata": {
        "colab": {
          "base_uri": "https://localhost:8080/"
        },
        "id": "4rY1DlfQV3Ck",
        "outputId": "c2f04865-13f7-44ab-f98b-483697b3db6d"
      },
      "execution_count": 24,
      "outputs": [
        {
          "output_type": "stream",
          "name": "stdout",
          "text": [
            "đỉnh nguồn xuất phát từ: \n",
            "0  đến đỉnh  0 độ dài đường đi là:  0\n",
            "0  đến đỉnh  1 độ dài đường đi là:  4\n",
            "0  đến đỉnh  2 độ dài đường đi là:  7\n",
            "0  đến đỉnh  3 độ dài đường đi là:  1\n",
            "0  đến đỉnh  4 độ dài đường đi là:  6\n",
            "0  đến đỉnh  5 độ dài đường đi là:  11\n"
          ]
        }
      ]
    },
    {
      "cell_type": "markdown",
      "source": [
        "BAI 3"
      ],
      "metadata": {
        "id": "e3WRM8HOhaut"
      }
    },
    {
      "cell_type": "code",
      "source": [
        "import networkx as nx\n",
        "g = nx.Graph()\n",
        "g.add_node('TP.HCM')\n",
        "g.add_node('Dong Nai')\n",
        "g.add_node('Ba Ria Vung Tau')\n",
        "g.add_node('Lam Dong')\n",
        "g.add_node('Can Tho')\n",
        "g.add_node('Long An')\n",
        "g.add_edge('TP.HCM', 'Dong Nai')\n",
        "g.add_edge('TP.HCM', 'Ba Ria Vung Tau')\n",
        "g.add_edge('TP.HCM', 'Long An')\n",
        "g.add_edge('Dong Nai', 'Lam Dong')\n",
        "g.add_edge('Dong Nai', 'Ba Ria Vung Tau')\n",
        "nx.shortest_path(g, 'Lam Dong', 'Long An')"
      ],
      "metadata": {
        "colab": {
          "base_uri": "https://localhost:8080/"
        },
        "id": "cxS6kzgIfQXt",
        "outputId": "ff4afc39-6cef-4864-8256-0ba27b679a54"
      },
      "execution_count": null,
      "outputs": [
        {
          "output_type": "execute_result",
          "data": {
            "text/plain": [
              "['Lam Dong', 'Dong Nai', 'TP.HCM', 'Long An']"
            ]
          },
          "metadata": {},
          "execution_count": 17
        }
      ]
    },
    {
      "cell_type": "markdown",
      "source": [
        "BAI 4"
      ],
      "metadata": {
        "id": "1LQOPBOhh43w"
      }
    },
    {
      "cell_type": "code",
      "source": [
        "import math \n",
        "import numpy as np"
      ],
      "metadata": {
        "id": "hsuQh3zoh6mR"
      },
      "execution_count": null,
      "outputs": []
    },
    {
      "cell_type": "code",
      "source": [
        "def tinh_huong(dem,m_dong,n_cot,vitri):\n",
        "  huong=np.zeros((m_dong,n_cot))\n",
        "  for dong in range(m_dong):\n",
        "    for cot in range(n_cot):\n",
        "      xx,yy,mymax=0,0,0\n",
        "      for i in range(-1,2):\n",
        "        for j in range(-1,2):\n",
        "          if(i*i+j>0)and\\\n",
        "           (dong+i>=0) and (dong+i<m_dong) and \\\n",
        "           (cot+j>=0)and(cot+j<n_cot)and\\\n",
        "      (mymax*math.sqrt(i*i+j)<dem[dong][cot]-dem[dong+i][cot+j]):\n",
        "              mymax=dem[dong][cot]-dem[dong+i][cot+j]\n",
        "              xx=i\n",
        "              yy=j\n",
        "      huong[dong][cot]=vitri[xx+1][yy+1]\n",
        "  return huong \n",
        "\n",
        "def tinh_tichluy(p,q,m_dong,n_cot):\n",
        "  for i in range(-1,2):\n",
        "    for j in range(-1,2):\n",
        "      if(i*i+j*j>0)and\\\n",
        "      (p+i>=0) and (p+i<m_dong)and\\\n",
        "      (q+j>=0) and (q+j<n_cot)and\\\n",
        "      (huong[p+i][q+j]==vitri[-(i-1)][-(j-1)]):\n",
        "          t1.append(1)\n",
        "          tinh_tichluy(p+i,q+j,m_dong,n_cot)\n",
        "  return len(t1)\n",
        "vitri=np.array([[32,64,128],[16,0,1],[8,4,2]])\n",
        "dem = np.array([ [78,72,69,71,58,49], \n",
        "                 [74,67,56,49,46,50], \n",
        "                 [69,53,44,37,38,48], \n",
        "                 [64,58,55,22,31,24], \n",
        "                 [68,61,47,21,16,19], \n",
        "                 [74,53,34,12,11,12] ]) \n",
        "m_dong = dem.shape[0] #6 \n",
        "n_cot = dem.shape[1] #6 \n",
        "tichluy = np.zeros((m_dong, n_cot)) #[ [0 for j in range(n_cot)] for i in range(m_dong)] \n",
        "huong = tinh_huong(dem, 6,6, vitri) \n",
        "for i in range(m_dong): \n",
        " for j in range(n_cot): \n",
        "  t1 = [] \n",
        "  tichluy[i][j] = tinh_tichluy(i, j, m_dong, n_cot) \n",
        "print (dem) \n",
        "print (huong) \n",
        "print (tichluy)\n"
      ],
      "metadata": {
        "colab": {
          "base_uri": "https://localhost:8080/"
        },
        "id": "0D45aQ-BhcUS",
        "outputId": "d38b69fb-4e35-42e5-84b0-a11dbfc189b5"
      },
      "execution_count": null,
      "outputs": [
        {
          "output_type": "stream",
          "name": "stdout",
          "text": [
            "[[78 72 69 71 58 49]\n",
            " [74 67 56 49 46 50]\n",
            " [69 53 44 37 38 48]\n",
            " [64 58 55 22 31 24]\n",
            " [68 61 47 21 16 19]\n",
            " [74 53 34 12 11 12]]\n",
            "[[  2.   2.   2.   4.   4.   0.]\n",
            " [  2.   2.   2.   4.   4.   4.]\n",
            " [  1.   1.   2.   4.   2.   4.]\n",
            " [128. 128.   1.   2.   4.   4.]\n",
            " [  2.   2.   1.   4.   4.   4.]\n",
            " [  1.   1.   1.   1.   0.   0.]]\n",
            "[[ 0.  0.  0.  0.  0.  0.]\n",
            " [ 0.  1.  1.  2.  1.  0.]\n",
            " [ 0.  3.  7.  5.  2.  1.]\n",
            " [ 0.  0.  0. 15.  0.  5.]\n",
            " [ 0.  0.  0.  1. 17.  6.]\n",
            " [ 0.  2.  4.  7. 26.  7.]]\n"
          ]
        }
      ]
    }
  ]
}