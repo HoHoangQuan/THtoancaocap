{
  "nbformat": 4,
  "nbformat_minor": 0,
  "metadata": {
    "colab": {
      "name": "Toanroiracchuong3.ipynb",
      "provenance": [],
      "authorship_tag": "ABX9TyMn6nJDowqPQG9tVXjuoyrX",
      "include_colab_link": true
    },
    "kernelspec": {
      "name": "python3",
      "display_name": "Python 3"
    },
    "language_info": {
      "name": "python"
    }
  },
  "cells": [
    {
      "cell_type": "markdown",
      "metadata": {
        "id": "view-in-github",
        "colab_type": "text"
      },
      "source": [
        "<a href=\"https://colab.research.google.com/github/HoHoangQuan/THtoancaocap/blob/main/Toanroiracchuong3.ipynb\" target=\"_parent\"><img src=\"https://colab.research.google.com/assets/colab-badge.svg\" alt=\"Open In Colab\"/></a>"
      ]
    },
    {
      "cell_type": "code",
      "execution_count": 3,
      "metadata": {
        "colab": {
          "base_uri": "https://localhost:8080/"
        },
        "id": "NfiovaQc16vs",
        "outputId": "b2597961-26db-440b-abd0-58e6eac2a2b8"
      },
      "outputs": [
        {
          "output_type": "stream",
          "name": "stdout",
          "text": [
            "Ten cau thu VietNam:  Văn Lâm\n",
            "Ten cau thu VietNam:  Tiến Dũng\n",
            "Ten cau thu VietNam:  Anh Đức\n",
            "Ten cau thu VietNam:  Công Phượng\n"
          ]
        }
      ],
      "source": [
        "bongda_VN = ['Văn Lâm', 'Tiến Dũng', 'Anh Đức', 'Công Phượng']\n",
        "for cau_thu in bongda_VN:\n",
        " print (\"Ten cau thu VietNam: \", cau_thu)"
      ]
    },
    {
      "cell_type": "code",
      "source": [
        "bongda_TG = ['Messi', 'Ronaldo', 'Thonglao', 'Mbappé']\n",
        "for cau_thu in bongda_TG:\n",
        " print (\"Ten cau thu The gioi: \", cau_thu) "
      ],
      "metadata": {
        "colab": {
          "base_uri": "https://localhost:8080/"
        },
        "id": "j5JC-fke2V7D",
        "outputId": "3026af75-43d5-45a8-ef4a-49de2822c5ee"
      },
      "execution_count": 4,
      "outputs": [
        {
          "output_type": "stream",
          "name": "stdout",
          "text": [
            "Ten cau thu The gioi:  Messi\n",
            "Ten cau thu The gioi:  Ronaldo\n",
            "Ten cau thu The gioi:  Thonglao\n",
            "Ten cau thu The gioi:  Mbappé\n"
          ]
        }
      ]
    },
    {
      "cell_type": "code",
      "source": [
        "for bong_VN in bongda_VN:\n",
        " for bong_TG in bongda_TG:\n",
        "  print (\"Khả năng tranh chấp quả bóng vàng giữa: \", bong_VN, \" với \", bong_TG)"
      ],
      "metadata": {
        "colab": {
          "base_uri": "https://localhost:8080/"
        },
        "id": "peBe5wU_2aOa",
        "outputId": "f3bb3565-62a7-403e-cd12-d3bae41ccdaa"
      },
      "execution_count": 5,
      "outputs": [
        {
          "output_type": "stream",
          "name": "stdout",
          "text": [
            "Khả năng tranh chấp quả bóng vàng giữa:  Văn Lâm  với  Messi\n",
            "Khả năng tranh chấp quả bóng vàng giữa:  Văn Lâm  với  Ronaldo\n",
            "Khả năng tranh chấp quả bóng vàng giữa:  Văn Lâm  với  Thonglao\n",
            "Khả năng tranh chấp quả bóng vàng giữa:  Văn Lâm  với  Mbappé\n",
            "Khả năng tranh chấp quả bóng vàng giữa:  Tiến Dũng  với  Messi\n",
            "Khả năng tranh chấp quả bóng vàng giữa:  Tiến Dũng  với  Ronaldo\n",
            "Khả năng tranh chấp quả bóng vàng giữa:  Tiến Dũng  với  Thonglao\n",
            "Khả năng tranh chấp quả bóng vàng giữa:  Tiến Dũng  với  Mbappé\n",
            "Khả năng tranh chấp quả bóng vàng giữa:  Anh Đức  với  Messi\n",
            "Khả năng tranh chấp quả bóng vàng giữa:  Anh Đức  với  Ronaldo\n",
            "Khả năng tranh chấp quả bóng vàng giữa:  Anh Đức  với  Thonglao\n",
            "Khả năng tranh chấp quả bóng vàng giữa:  Anh Đức  với  Mbappé\n",
            "Khả năng tranh chấp quả bóng vàng giữa:  Công Phượng  với  Messi\n",
            "Khả năng tranh chấp quả bóng vàng giữa:  Công Phượng  với  Ronaldo\n",
            "Khả năng tranh chấp quả bóng vàng giữa:  Công Phượng  với  Thonglao\n",
            "Khả năng tranh chấp quả bóng vàng giữa:  Công Phượng  với  Mbappé\n"
          ]
        }
      ]
    },
    {
      "cell_type": "code",
      "source": [
        "N = 4  \n",
        "for i1 in range(0, N):\n",
        " for i2 in range(0, N):\n",
        "  for i3 in range(0, N):\n",
        "   print (i1, i2, i3) "
      ],
      "metadata": {
        "colab": {
          "base_uri": "https://localhost:8080/"
        },
        "id": "DQFstuf_3BAD",
        "outputId": "1481b6b4-0e7b-4a36-87ba-8fc70dc779c2"
      },
      "execution_count": 6,
      "outputs": [
        {
          "output_type": "stream",
          "name": "stdout",
          "text": [
            "0 0 0\n",
            "0 0 1\n",
            "0 0 2\n",
            "0 0 3\n",
            "0 1 0\n",
            "0 1 1\n",
            "0 1 2\n",
            "0 1 3\n",
            "0 2 0\n",
            "0 2 1\n",
            "0 2 2\n",
            "0 2 3\n",
            "0 3 0\n",
            "0 3 1\n",
            "0 3 2\n",
            "0 3 3\n",
            "1 0 0\n",
            "1 0 1\n",
            "1 0 2\n",
            "1 0 3\n",
            "1 1 0\n",
            "1 1 1\n",
            "1 1 2\n",
            "1 1 3\n",
            "1 2 0\n",
            "1 2 1\n",
            "1 2 2\n",
            "1 2 3\n",
            "1 3 0\n",
            "1 3 1\n",
            "1 3 2\n",
            "1 3 3\n",
            "2 0 0\n",
            "2 0 1\n",
            "2 0 2\n",
            "2 0 3\n",
            "2 1 0\n",
            "2 1 1\n",
            "2 1 2\n",
            "2 1 3\n",
            "2 2 0\n",
            "2 2 1\n",
            "2 2 2\n",
            "2 2 3\n",
            "2 3 0\n",
            "2 3 1\n",
            "2 3 2\n",
            "2 3 3\n",
            "3 0 0\n",
            "3 0 1\n",
            "3 0 2\n",
            "3 0 3\n",
            "3 1 0\n",
            "3 1 1\n",
            "3 1 2\n",
            "3 1 3\n",
            "3 2 0\n",
            "3 2 1\n",
            "3 2 2\n",
            "3 2 3\n",
            "3 3 0\n",
            "3 3 1\n",
            "3 3 2\n",
            "3 3 3\n"
          ]
        }
      ]
    },
    {
      "cell_type": "code",
      "source": [
        "for i1 in range(0, N):\n",
        " for i2 in range(0, N):\n",
        "  for i3 in range(0, N):\n",
        "   if i1 != i2 and i2 != i3 and i1 != i3:\n",
        "    print (i1, i2, i3) "
      ],
      "metadata": {
        "colab": {
          "base_uri": "https://localhost:8080/"
        },
        "id": "8wGHoBsZ3IDy",
        "outputId": "e30fecb9-ba45-499a-ec20-37e909a8899c"
      },
      "execution_count": 7,
      "outputs": [
        {
          "output_type": "stream",
          "name": "stdout",
          "text": [
            "0 1 2\n",
            "0 1 3\n",
            "0 2 1\n",
            "0 2 3\n",
            "0 3 1\n",
            "0 3 2\n",
            "1 0 2\n",
            "1 0 3\n",
            "1 2 0\n",
            "1 2 3\n",
            "1 3 0\n",
            "1 3 2\n",
            "2 0 1\n",
            "2 0 3\n",
            "2 1 0\n",
            "2 1 3\n",
            "2 3 0\n",
            "2 3 1\n",
            "3 0 1\n",
            "3 0 2\n",
            "3 1 0\n",
            "3 1 2\n",
            "3 2 0\n",
            "3 2 1\n"
          ]
        }
      ]
    },
    {
      "cell_type": "code",
      "source": [
        "for i1 in range(0, N):\n",
        " for i2 in range(i1+1, N):\n",
        "  for i3 in range(i2+1, N):\n",
        "   print (i1, i2, i3)"
      ],
      "metadata": {
        "colab": {
          "base_uri": "https://localhost:8080/"
        },
        "id": "HNCiMI9Z3RGi",
        "outputId": "9686fa20-611a-4a5f-f6cd-a22760278282"
      },
      "execution_count": 8,
      "outputs": [
        {
          "output_type": "stream",
          "name": "stdout",
          "text": [
            "0 1 2\n",
            "0 1 3\n",
            "0 2 3\n",
            "1 2 3\n"
          ]
        }
      ]
    },
    {
      "cell_type": "code",
      "source": [
        "for i1 in range(0, N):\n",
        " for i2 in range(i1, N):\n",
        "  for i3 in range(i2, N):\n",
        "   print (i1, i2, i3) "
      ],
      "metadata": {
        "colab": {
          "base_uri": "https://localhost:8080/"
        },
        "id": "5_GxuGMF3U4x",
        "outputId": "8ba4622f-8cf3-4c1c-9208-b2f85b0ff216"
      },
      "execution_count": 9,
      "outputs": [
        {
          "output_type": "stream",
          "name": "stdout",
          "text": [
            "0 0 0\n",
            "0 0 1\n",
            "0 0 2\n",
            "0 0 3\n",
            "0 1 1\n",
            "0 1 2\n",
            "0 1 3\n",
            "0 2 2\n",
            "0 2 3\n",
            "0 3 3\n",
            "1 1 1\n",
            "1 1 2\n",
            "1 1 3\n",
            "1 2 2\n",
            "1 2 3\n",
            "1 3 3\n",
            "2 2 2\n",
            "2 2 3\n",
            "2 3 3\n",
            "3 3 3\n"
          ]
        }
      ]
    },
    {
      "cell_type": "code",
      "source": [
        "N = 3\n",
        "ketqua = []\n",
        "for i1 in range(0, N):\n",
        " for i2 in range(i1, N):\n",
        "  for i3 in range(i2, N):\n",
        "   ketqua = ketqua + [(i1, i2, i3)]\n",
        "ketqua"
      ],
      "metadata": {
        "colab": {
          "base_uri": "https://localhost:8080/"
        },
        "id": "XpW36l3G3bi5",
        "outputId": "288b3af2-6c0a-48c0-fa89-f9838cf4f53b"
      },
      "execution_count": 10,
      "outputs": [
        {
          "output_type": "execute_result",
          "data": {
            "text/plain": [
              "[(0, 0, 0),\n",
              " (0, 0, 1),\n",
              " (0, 0, 2),\n",
              " (0, 1, 1),\n",
              " (0, 1, 2),\n",
              " (0, 2, 2),\n",
              " (1, 1, 1),\n",
              " (1, 1, 2),\n",
              " (1, 2, 2),\n",
              " (2, 2, 2)]"
            ]
          },
          "metadata": {},
          "execution_count": 10
        }
      ]
    },
    {
      "cell_type": "code",
      "source": [
        "def implies(a, b):\n",
        " if a:\n",
        "  return b\n",
        " else:\n",
        "  return True\n",
        "implies(10, 11)\n",
        "implies(1, 11)\n",
        "implies(0, 11) "
      ],
      "metadata": {
        "colab": {
          "base_uri": "https://localhost:8080/"
        },
        "id": "dk70ihoO3jmx",
        "outputId": "e15a7c22-d406-4d96-a993-56f52feecb3d"
      },
      "execution_count": 11,
      "outputs": [
        {
          "output_type": "execute_result",
          "data": {
            "text/plain": [
              "True"
            ]
          },
          "metadata": {},
          "execution_count": 11
        }
      ]
    },
    {
      "cell_type": "code",
      "source": [
        "x, y = 2, 3\n",
        "implies(x>=0 and y >=0, x*y >=0)"
      ],
      "metadata": {
        "colab": {
          "base_uri": "https://localhost:8080/"
        },
        "id": "j9fEZ42z3rfS",
        "outputId": "d2a002c7-2cc4-490c-ba32-64a4938e800c"
      },
      "execution_count": 12,
      "outputs": [
        {
          "output_type": "execute_result",
          "data": {
            "text/plain": [
              "True"
            ]
          },
          "metadata": {},
          "execution_count": 12
        }
      ]
    },
    {
      "cell_type": "code",
      "source": [
        "x, y = -2, 3 \n",
        "implies(x>=0 and y >=0, x*y >=0)"
      ],
      "metadata": {
        "colab": {
          "base_uri": "https://localhost:8080/"
        },
        "id": "-zh--VrE3rdZ",
        "outputId": "0734bc94-d97a-4490-b5c3-7bf833fede33"
      },
      "execution_count": 14,
      "outputs": [
        {
          "output_type": "execute_result",
          "data": {
            "text/plain": [
              "True"
            ]
          },
          "metadata": {},
          "execution_count": 14
        }
      ]
    },
    {
      "cell_type": "code",
      "source": [
        "N = 3\n",
        "ketqua = []\n",
        "for i1 in range(0, N):\n",
        " for i2 in range(i1, N):\n",
        "  for i3 in range(i2, N):\n",
        "   ketqua = ketqua + [(i1, i2, i3)]\n",
        "(0, 2, 2) in ketqua \n"
      ],
      "metadata": {
        "colab": {
          "base_uri": "https://localhost:8080/"
        },
        "id": "IRKVftzm3wP6",
        "outputId": "f555fc06-4de9-4ec5-915a-db24710985d0"
      },
      "execution_count": 15,
      "outputs": [
        {
          "output_type": "execute_result",
          "data": {
            "text/plain": [
              "True"
            ]
          },
          "metadata": {},
          "execution_count": 15
        }
      ]
    },
    {
      "cell_type": "code",
      "source": [
        "A = [0, 1, 2, 3, 4, 5, 6, 7]\n",
        "B = [2, 4, 6, 8, 10]\n",
        "def intersection(A, B):\n",
        " ketqua = []\n",
        " for x in A:\n",
        "  if x in B:\n",
        "   ketqua = ketqua + [x]\n",
        " return ketqua \n",
        "intersection(A,B) "
      ],
      "metadata": {
        "colab": {
          "base_uri": "https://localhost:8080/"
        },
        "id": "-OOh92na3ra4",
        "outputId": "df59244d-deb8-4c07-c617-3ee1f1458566"
      },
      "execution_count": 33,
      "outputs": [
        {
          "output_type": "execute_result",
          "data": {
            "text/plain": [
              "[2, 4, 6]"
            ]
          },
          "metadata": {},
          "execution_count": 33
        }
      ]
    },
    {
      "cell_type": "code",
      "source": [
        "def difference(A, B):\n",
        " ketqua = []\n",
        " for x in A:\n",
        "   if x not in B:\n",
        "    ketqua = ketqua + [x]\n",
        " return ketqua\n",
        " A = [0, 1, 2, 3, 4, 5, 6, 7]\n",
        " B = [2, 4, 6, 8, 10]\n",
        "difference(A, B)\n"
      ],
      "metadata": {
        "colab": {
          "base_uri": "https://localhost:8080/"
        },
        "id": "kc8pWfB03rYC",
        "outputId": "8528abc6-4e27-497c-e655-694eafef41d4"
      },
      "execution_count": 31,
      "outputs": [
        {
          "output_type": "execute_result",
          "data": {
            "text/plain": [
              "[0, 1, 3, 5, 7]"
            ]
          },
          "metadata": {},
          "execution_count": 31
        }
      ]
    },
    {
      "cell_type": "code",
      "source": [
        "def isSubSet(A, B):\n",
        " ketqua = True  \n",
        " for x in A:\n",
        "  if x not in B:\n",
        "   ketqua = False  \n",
        " return ketqua\n",
        " A = [0, 1, 2, 3, 4, 5, 6, 7]\n",
        " B = [2, 4, 6, 8, 10]\n",
        "isSubSet(A, B)"
      ],
      "metadata": {
        "colab": {
          "base_uri": "https://localhost:8080/"
        },
        "id": "uYXaZBYE3rVZ",
        "outputId": "5d04b37a-e6f6-41c7-a5e9-c593a3ef439e"
      },
      "execution_count": 30,
      "outputs": [
        {
          "output_type": "execute_result",
          "data": {
            "text/plain": [
              "False"
            ]
          },
          "metadata": {},
          "execution_count": 30
        }
      ]
    },
    {
      "cell_type": "code",
      "source": [
        "isSubSet(B,A)"
      ],
      "metadata": {
        "colab": {
          "base_uri": "https://localhost:8080/"
        },
        "id": "iLsVxZ0u3rS6",
        "outputId": "56f72c91-55e2-4c43-f133-3d88288a222b"
      },
      "execution_count": 28,
      "outputs": [
        {
          "output_type": "execute_result",
          "data": {
            "text/plain": [
              "False"
            ]
          },
          "metadata": {},
          "execution_count": 28
        }
      ]
    },
    {
      "cell_type": "code",
      "source": [
        "def equalSets(A, B):\n",
        " return isSubSet(A, B) and isSubSet(B, A)\n",
        "equalSets([1, 3, 5, 7], [7, 3, 1, 5])\n"
      ],
      "metadata": {
        "colab": {
          "base_uri": "https://localhost:8080/"
        },
        "id": "tZ8luWWz3rQV",
        "outputId": "6d5597eb-78c0-4f49-b559-20132b4ffbd8"
      },
      "execution_count": 34,
      "outputs": [
        {
          "output_type": "execute_result",
          "data": {
            "text/plain": [
              "True"
            ]
          },
          "metadata": {},
          "execution_count": 34
        }
      ]
    },
    {
      "cell_type": "code",
      "source": [
        "sodiem_DL = 9\n",
        "diadiem = ['Cần Giờ', 'Củ Chi', 'Chợ Bến Thành', 'Sở Thú', 'BV thẫm mỹ răng', 'Chí Hòa',\n",
        "'Dinh Độc lập', 'Bào tàng', 'Trường Văn Lang']\n",
        "thoigian = [1.0, 1.0, 0.6, 0.4, 1.5, 0.3, 0.3, 0.3, 0.6]\n",
        "songay_dulich = 1.5 "
      ],
      "metadata": {
        "id": "ZruEC8LI3rNq"
      },
      "execution_count": 35,
      "outputs": []
    },
    {
      "cell_type": "code",
      "source": [
        "def lietke_chuoinhiphan(n):\n",
        "  danh_sach=[]\n",
        "  for i in range(0,2**n):\n",
        "    gia_tri=i \n",
        "    chuoi_np=bin(gia_tri).replace('0b','')\n",
        "    while(len(chuoi_np)<n):\n",
        "      chuoi_np = '0'+chuoi_np\n",
        "    danh_sach.append(chuoi_np)\n",
        "  return danh_sach  "
      ],
      "metadata": {
        "id": "SkPynv8g3rLJ"
      },
      "execution_count": 48,
      "outputs": []
    },
    {
      "cell_type": "code",
      "source": [
        "bin(10)"
      ],
      "metadata": {
        "colab": {
          "base_uri": "https://localhost:8080/",
          "height": 35
        },
        "id": "p9HI1PJM7c-f",
        "outputId": "54ee5527-b215-44fd-901e-655d43554e3a"
      },
      "execution_count": 45,
      "outputs": [
        {
          "output_type": "execute_result",
          "data": {
            "text/plain": [
              "'0b1010'"
            ],
            "application/vnd.google.colaboratory.intrinsic+json": {
              "type": "string"
            }
          },
          "metadata": {},
          "execution_count": 45
        }
      ]
    },
    {
      "cell_type": "code",
      "source": [
        "bin(10).replace('0b', '')"
      ],
      "metadata": {
        "colab": {
          "base_uri": "https://localhost:8080/",
          "height": 35
        },
        "id": "5pLTPsPh3rIh",
        "outputId": "36b0c9c4-e87c-42d2-dc51-4d56bb7e36c8"
      },
      "execution_count": 38,
      "outputs": [
        {
          "output_type": "execute_result",
          "data": {
            "text/plain": [
              "'1010'"
            ],
            "application/vnd.google.colaboratory.intrinsic+json": {
              "type": "string"
            }
          },
          "metadata": {},
          "execution_count": 38
        }
      ]
    },
    {
      "cell_type": "code",
      "source": [
        "n = 9\n",
        "chuoi_np = bin(10).replace('0b','')\n",
        "while (len(chuoi_np) < n):\n",
        " chuoi_np = '0' + chuoi_np\n",
        "chuoi_np "
      ],
      "metadata": {
        "colab": {
          "base_uri": "https://localhost:8080/",
          "height": 35
        },
        "id": "3BLBb6iX3rAi",
        "outputId": "ac3a55c1-c9cd-4e76-9be2-805df14927bd"
      },
      "execution_count": 42,
      "outputs": [
        {
          "output_type": "execute_result",
          "data": {
            "text/plain": [
              "'000001010'"
            ],
            "application/vnd.google.colaboratory.intrinsic+json": {
              "type": "string"
            }
          },
          "metadata": {},
          "execution_count": 42
        }
      ]
    },
    {
      "cell_type": "code",
      "source": [
        "lietke_chuoinhiphan(3) \n"
      ],
      "metadata": {
        "colab": {
          "base_uri": "https://localhost:8080/"
        },
        "id": "Y2DBg4o361ne",
        "outputId": "a98392b0-02e3-4684-fee0-d78eb7f82f90"
      },
      "execution_count": 49,
      "outputs": [
        {
          "output_type": "execute_result",
          "data": {
            "text/plain": [
              "['000', '001', '010', '011', '100', '101', '110', '111']"
            ]
          },
          "metadata": {},
          "execution_count": 49
        }
      ]
    },
    {
      "cell_type": "code",
      "source": [
        " lietke_chuoinhiphan(4) "
      ],
      "metadata": {
        "colab": {
          "base_uri": "https://localhost:8080/"
        },
        "id": "-mxXOdvq70Lu",
        "outputId": "810c0c5d-0388-4a43-986b-9ff23d6845a9"
      },
      "execution_count": 50,
      "outputs": [
        {
          "output_type": "execute_result",
          "data": {
            "text/plain": [
              "['0000',\n",
              " '0001',\n",
              " '0010',\n",
              " '0011',\n",
              " '0100',\n",
              " '0101',\n",
              " '0110',\n",
              " '0111',\n",
              " '1000',\n",
              " '1001',\n",
              " '1010',\n",
              " '1011',\n",
              " '1100',\n",
              " '1101',\n",
              " '1110',\n",
              " '1111']"
            ]
          },
          "metadata": {},
          "execution_count": 50
        }
      ]
    },
    {
      "cell_type": "code",
      "source": [
        "def kiemtra_chuoi(chuoi_dang_chon,danhsach,gioihan):\n",
        " tong_thoigian=0\n",
        " for j in range(0,len(chuoi_dang_chon)):\n",
        "   if chuoi_dang_chon[j] == '1':\n",
        "    tong_thoigian = tong_thoigian + thoigian[j]\n",
        " ketqua = True \n",
        " if tong_thoigian > gioihan:\n",
        "  ketqua = False \n",
        " return ketqua, tong_thoigian "
      ],
      "metadata": {
        "id": "qPZiqcqQ77FW"
      },
      "execution_count": 53,
      "outputs": []
    },
    {
      "cell_type": "code",
      "source": [
        "def tim_phuongan(thoigian,gioihan):\n",
        "  search = []\n",
        "  cac_phuongan = lietke_chuoinhiphan(len(thoigian))\n",
        "  for i in range(len(cac_phuongan)):\n",
        "    dc_kg, diem = kiemtra_chuoi(cac_phuongan[i],thoigian,gioihan)\n",
        "    if dc_kg == True: \n",
        "      print (cac_phuongan[i],dc_kg,diem)\n",
        "      search.append(cac_phuongan[i])\n",
        "  return search "
      ],
      "metadata": {
        "id": "Zmt9cjn89MP9"
      },
      "execution_count": 57,
      "outputs": []
    },
    {
      "cell_type": "code",
      "source": [
        "songay_dulich= 1.5 \n",
        "tim_phuongan(thoigian,songay_dulich )"
      ],
      "metadata": {
        "colab": {
          "base_uri": "https://localhost:8080/"
        },
        "id": "CMXgQXu19MNO",
        "outputId": "38d65ff8-17db-4248-fc46-a0b5a835a3d4"
      },
      "execution_count": 59,
      "outputs": [
        {
          "output_type": "stream",
          "name": "stdout",
          "text": [
            "000000000 True 0\n",
            "000000001 True 0.6\n",
            "000000010 True 0.3\n",
            "000000011 True 0.8999999999999999\n",
            "000000100 True 0.3\n",
            "000000101 True 0.8999999999999999\n",
            "000000110 True 0.6\n",
            "000000111 True 1.2\n",
            "000001000 True 0.3\n",
            "000001001 True 0.8999999999999999\n",
            "000001010 True 0.6\n",
            "000001011 True 1.2\n",
            "000001100 True 0.6\n",
            "000001101 True 1.2\n",
            "000001110 True 0.8999999999999999\n",
            "000001111 True 1.5\n",
            "000010000 True 1.5\n",
            "000100000 True 0.4\n",
            "000100001 True 1.0\n",
            "000100010 True 0.7\n",
            "000100011 True 1.2999999999999998\n",
            "000100100 True 0.7\n",
            "000100101 True 1.2999999999999998\n",
            "000100110 True 1.0\n",
            "000101000 True 0.7\n",
            "000101001 True 1.2999999999999998\n",
            "000101010 True 1.0\n",
            "000101100 True 1.0\n",
            "000101110 True 1.3\n",
            "001000000 True 0.6\n",
            "001000001 True 1.2\n",
            "001000010 True 0.8999999999999999\n",
            "001000011 True 1.5\n",
            "001000100 True 0.8999999999999999\n",
            "001000101 True 1.5\n",
            "001000110 True 1.2\n",
            "001001000 True 0.8999999999999999\n",
            "001001001 True 1.5\n",
            "001001010 True 1.2\n",
            "001001100 True 1.2\n",
            "001001110 True 1.5\n",
            "001100000 True 1.0\n",
            "001100010 True 1.3\n",
            "001100100 True 1.3\n",
            "001101000 True 1.3\n",
            "010000000 True 1.0\n",
            "010000010 True 1.3\n",
            "010000100 True 1.3\n",
            "010001000 True 1.3\n",
            "010100000 True 1.4\n",
            "100000000 True 1.0\n",
            "100000010 True 1.3\n",
            "100000100 True 1.3\n",
            "100001000 True 1.3\n",
            "100100000 True 1.4\n"
          ]
        },
        {
          "output_type": "execute_result",
          "data": {
            "text/plain": [
              "['000000000',\n",
              " '000000001',\n",
              " '000000010',\n",
              " '000000011',\n",
              " '000000100',\n",
              " '000000101',\n",
              " '000000110',\n",
              " '000000111',\n",
              " '000001000',\n",
              " '000001001',\n",
              " '000001010',\n",
              " '000001011',\n",
              " '000001100',\n",
              " '000001101',\n",
              " '000001110',\n",
              " '000001111',\n",
              " '000010000',\n",
              " '000100000',\n",
              " '000100001',\n",
              " '000100010',\n",
              " '000100011',\n",
              " '000100100',\n",
              " '000100101',\n",
              " '000100110',\n",
              " '000101000',\n",
              " '000101001',\n",
              " '000101010',\n",
              " '000101100',\n",
              " '000101110',\n",
              " '001000000',\n",
              " '001000001',\n",
              " '001000010',\n",
              " '001000011',\n",
              " '001000100',\n",
              " '001000101',\n",
              " '001000110',\n",
              " '001001000',\n",
              " '001001001',\n",
              " '001001010',\n",
              " '001001100',\n",
              " '001001110',\n",
              " '001100000',\n",
              " '001100010',\n",
              " '001100100',\n",
              " '001101000',\n",
              " '010000000',\n",
              " '010000010',\n",
              " '010000100',\n",
              " '010001000',\n",
              " '010100000',\n",
              " '100000000',\n",
              " '100000010',\n",
              " '100000100',\n",
              " '100001000',\n",
              " '100100000']"
            ]
          },
          "metadata": {},
          "execution_count": 59
        }
      ]
    },
    {
      "cell_type": "code",
      "source": [
        ""
      ],
      "metadata": {
        "id": "CBXFLaOV9MIG"
      },
      "execution_count": null,
      "outputs": []
    },
    {
      "cell_type": "code",
      "source": [
        ""
      ],
      "metadata": {
        "id": "5iqhn8Pf9L8E"
      },
      "execution_count": null,
      "outputs": []
    }
  ]
}