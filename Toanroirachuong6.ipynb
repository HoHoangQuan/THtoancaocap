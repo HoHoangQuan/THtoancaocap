{
  "nbformat": 4,
  "nbformat_minor": 0,
  "metadata": {
    "colab": {
      "name": " Toanroirachuong6.ipynb",
      "provenance": [],
      "authorship_tag": "ABX9TyNaF/BaKTlZzkBgaz9Qf50W",
      "include_colab_link": true
    },
    "kernelspec": {
      "name": "python3",
      "display_name": "Python 3"
    },
    "language_info": {
      "name": "python"
    }
  },
  "cells": [
    {
      "cell_type": "markdown",
      "metadata": {
        "id": "view-in-github",
        "colab_type": "text"
      },
      "source": [
        "<a href=\"https://colab.research.google.com/github/HoHoangQuan/THtoancaocap/blob/main/Toanroirachuong6.ipynb\" target=\"_parent\"><img src=\"https://colab.research.google.com/assets/colab-badge.svg\" alt=\"Open In Colab\"/></a>"
      ]
    },
    {
      "cell_type": "code",
      "execution_count": 2,
      "metadata": {
        "id": "n05p9Off7utf"
      },
      "outputs": [],
      "source": [
        "def bool_xy(x,y):\n",
        "  kq=0\n",
        "  if(x==1)and(y==1):\n",
        "    kq=0\n",
        "  if(x==1)and(y==0):\n",
        "    kq=0\n",
        "  if(x==0)and(y==1):\n",
        "    kq=0\n",
        "  if(x==0)and(y==0):\n",
        "    kq=0\n",
        "  return kq "
      ]
    },
    {
      "cell_type": "code",
      "source": [
        "for x in [1,0]: \n",
        " for y in [1,0]: \n",
        "  print(bool_xy(x,y)) "
      ],
      "metadata": {
        "colab": {
          "base_uri": "https://localhost:8080/"
        },
        "id": "yxo43_Cr9K9A",
        "outputId": "ed83ac25-fcde-43f7-efe4-3d3bb4ff869a"
      },
      "execution_count": 5,
      "outputs": [
        {
          "output_type": "stream",
          "name": "stdout",
          "text": [
            "0\n",
            "0\n",
            "0\n",
            "0\n"
          ]
        }
      ]
    },
    {
      "cell_type": "code",
      "source": [
        " def bool_xy1(x,y): \n",
        "  kq = 0 \n",
        "  if (x == 1) and (y==0): \n",
        "   kq = 1 \n",
        "  return kq"
      ],
      "metadata": {
        "id": "ofIN-j0r9P-b"
      },
      "execution_count": 6,
      "outputs": []
    },
    {
      "cell_type": "code",
      "source": [
        "for x in [1,0]: \n",
        " for y in [1,0]: \n",
        "  print (bool_xy1(x,y)) \n"
      ],
      "metadata": {
        "colab": {
          "base_uri": "https://localhost:8080/"
        },
        "id": "Pbybgr3q9ah2",
        "outputId": "0933d53b-7649-4cda-8d04-063deb2a870d"
      },
      "execution_count": 10,
      "outputs": [
        {
          "output_type": "stream",
          "name": "stdout",
          "text": [
            "0\n",
            "1\n",
            "0\n",
            "0\n"
          ]
        }
      ]
    },
    {
      "cell_type": "code",
      "source": [
        "trang_thai = \"s0\"\n",
        "def chuyen(tin_hieu):\n",
        "  global trang_thai \n",
        "  if trang_thai ==\"s0\":\n",
        "    if tin_hieu == \"s0\":\n",
        "      print(\"0 - s0\")\n",
        "      trang_thai =\"s0\"\n",
        "    elif tin_hieu ==1: \n",
        "      print(\"1 - s1\")\n",
        "      trang_thai = \"s1\"\n",
        "  elif trang_thai ==\"s1\": \n",
        "    if tin_hieu == 0 :\n",
        "      print(\"0 - s1\")\n",
        "      trang_thai = \"s1\"\n",
        "    elif tin_hieu ==1: \n",
        "      print(\"1 -s2\")\n",
        "      trang_thai = \"s2\"\n",
        "  elif trang_thai ==\"s2\":\n",
        "    if tin_hieu==0:\n",
        "      print(\"0-s2\")\n",
        "      trang_thai=\"s2\"\n",
        "    elif tin_hieu ==1:\n",
        "      print(\"1 - s0\")\n",
        "      trang_thai =\"s0\""
      ],
      "metadata": {
        "id": "wP8l3Ui49gLD"
      },
      "execution_count": 12,
      "outputs": []
    },
    {
      "cell_type": "code",
      "source": [
        "tap_tinhieu = [1, 0, 1, 0, 1, 1, 0 , 0, 1] # thiết lập tập dữ liệu đầu vào \n",
        "for i in tap_tinhieu: \n",
        " chuyen(i)"
      ],
      "metadata": {
        "colab": {
          "base_uri": "https://localhost:8080/"
        },
        "id": "JIkOVJQ_-OXV",
        "outputId": "e451a326-ddc8-47a8-ef69-6160517b4522"
      },
      "execution_count": 14,
      "outputs": [
        {
          "output_type": "stream",
          "name": "stdout",
          "text": [
            "1 - s1\n",
            "0 - s1\n",
            "1 -s2\n",
            "0-s2\n",
            "1 - s0\n",
            "1 - s1\n",
            "0 - s1\n",
            "0 - s1\n",
            "1 -s2\n"
          ]
        }
      ]
    },
    {
      "cell_type": "code",
      "source": [
        "trang_thai = \"s0\" \n",
        "trangthai_ke = { 's0': ['s0', 's1'], \n",
        "                 's1': ['s1', 's2'], \n",
        "                's2': ['s2', 's0']} \n"
      ],
      "metadata": {
        "id": "0yrkeTBw_xAY"
      },
      "execution_count": 15,
      "outputs": []
    },
    {
      "cell_type": "code",
      "source": [
        "ket_qua = { 's0': [ 0, 1], \n",
        "            's1': [ 0, 1], \n",
        "            's2': [ 0, 1]} "
      ],
      "metadata": {
        "id": "egTaKV0V_8Y1"
      },
      "execution_count": 16,
      "outputs": []
    },
    {
      "cell_type": "code",
      "source": [
        "def chuyen_trangthai( tin_hieu):\n",
        "  global trang_thai \n",
        "  chuoi_in = str(ket_qua[trang_thai][tin_hieu])\n",
        "  chuoi_in = chuoi_in +\"-\"+ trangthai_ke[trang_thai][tin_hieu]\n",
        "  print(chuoi_in)\n",
        "  trang_thai = trangthai_ke[trang_thai][tin_hieu]\n",
        "  "
      ],
      "metadata": {
        "id": "brlqLq9P__pa"
      },
      "execution_count": 17,
      "outputs": []
    },
    {
      "cell_type": "code",
      "source": [
        "tap_tinhieu=[1,0,1,0,1,1,0,0,1]\n",
        "for i in tap_tinhieu:\n",
        "  chuyen_trangthai(i)\n",
        "  "
      ],
      "metadata": {
        "colab": {
          "base_uri": "https://localhost:8080/"
        },
        "id": "2Ni9gLBlAkCl",
        "outputId": "2f4230fd-6e52-4904-f180-8f9cde664d57"
      },
      "execution_count": 18,
      "outputs": [
        {
          "output_type": "stream",
          "name": "stdout",
          "text": [
            "1-s1\n",
            "0-s1\n",
            "1-s2\n",
            "0-s2\n",
            "1-s0\n",
            "1-s1\n",
            "0-s1\n",
            "0-s1\n",
            "1-s2\n"
          ]
        }
      ]
    },
    {
      "cell_type": "code",
      "source": [
        "class StateMachine: \n",
        " def __init__(self): \n",
        "  self.tap_xuly = {} \n",
        "  self.trangthaiBatdau = None \n",
        "  self.trangthaiKetThuc = [] \n",
        " def them_Trangthai(self, trangthai, xuly, trangthai_ketthuc = 0): \n",
        "  trangthai = trangthai.upper() \n",
        "  self.tap_xuly[trangthai] = xuly \n",
        "  if trangthai_ketthuc: \n",
        "   self.trangthaiKetThuc.append(trangthai) \n",
        "def thietlap_TrangthaiBatdau(self, trangthai): \n",
        " self.trangthaiBatdau = trangthai.upper() \n",
        "def thucthi(self, dauvao): \n",
        " try: \n",
        "  xuly = self.tap_xuly[self.trangthaiBatdau] \n",
        " except: \n",
        "  raise InitializationError(\"Phai gÍi .thietlap_TrangthaiBatdau() truoc khi goi .thucthi() \") \n",
        " \n",
        " if not self.trangthaiKetThuc: \n",
        "  raise InitializationError(\"It nhat 1 trang thai phai la trang thai ket thuc\") \n",
        "\n",
        " while True: \n",
        "  (TrangThaiMoi, dauvao) = xuly(dauvao) \n",
        "  if TrangThaiMoi.upper() in self.trangthaiKetThuc: \n",
        "   print (\"Den dich! \", TrangThaiMoi) \n",
        "   break \n",
        " else: \n",
        "  xuly = self.tap_xuly[TrangThaiMoi.upper()]"
      ],
      "metadata": {
        "id": "pxwgNvTDA7bd"
      },
      "execution_count": 26,
      "outputs": []
    },
    {
      "cell_type": "code",
      "source": [
        "pip install python-statemachine"
      ],
      "metadata": {
        "colab": {
          "base_uri": "https://localhost:8080/"
        },
        "id": "3QtdGI1oCUd4",
        "outputId": "1b5d4c54-3712-41b6-e792-7dba5aa43ac7"
      },
      "execution_count": 23,
      "outputs": [
        {
          "output_type": "stream",
          "name": "stdout",
          "text": [
            "Looking in indexes: https://pypi.org/simple, https://us-python.pkg.dev/colab-wheels/public/simple/\n",
            "Collecting python-statemachine\n",
            "  Downloading python_statemachine-0.8.0-py2.py3-none-any.whl (12 kB)\n",
            "Installing collected packages: python-statemachine\n",
            "Successfully installed python-statemachine-0.8.0\n"
          ]
        }
      ]
    },
    {
      "cell_type": "code",
      "source": [
        "from statemachine import StateMachine\n",
        "tinhtu_tichcuc = [\"vi_dai\", \"sieu\", \"vui\", \"de\", \"giai_tri\"] \n",
        "tinhtu_tieucuc = [\"chan\", \"kho\", \"xau\", \"kem\"] "
      ],
      "metadata": {
        "id": "f2JMv3RpBfBl"
      },
      "execution_count": 24,
      "outputs": []
    },
    {
      "cell_type": "code",
      "source": [
        "def trangthai_baudau(txt): \n",
        " splitted_txt = txt.split(None, 1) \n",
        " tu, txt = splitted_txt if len(splitted_txt) > 1 else (txt, \"\") \n",
        " if tu == \"Python\": \n",
        "  trangthaimoi = \"Python_state\" \n",
        " else: \n",
        "  trangthaimoi = \"error_state\" \n",
        " return (trangthaimoi, txt)"
      ],
      "metadata": {
        "id": "BMWahJC4Cyuq"
      },
      "execution_count": 29,
      "outputs": []
    },
    {
      "cell_type": "code",
      "source": [
        "def trangthai_python(txt): \n",
        " splitted_txt = txt.split(None, 1) \n",
        " tu, txt = splitted_txt if len(splitted_txt) > 1 else (txt, \"\") \n",
        " if tu == \"is\": # nếu từ là ‘is’ thì \n",
        "  trangthaimoi = \"is_state\" # trạng thái mới là is_state \n",
        " else: \n",
        "  trangthaimoi = \"error_state\" # ngược lại trạng thái mới là lỗi (error_state) \n",
        " return (trangthaimoi, txt)"
      ],
      "metadata": {
        "id": "E7d_NCPiC5SM"
      },
      "execution_count": 30,
      "outputs": []
    },
    {
      "cell_type": "code",
      "source": [
        "def trangthai_is_chuyentrangthai(txt): \n",
        " splitted_txt = txt.split(None, 1) \n",
        " tu, txt = splitted_txt if len(splitted_txt) > 1 else (txt, \"\") \n",
        " if tu == \"not\": \n",
        "  trangthaimoi = \"not_state\" \n",
        " elif tu in tinhtu_tichcuc: \n",
        "  trangthaimoi = \"pos_state\" \n",
        " elif tu in tinhtu_tieucuc: \n",
        "  trangthaimoi = \"neg_state\" \n",
        " else: \n",
        "  trangthaimoi = \"error_state\" \n",
        " return (trangthaimoi, txt)"
      ],
      "metadata": {
        "id": "SOMZ84XHDPGX"
      },
      "execution_count": 31,
      "outputs": []
    },
    {
      "cell_type": "code",
      "source": [
        "def trangthai_isnot_chuyentrangthai(txt): \n",
        " splitted_txt = txt.split(None, 1) \n",
        " tu, txt = splitted_txt if len(splitted_txt) > 1 else (txt, \"\") \n",
        " if tu in tinhtu_tichcuc: \n",
        "  trangthaimoi = \"pos_state\"\n",
        " elif tu in tinhtu_tieucuc: \n",
        "  trangthaimoi = \"neg_state\" \n",
        " else: \n",
        "  trangthaimoi = \"error_state\" \n",
        " return (trangthaimoi, txt) "
      ],
      "metadata": {
        "id": "jxUdmG3wDSy3"
      },
      "execution_count": 33,
      "outputs": []
    },
    {
      "cell_type": "code",
      "source": [
        "def neg_state(txt): \n",
        " print (\"Chao!\") \n",
        " return (\"neg_state\",\"\") "
      ],
      "metadata": {
        "id": "6-UnZmM7DfXR"
      },
      "execution_count": 35,
      "outputs": []
    },
    {
      "cell_type": "code",
      "source": [
        "if __name__ == \"__main__\": \n",
        " m = StateMachine() \n",
        "# add_state \n",
        " m.them_Trangthai(\"Start\", trangthai_baudau) \n",
        " m.them_Trangthai(\"Python_state\", trangthai_python) \n",
        " m.them_Trangthai(\"is_state\", trangthai_is_chuyentrangthai) \n",
        " m.them_Trangthai(\"not_state\", trangthai_isnot_chuyentrangthai)\n",
        " m.them_Trangthai(\"neg_state\", None, trangthai_ketthuc = 1) \n",
        " m.them_Trangthai(\"pos_state\", None, trangthai_ketthuc = 1) \n",
        " m.them_Trangthai(\"error_state\", None, trangthai_ketthuc = 1) \n",
        " # set_start \n",
        " m.thietlap_TrangthaiBatdau(\"Start\") \n",
        " # run \n",
        " m.thucthi(\"Python is vi_dai\") \n",
        " m.thucthi(\"Python is kho\") \n",
        " m.thucthi(\"Python is xau\") \n",
        " m.thucthi(\"Python is xao\")"
      ],
      "metadata": {
        "colab": {
          "base_uri": "https://localhost:8080/",
          "height": 244
        },
        "id": "QHRk1ZLRDjjo",
        "outputId": "680d7178-9288-44c7-85f3-dc019a98e548"
      },
      "execution_count": 41,
      "outputs": [
        {
          "output_type": "error",
          "ename": "AttributeError",
          "evalue": "ignored",
          "traceback": [
            "\u001b[0;31m---------------------------------------------------------------------------\u001b[0m",
            "\u001b[0;31mAttributeError\u001b[0m                            Traceback (most recent call last)",
            "\u001b[0;32m<ipython-input-41-e0aacd6ee47e>\u001b[0m in \u001b[0;36m<module>\u001b[0;34m()\u001b[0m\n\u001b[1;32m     10\u001b[0m  \u001b[0mm\u001b[0m\u001b[0;34m.\u001b[0m\u001b[0mthem_Trangthai\u001b[0m\u001b[0;34m(\u001b[0m\u001b[0;34m\"error_state\"\u001b[0m\u001b[0;34m,\u001b[0m \u001b[0;32mNone\u001b[0m\u001b[0;34m,\u001b[0m \u001b[0mtrangthai_ketthuc\u001b[0m \u001b[0;34m=\u001b[0m \u001b[0;36m1\u001b[0m\u001b[0;34m)\u001b[0m\u001b[0;34m\u001b[0m\u001b[0;34m\u001b[0m\u001b[0m\n\u001b[1;32m     11\u001b[0m  \u001b[0;31m# set_start\u001b[0m\u001b[0;34m\u001b[0m\u001b[0;34m\u001b[0m\u001b[0;34m\u001b[0m\u001b[0m\n\u001b[0;32m---> 12\u001b[0;31m  \u001b[0mm\u001b[0m\u001b[0;34m.\u001b[0m\u001b[0mthietlap_TrangthaiBatdau\u001b[0m\u001b[0;34m(\u001b[0m\u001b[0;34m\"Start\"\u001b[0m\u001b[0;34m)\u001b[0m\u001b[0;34m\u001b[0m\u001b[0;34m\u001b[0m\u001b[0m\n\u001b[0m\u001b[1;32m     13\u001b[0m  \u001b[0;31m# run\u001b[0m\u001b[0;34m\u001b[0m\u001b[0;34m\u001b[0m\u001b[0;34m\u001b[0m\u001b[0m\n\u001b[1;32m     14\u001b[0m  \u001b[0mm\u001b[0m\u001b[0;34m.\u001b[0m\u001b[0mthucthi\u001b[0m\u001b[0;34m(\u001b[0m\u001b[0;34m\"Python is vi_dai\"\u001b[0m\u001b[0;34m)\u001b[0m\u001b[0;34m\u001b[0m\u001b[0;34m\u001b[0m\u001b[0m\n",
            "\u001b[0;31mAttributeError\u001b[0m: 'StateMachine' object has no attribute 'thietlap_TrangthaiBatdau'"
          ]
        }
      ]
    }
  ]
}