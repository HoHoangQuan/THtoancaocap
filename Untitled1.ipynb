{
  "nbformat": 4,
  "nbformat_minor": 0,
  "metadata": {
    "colab": {
      "name": "Untitled1.ipynb",
      "provenance": [],
      "authorship_tag": "ABX9TyPVg1+SzJJ7J8rjQRJNN+Zi",
      "include_colab_link": true
    },
    "kernelspec": {
      "name": "python3",
      "display_name": "Python 3"
    },
    "language_info": {
      "name": "python"
    }
  },
  "cells": [
    {
      "cell_type": "markdown",
      "metadata": {
        "id": "view-in-github",
        "colab_type": "text"
      },
      "source": [
        "<a href=\"https://colab.research.google.com/github/HoHoangQuan/THtoancaocap/blob/main/Untitled1.ipynb\" target=\"_parent\"><img src=\"https://colab.research.google.com/assets/colab-badge.svg\" alt=\"Open In Colab\"/></a>"
      ]
    },
    {
      "cell_type": "code",
      "execution_count": 1,
      "metadata": {
        "colab": {
          "base_uri": "https://localhost:8080/"
        },
        "id": "ZsdFJkbZ75-z",
        "outputId": "fb0e34e3-f3dd-429e-b57f-7ec8cdbc5a5e"
      },
      "outputs": [
        {
          "output_type": "stream",
          "name": "stdout",
          "text": [
            "False\n",
            "True\n",
            "True\n"
          ]
        }
      ],
      "source": [
        "a = True\n",
        "b = False\n",
        "print(a and b )\n",
        "print(a or b)\n",
        "print(a^b)"
      ]
    },
    {
      "cell_type": "code",
      "source": [
        "def kiemtra_nuocsoi(nhiet_do):\n",
        " if nhiet_do < 100:\n",
        "  return \"Nuoc chua soi!\"\n",
        " else:\n",
        "  return \"Nuoc da soi!\"\n",
        "print(kiemtra_nuocsoi(100))\n",
        "print( kiemtra_nuocsoi(99) )"
      ],
      "metadata": {
        "colab": {
          "base_uri": "https://localhost:8080/"
        },
        "id": "3WPrVTUU8Df2",
        "outputId": "d7bb4b35-1cb0-43b8-a88e-1ca2183688d4"
      },
      "execution_count": 2,
      "outputs": [
        {
          "output_type": "stream",
          "name": "stdout",
          "text": [
            "Nuoc da soi!\n",
            "Nuoc chua soi!\n"
          ]
        }
      ]
    },
    {
      "cell_type": "code",
      "source": [
        "def kiemtr_nuocsoi1(nhiet_do):\n",
        "    return 'Nuoc'+('da soi!' if nhiet_do == 100 else 'chua soi.')\n",
        "print(kiemtra_nuocsoi(100))\n",
        "print( kiemtra_nuocsoi(99) )"
      ],
      "metadata": {
        "colab": {
          "base_uri": "https://localhost:8080/"
        },
        "id": "vFuZt3aZ8JeG",
        "outputId": "1800d438-dd31-4ae8-a2a4-e7689d4113b6"
      },
      "execution_count": 3,
      "outputs": [
        {
          "output_type": "stream",
          "name": "stdout",
          "text": [
            "Nuoc da soi!\n",
            "Nuoc chua soi!\n"
          ]
        }
      ]
    },
    {
      "cell_type": "code",
      "source": [
        "ds_dau=[]\n",
        "for diem_so in range(10):\n",
        "  if diem_so > 5:\n",
        "   ds_dau.append(str(diem_so)) \n",
        "print(ds_dau)"
      ],
      "metadata": {
        "colab": {
          "base_uri": "https://localhost:8080/"
        },
        "id": "JUwe-wE68Mx1",
        "outputId": "23f245c1-0391-4f17-c6af-531f3b10c7f3"
      },
      "execution_count": 4,
      "outputs": [
        {
          "output_type": "stream",
          "name": "stdout",
          "text": [
            "['6', '7', '8', '9']\n"
          ]
        }
      ]
    },
    {
      "cell_type": "code",
      "source": [
        "ds_dau = [str(diem_so) for value in range(10) if diem_so > 5]\n",
        "print(ds_dau )"
      ],
      "metadata": {
        "colab": {
          "base_uri": "https://localhost:8080/"
        },
        "id": "HIk1RdT68PJ-",
        "outputId": "f150cbb4-c75d-416c-aa13-022d03891147"
      },
      "execution_count": 5,
      "outputs": [
        {
          "output_type": "stream",
          "name": "stdout",
          "text": [
            "['9', '9', '9', '9', '9', '9', '9', '9', '9', '9']\n"
          ]
        }
      ]
    },
    {
      "cell_type": "code",
      "source": [
        "a= True \n",
        "b= False \n",
        "1/0 "
      ],
      "metadata": {
        "colab": {
          "base_uri": "https://localhost:8080/",
          "height": 200
        },
        "id": "IUbZeVFo8t52",
        "outputId": "c0ea30b9-2334-4ace-aa2d-004707a91492"
      },
      "execution_count": 10,
      "outputs": [
        {
          "output_type": "error",
          "ename": "ZeroDivisionError",
          "evalue": "ignored",
          "traceback": [
            "\u001b[0;31m---------------------------------------------------------------------------\u001b[0m",
            "\u001b[0;31mZeroDivisionError\u001b[0m                         Traceback (most recent call last)",
            "\u001b[0;32m<ipython-input-10-2e2947bfca1f>\u001b[0m in \u001b[0;36m<module>\u001b[0;34m()\u001b[0m\n\u001b[1;32m      1\u001b[0m \u001b[0ma\u001b[0m\u001b[0;34m=\u001b[0m \u001b[0;32mTrue\u001b[0m\u001b[0;34m\u001b[0m\u001b[0;34m\u001b[0m\u001b[0m\n\u001b[1;32m      2\u001b[0m \u001b[0mb\u001b[0m\u001b[0;34m=\u001b[0m \u001b[0;32mFalse\u001b[0m\u001b[0;34m\u001b[0m\u001b[0;34m\u001b[0m\u001b[0m\n\u001b[0;32m----> 3\u001b[0;31m \u001b[0;36m1\u001b[0m\u001b[0;34m/\u001b[0m\u001b[0;36m0\u001b[0m\u001b[0;34m\u001b[0m\u001b[0;34m\u001b[0m\u001b[0m\n\u001b[0m",
            "\u001b[0;31mZeroDivisionError\u001b[0m: division by zero"
          ]
        }
      ]
    },
    {
      "cell_type": "code",
      "source": [
        "\n",
        "if (a==b) and (1/0 > 0 ):\n",
        "    print(\"a=b\")\n",
        "else:\n",
        "    print(\"a khac b \")   "
      ],
      "metadata": {
        "colab": {
          "base_uri": "https://localhost:8080/"
        },
        "id": "zEkyG6pN8Ttd",
        "outputId": "3da819ce-963a-4399-a7a6-29cb167ce5e9"
      },
      "execution_count": 7,
      "outputs": [
        {
          "output_type": "stream",
          "name": "stdout",
          "text": [
            "a khac b \n"
          ]
        }
      ]
    },
    {
      "cell_type": "code",
      "source": [
        "S = [2*x for x in range(20)] \n",
        "S"
      ],
      "metadata": {
        "colab": {
          "base_uri": "https://localhost:8080/"
        },
        "id": "DmnpaYWz8bl9",
        "outputId": "89e8c1b2-7214-49d3-e4eb-01b2ac3ae5b1"
      },
      "execution_count": 9,
      "outputs": [
        {
          "output_type": "execute_result",
          "data": {
            "text/plain": [
              "[0, 2, 4, 6, 8, 10, 12, 14, 16, 18, 20, 22, 24, 26, 28, 30, 32, 34, 36, 38]"
            ]
          },
          "metadata": {},
          "execution_count": 9
        }
      ]
    },
    {
      "cell_type": "code",
      "source": [
        " A = set([x for x in range(-50, 50) if x**2 + x - 6 == 0]) \n",
        " B = set([2, -3]) \n",
        " A == B"
      ],
      "metadata": {
        "colab": {
          "base_uri": "https://localhost:8080/"
        },
        "id": "oeOYKdMX8gR9",
        "outputId": "0e2975bd-924b-48b9-9889-c5329c32f0dc"
      },
      "execution_count": 11,
      "outputs": [
        {
          "output_type": "execute_result",
          "data": {
            "text/plain": [
              "True"
            ]
          },
          "metadata": {},
          "execution_count": 11
        }
      ]
    },
    {
      "cell_type": "code",
      "source": [
        " def isPrime(N):\n",
        "  for i in [ x+1 for x in range(N) ]:\n",
        "    if N % i == 0 and (i!=1 and i!=N):\n",
        "      return False \n",
        "  return True"
      ],
      "metadata": {
        "id": "b6KdPLDn89FV"
      },
      "execution_count": 13,
      "outputs": []
    },
    {
      "cell_type": "code",
      "source": [
        " S_prime = [isPrime(k) for k in range(1,40)] "
      ],
      "metadata": {
        "id": "nNGChPMM9Qrc"
      },
      "execution_count": 14,
      "outputs": []
    },
    {
      "cell_type": "code",
      "source": [
        "S_prime = set([x for x in range(40) if (isPrime(x) == True and x>0)]) \n",
        "S_prime "
      ],
      "metadata": {
        "colab": {
          "base_uri": "https://localhost:8080/"
        },
        "id": "es6JC7q_9GQL",
        "outputId": "a52e3535-2716-4511-c8cc-7eef3357d5ef"
      },
      "execution_count": 15,
      "outputs": [
        {
          "output_type": "execute_result",
          "data": {
            "text/plain": [
              "{1, 2, 3, 5, 7, 11, 13, 17, 19, 23, 29, 31, 37}"
            ]
          },
          "metadata": {},
          "execution_count": 15
        }
      ]
    },
    {
      "cell_type": "code",
      "source": [
        "Apro = set([2*x *y for x in range(-50,50) if x**2+x-6 == 0 for y in [1, 10, 100]])\n",
        "Apro "
      ],
      "metadata": {
        "colab": {
          "base_uri": "https://localhost:8080/"
        },
        "id": "d__79KUd9e0N",
        "outputId": "0658cf6b-100a-449a-ba80-138f3a71c92e"
      },
      "execution_count": 16,
      "outputs": [
        {
          "output_type": "execute_result",
          "data": {
            "text/plain": [
              "{-600, -60, -6, 4, 40, 400}"
            ]
          },
          "metadata": {},
          "execution_count": 16
        }
      ]
    },
    {
      "cell_type": "code",
      "source": [
        "AB = set([ (x, 2*y) for x in range(-50,50) if x**2+x-6 == 0 for y in [1, 10, 100]]) \n",
        "AB "
      ],
      "metadata": {
        "colab": {
          "base_uri": "https://localhost:8080/"
        },
        "id": "jBBSW77H9ifs",
        "outputId": "e6a0bfe4-ce90-4e9f-eaf5-29c55f291d74"
      },
      "execution_count": 17,
      "outputs": [
        {
          "output_type": "execute_result",
          "data": {
            "text/plain": [
              "{(-3, 2), (-3, 20), (-3, 200), (2, 2), (2, 20), (2, 200)}"
            ]
          },
          "metadata": {},
          "execution_count": 17
        }
      ]
    },
    {
      "cell_type": "code",
      "source": [
        "from sympy import FiniteSet \n",
        "s = FiniteSet(3, 5, 7)\n",
        "s\n",
        "{3, 5, 7} "
      ],
      "metadata": {
        "colab": {
          "base_uri": "https://localhost:8080/"
        },
        "id": "zB405cY_9mjL",
        "outputId": "73d4a720-1d71-4ec7-cb09-c8350db14d38"
      },
      "execution_count": 18,
      "outputs": [
        {
          "output_type": "execute_result",
          "data": {
            "text/plain": [
              "{3, 5, 7}"
            ]
          },
          "metadata": {},
          "execution_count": 18
        }
      ]
    },
    {
      "cell_type": "code",
      "source": [
        "from sympy import FiniteSet\n",
        "from fractions import Fraction \n",
        "s = FiniteSet(1, 1.5, Fraction(1, 5))\n",
        "s "
      ],
      "metadata": {
        "colab": {
          "base_uri": "https://localhost:8080/",
          "height": 58
        },
        "id": "I8O3qtgB9tiD",
        "outputId": "2e6b55ec-6fc2-474a-80c6-af414234070d"
      },
      "execution_count": 20,
      "outputs": [
        {
          "output_type": "execute_result",
          "data": {
            "text/plain": [
              "FiniteSet(1/5, 1, 1.5)"
            ],
            "text/latex": "$\\displaystyle \\left\\{\\frac{1}{5}, 1, 1.5\\right\\}$"
          },
          "metadata": {},
          "execution_count": 20
        }
      ]
    },
    {
      "cell_type": "code",
      "source": [
        "s = FiniteSet(1, 1.5, Fraction(8, 2)) \n",
        "s"
      ],
      "metadata": {
        "colab": {
          "base_uri": "https://localhost:8080/",
          "height": 37
        },
        "id": "7sJob91W95Cj",
        "outputId": "a47f991b-df92-4aa7-a22f-a79bb47aae41"
      },
      "execution_count": 21,
      "outputs": [
        {
          "output_type": "execute_result",
          "data": {
            "text/plain": [
              "FiniteSet(1, 1.5, 4)"
            ],
            "text/latex": "$\\displaystyle \\left\\{1, 1.5, 4\\right\\}$"
          },
          "metadata": {},
          "execution_count": 21
        }
      ]
    },
    {
      "cell_type": "code",
      "source": [
        "len(s)"
      ],
      "metadata": {
        "colab": {
          "base_uri": "https://localhost:8080/"
        },
        "id": "_Ten9QrG98ql",
        "outputId": "eb103c88-1c26-4155-e636-317b888be955"
      },
      "execution_count": 22,
      "outputs": [
        {
          "output_type": "execute_result",
          "data": {
            "text/plain": [
              "3"
            ]
          },
          "metadata": {},
          "execution_count": 22
        }
      ]
    },
    {
      "cell_type": "code",
      "source": [
        "8 in s"
      ],
      "metadata": {
        "colab": {
          "base_uri": "https://localhost:8080/"
        },
        "id": "9l4wlux3-AhD",
        "outputId": "4a6aa221-2376-411c-f77b-c275a3864983"
      },
      "execution_count": 23,
      "outputs": [
        {
          "output_type": "execute_result",
          "data": {
            "text/plain": [
              "False"
            ]
          },
          "metadata": {},
          "execution_count": 23
        }
      ]
    },
    {
      "cell_type": "code",
      "source": [
        "1 in s"
      ],
      "metadata": {
        "colab": {
          "base_uri": "https://localhost:8080/"
        },
        "id": "DzX0TmGl-DcD",
        "outputId": "686798ab-be65-495e-a3c6-d590c36cdff7"
      },
      "execution_count": 24,
      "outputs": [
        {
          "output_type": "execute_result",
          "data": {
            "text/plain": [
              "True"
            ]
          },
          "metadata": {},
          "execution_count": 24
        }
      ]
    },
    {
      "cell_type": "code",
      "source": [
        "from sympy import FiniteSet \n",
        "s = FiniteSet() \n",
        "s"
      ],
      "metadata": {
        "colab": {
          "base_uri": "https://localhost:8080/",
          "height": 37
        },
        "id": "r2ukFvhF-GBi",
        "outputId": "dfb0bcab-a220-471d-865a-63d3ff582afe"
      },
      "execution_count": 25,
      "outputs": [
        {
          "output_type": "execute_result",
          "data": {
            "text/plain": [
              "EmptySet"
            ],
            "text/latex": "$\\displaystyle \\emptyset$"
          },
          "metadata": {},
          "execution_count": 25
        }
      ]
    },
    {
      "cell_type": "code",
      "source": [
        "phantu = [2, 4, 6, 8, 10] \n",
        "tap = FiniteSet(*phantu)\n",
        "tap "
      ],
      "metadata": {
        "colab": {
          "base_uri": "https://localhost:8080/",
          "height": 37
        },
        "id": "PrTZd7N6-LIS",
        "outputId": "a8163413-6e38-4907-b034-ceb7707b484b"
      },
      "execution_count": 26,
      "outputs": [
        {
          "output_type": "execute_result",
          "data": {
            "text/plain": [
              "FiniteSet(2, 4, 6, 8, 10)"
            ],
            "text/latex": "$\\displaystyle \\left\\{2, 4, 6, 8, 10\\right\\}$"
          },
          "metadata": {},
          "execution_count": 26
        }
      ]
    },
    {
      "cell_type": "code",
      "source": [
        "from sympy import FiniteSet\n",
        "phantu = [6, 7, 8, 9, 6, 7]\n",
        "taphop = FiniteSet(*phantu)\n",
        "taphop"
      ],
      "metadata": {
        "colab": {
          "base_uri": "https://localhost:8080/",
          "height": 37
        },
        "id": "MKM1SGCu-S9k",
        "outputId": "30f9af6b-3237-4f63-9f71-7a939826a20a"
      },
      "execution_count": 27,
      "outputs": [
        {
          "output_type": "execute_result",
          "data": {
            "text/plain": [
              "FiniteSet(6, 7, 8, 9)"
            ],
            "text/latex": "$\\displaystyle \\left\\{6, 7, 8, 9\\right\\}$"
          },
          "metadata": {},
          "execution_count": 27
        }
      ]
    },
    {
      "cell_type": "code",
      "source": [
        " for thanhphan in taphop: \n",
        "   print(thanhphan) "
      ],
      "metadata": {
        "colab": {
          "base_uri": "https://localhost:8080/"
        },
        "id": "N3pJOfYk-ZKT",
        "outputId": "b473e026-d5a4-4b59-ad5c-f27030fae529"
      },
      "execution_count": 30,
      "outputs": [
        {
          "output_type": "stream",
          "name": "stdout",
          "text": [
            "6\n",
            "7\n",
            "8\n",
            "9\n"
          ]
        }
      ]
    },
    {
      "cell_type": "code",
      "source": [
        "from sympy import FiniteSet\n",
        "ds1 = [2, 4, 6]\n",
        "ds2 = [6, 2, 4]\n",
        "ds1 == ds2"
      ],
      "metadata": {
        "colab": {
          "base_uri": "https://localhost:8080/"
        },
        "id": "DC2-bH_m-qdE",
        "outputId": "2856a264-da8e-4b24-fcd0-f949d8403ce3"
      },
      "execution_count": 31,
      "outputs": [
        {
          "output_type": "execute_result",
          "data": {
            "text/plain": [
              "False"
            ]
          },
          "metadata": {},
          "execution_count": 31
        }
      ]
    },
    {
      "cell_type": "code",
      "source": [
        "s = FiniteSet(*ds1)\n",
        "t = FiniteSet(*ds2)\n",
        "s == t "
      ],
      "metadata": {
        "colab": {
          "base_uri": "https://localhost:8080/"
        },
        "id": "T6EAIJXM-vFq",
        "outputId": "aafa6ed4-2146-473d-a34a-570fa38cbdc7"
      },
      "execution_count": 32,
      "outputs": [
        {
          "output_type": "execute_result",
          "data": {
            "text/plain": [
              "True"
            ]
          },
          "metadata": {},
          "execution_count": 32
        }
      ]
    },
    {
      "cell_type": "code",
      "source": [
        "s = FiniteSet(1)\n",
        "t = FiniteSet(1,2)\n",
        "s.is_subset(t) "
      ],
      "metadata": {
        "colab": {
          "base_uri": "https://localhost:8080/"
        },
        "id": "CkmIdFG0-14r",
        "outputId": "c860f818-fdb9-431f-f9dd-24d5daf8fb5d"
      },
      "execution_count": 33,
      "outputs": [
        {
          "output_type": "execute_result",
          "data": {
            "text/plain": [
              "True"
            ]
          },
          "metadata": {},
          "execution_count": 33
        }
      ]
    },
    {
      "cell_type": "code",
      "source": [
        " t.is_subset(s) "
      ],
      "metadata": {
        "colab": {
          "base_uri": "https://localhost:8080/"
        },
        "id": "b4pcRyf8-44z",
        "outputId": "129415b0-c875-4eea-ff7d-d88e2f45ce59"
      },
      "execution_count": 34,
      "outputs": [
        {
          "output_type": "execute_result",
          "data": {
            "text/plain": [
              "False"
            ]
          },
          "metadata": {},
          "execution_count": 34
        }
      ]
    },
    {
      "cell_type": "code",
      "source": [
        " t.is_subset(t) "
      ],
      "metadata": {
        "colab": {
          "base_uri": "https://localhost:8080/"
        },
        "id": "Hg9uyuIG-91a",
        "outputId": "a5d82057-8716-43b9-f46b-2a4843b5e8aa"
      },
      "execution_count": 35,
      "outputs": [
        {
          "output_type": "execute_result",
          "data": {
            "text/plain": [
              "True"
            ]
          },
          "metadata": {},
          "execution_count": 35
        }
      ]
    },
    {
      "cell_type": "code",
      "source": [
        " s.is_superset(t)"
      ],
      "metadata": {
        "colab": {
          "base_uri": "https://localhost:8080/"
        },
        "id": "zfuhmm9X_BF1",
        "outputId": "f698c560-b851-49a4-b28b-f6ea3a512bbf"
      },
      "execution_count": 36,
      "outputs": [
        {
          "output_type": "execute_result",
          "data": {
            "text/plain": [
              "False"
            ]
          },
          "metadata": {},
          "execution_count": 36
        }
      ]
    },
    {
      "cell_type": "code",
      "source": [
        "t.is_superset(s) "
      ],
      "metadata": {
        "colab": {
          "base_uri": "https://localhost:8080/"
        },
        "id": "v3ElccMM_D2k",
        "outputId": "0b5b05ee-57cf-4656-c089-ec5187d6df6b"
      },
      "execution_count": 37,
      "outputs": [
        {
          "output_type": "execute_result",
          "data": {
            "text/plain": [
              "True"
            ]
          },
          "metadata": {},
          "execution_count": 37
        }
      ]
    },
    {
      "cell_type": "code",
      "source": [
        "s = FiniteSet(1,2,3)\n",
        "ps = s.powerset() \n",
        "len(ps) "
      ],
      "metadata": {
        "colab": {
          "base_uri": "https://localhost:8080/"
        },
        "id": "deCRueu6_Gcs",
        "outputId": "408349d9-48c6-45db-85e7-eae3c75b17b9"
      },
      "execution_count": 39,
      "outputs": [
        {
          "output_type": "execute_result",
          "data": {
            "text/plain": [
              "8"
            ]
          },
          "metadata": {},
          "execution_count": 39
        }
      ]
    },
    {
      "cell_type": "code",
      "source": [
        "ps "
      ],
      "metadata": {
        "colab": {
          "base_uri": "https://localhost:8080/",
          "height": 37
        },
        "id": "4d4C907A_I96",
        "outputId": "07006ba3-b58b-4ebe-ee2c-fc521859abfc"
      },
      "execution_count": 40,
      "outputs": [
        {
          "output_type": "execute_result",
          "data": {
            "text/plain": [
              "FiniteSet(FiniteSet(1), FiniteSet(1, 2), FiniteSet(1, 3), FiniteSet(1, 2, 3), FiniteSet(2), FiniteSet(2, 3), FiniteSet(3), EmptySet)"
            ],
            "text/latex": "$\\displaystyle \\left\\{\\emptyset, \\left\\{1\\right\\}, \\left\\{2\\right\\}, \\left\\{3\\right\\}, \\left\\{1, 2\\right\\}, \\left\\{1, 3\\right\\}, \\left\\{2, 3\\right\\}, \\left\\{1, 2, 3\\right\\}\\right\\}$"
          },
          "metadata": {},
          "execution_count": 40
        }
      ]
    },
    {
      "cell_type": "code",
      "source": [
        "from sympy import FiniteSet\n",
        "s = FiniteSet(1, 2, 3)\n",
        "t = FiniteSet(3, 2, 1)\n",
        "s.is_proper_subset(t) "
      ],
      "metadata": {
        "colab": {
          "base_uri": "https://localhost:8080/"
        },
        "id": "mcHbKa8l_N7F",
        "outputId": "26ecdffe-c3cc-4052-a513-b337d12967cc"
      },
      "execution_count": 41,
      "outputs": [
        {
          "output_type": "execute_result",
          "data": {
            "text/plain": [
              "False"
            ]
          },
          "metadata": {},
          "execution_count": 41
        }
      ]
    },
    {
      "cell_type": "code",
      "source": [
        "s.is_proper_subset(t) "
      ],
      "metadata": {
        "colab": {
          "base_uri": "https://localhost:8080/"
        },
        "id": "-53FX9S1_WzE",
        "outputId": "b7c78e7c-d2fa-4cd2-a429-e7ee5dec1c82"
      },
      "execution_count": 42,
      "outputs": [
        {
          "output_type": "execute_result",
          "data": {
            "text/plain": [
              "False"
            ]
          },
          "metadata": {},
          "execution_count": 42
        }
      ]
    },
    {
      "cell_type": "code",
      "source": [
        "t.is_proper_superset(s) "
      ],
      "metadata": {
        "colab": {
          "base_uri": "https://localhost:8080/"
        },
        "id": "SfchZX_W_Yfa",
        "outputId": "0f382421-9669-44ed-fa04-420aceb3e915"
      },
      "execution_count": 47,
      "outputs": [
        {
          "output_type": "execute_result",
          "data": {
            "text/plain": [
              "True"
            ]
          },
          "metadata": {},
          "execution_count": 47
        }
      ]
    },
    {
      "cell_type": "code",
      "source": [
        "t = FiniteSet(3, 2, 1, 4)\n",
        "s.is_proper_subset(t)"
      ],
      "metadata": {
        "colab": {
          "base_uri": "https://localhost:8080/"
        },
        "id": "yT9q79vP_Z9K",
        "outputId": "82f30faf-a61f-48a6-cde0-35df2c94c55a"
      },
      "execution_count": 44,
      "outputs": [
        {
          "output_type": "execute_result",
          "data": {
            "text/plain": [
              "True"
            ]
          },
          "metadata": {},
          "execution_count": 44
        }
      ]
    },
    {
      "cell_type": "code",
      "source": [
        "t.is_proper_superset(s)"
      ],
      "metadata": {
        "colab": {
          "base_uri": "https://localhost:8080/"
        },
        "id": "FRJR0Thw_jiz",
        "outputId": "d3d18452-8f6c-43cc-ecdc-c43bad696059"
      },
      "execution_count": 48,
      "outputs": [
        {
          "output_type": "execute_result",
          "data": {
            "text/plain": [
              "True"
            ]
          },
          "metadata": {},
          "execution_count": 48
        }
      ]
    },
    {
      "cell_type": "code",
      "source": [
        "from sympy import FiniteSet\n",
        "s = FiniteSet(2, 4, 6)\n",
        "t = FiniteSet(3, 5, 7)\n",
        "kq = s.union(t)\n",
        "kq"
      ],
      "metadata": {
        "colab": {
          "base_uri": "https://localhost:8080/",
          "height": 37
        },
        "id": "99ckCymPAK8y",
        "outputId": "243c96cb-5a8e-4a29-d1dc-d502e751d6e0"
      },
      "execution_count": 50,
      "outputs": [
        {
          "output_type": "execute_result",
          "data": {
            "text/plain": [
              "FiniteSet(2, 3, 4, 5, 6, 7)"
            ],
            "text/latex": "$\\displaystyle \\left\\{2, 3, 4, 5, 6, 7\\right\\}$"
          },
          "metadata": {},
          "execution_count": 50
        }
      ]
    },
    {
      "cell_type": "code",
      "source": [
        "from sympy import FiniteSet\n",
        "u = FiniteSet(10, 20, 50)\n",
        "v = FiniteSet(1, 2, 5)\n",
        "u + v"
      ],
      "metadata": {
        "colab": {
          "base_uri": "https://localhost:8080/",
          "height": 37
        },
        "id": "VeqljmEDAV7A",
        "outputId": "253a69a3-6c5e-4b1a-c043-c8d730c1a1c0"
      },
      "execution_count": 51,
      "outputs": [
        {
          "output_type": "execute_result",
          "data": {
            "text/plain": [
              "FiniteSet(1, 2, 5, 10, 20, 50)"
            ],
            "text/latex": "$\\displaystyle \\left\\{1, 2, 5, 10, 20, 50\\right\\}$"
          },
          "metadata": {},
          "execution_count": 51
        }
      ]
    },
    {
      "cell_type": "code",
      "source": [
        "from sympy import FiniteSet\n",
        "s = FiniteSet(1, 2, 10)\n",
        "t = FiniteSet(1, 3, 10)\n",
        "giao = s.intersect(t)\n",
        "giao "
      ],
      "metadata": {
        "colab": {
          "base_uri": "https://localhost:8080/",
          "height": 37
        },
        "id": "KoyaxkaGAd1Z",
        "outputId": "95a2041b-fa9f-4340-a532-6fabae192443"
      },
      "execution_count": 53,
      "outputs": [
        {
          "output_type": "execute_result",
          "data": {
            "text/plain": [
              "FiniteSet(1, 10)"
            ],
            "text/latex": "$\\displaystyle \\left\\{1, 10\\right\\}$"
          },
          "metadata": {},
          "execution_count": 53
        }
      ]
    },
    {
      "cell_type": "code",
      "source": [
        "from sympy import FiniteSet\n",
        "s = FiniteSet(1, 2, 10)\n",
        "t = FiniteSet(1, 3, 10)\n",
        "u = FiniteSet(10, 20, 50)\n",
        "hop = s.union(t).union(u)\n",
        "hop"
      ],
      "metadata": {
        "colab": {
          "base_uri": "https://localhost:8080/",
          "height": 37
        },
        "id": "-HsiHxGSAlzI",
        "outputId": "68bfd1e0-274f-44bd-832a-033f23fe8a60"
      },
      "execution_count": 54,
      "outputs": [
        {
          "output_type": "execute_result",
          "data": {
            "text/plain": [
              "FiniteSet(1, 2, 3, 10, 20, 50)"
            ],
            "text/latex": "$\\displaystyle \\left\\{1, 2, 3, 10, 20, 50\\right\\}$"
          },
          "metadata": {},
          "execution_count": 54
        }
      ]
    },
    {
      "cell_type": "code",
      "source": [
        "giao = s.intersect(t).intersect(u)\n",
        "giao "
      ],
      "metadata": {
        "colab": {
          "base_uri": "https://localhost:8080/",
          "height": 37
        },
        "id": "m0tSS9ZJAsip",
        "outputId": "952b5f3e-59a1-4e4e-bcde-930d7f25ae89"
      },
      "execution_count": 55,
      "outputs": [
        {
          "output_type": "execute_result",
          "data": {
            "text/plain": [
              "FiniteSet(10)"
            ],
            "text/latex": "$\\displaystyle \\left\\{10\\right\\}$"
          },
          "metadata": {},
          "execution_count": 55
        }
      ]
    },
    {
      "cell_type": "code",
      "source": [
        "from sympy import FiniteSet\n",
        "u = FiniteSet(10, 20, 50)\n",
        "v = FiniteSet(1, 2, 5)\n",
        "rong = u.intersect(v)\n",
        "rong \n"
      ],
      "metadata": {
        "colab": {
          "base_uri": "https://localhost:8080/",
          "height": 37
        },
        "id": "Ir3Ov9gRAunZ",
        "outputId": "63b7ac6f-0b7d-4f5a-85d6-58ebc248a406"
      },
      "execution_count": 56,
      "outputs": [
        {
          "output_type": "execute_result",
          "data": {
            "text/plain": [
              "EmptySet"
            ],
            "text/latex": "$\\displaystyle \\emptyset$"
          },
          "metadata": {},
          "execution_count": 56
        }
      ]
    },
    {
      "cell_type": "code",
      "source": [
        "rong = v.intersect(u)\n",
        "rong"
      ],
      "metadata": {
        "colab": {
          "base_uri": "https://localhost:8080/",
          "height": 37
        },
        "id": "jMykj_ibBFxS",
        "outputId": "3fabf38d-f4f6-4983-9cde-6ee80cd6834e"
      },
      "execution_count": 57,
      "outputs": [
        {
          "output_type": "execute_result",
          "data": {
            "text/plain": [
              "EmptySet"
            ],
            "text/latex": "$\\displaystyle \\emptyset$"
          },
          "metadata": {},
          "execution_count": 57
        }
      ]
    },
    {
      "cell_type": "code",
      "source": [
        "from sympy import FiniteSet\n",
        "v = FiniteSet(1, 2, 5)\n",
        "p = v ** 2\n",
        "p"
      ],
      "metadata": {
        "colab": {
          "base_uri": "https://localhost:8080/",
          "height": 38
        },
        "id": "nAnBJ92mBLe3",
        "outputId": "7453ae55-ee86-45ad-d281-07311b4efd21"
      },
      "execution_count": 58,
      "outputs": [
        {
          "output_type": "execute_result",
          "data": {
            "text/plain": [
              "ProductSet(FiniteSet(1, 2, 5), FiniteSet(1, 2, 5))"
            ],
            "text/latex": "$\\displaystyle \\left\\{1, 2, 5\\right\\}^{2}$"
          },
          "metadata": {},
          "execution_count": 58
        }
      ]
    },
    {
      "cell_type": "code",
      "source": [
        "for phantu in p : \n",
        "  print(phantu)"
      ],
      "metadata": {
        "colab": {
          "base_uri": "https://localhost:8080/"
        },
        "id": "o7i6eOrUBP6Q",
        "outputId": "98acba9a-73e8-4a12-9848-98b9c3ac3206"
      },
      "execution_count": 59,
      "outputs": [
        {
          "output_type": "stream",
          "name": "stdout",
          "text": [
            "(1, 1)\n",
            "(2, 1)\n",
            "(1, 2)\n",
            "(5, 1)\n",
            "(2, 2)\n",
            "(1, 5)\n",
            "(5, 2)\n",
            "(2, 5)\n",
            "(5, 5)\n"
          ]
        }
      ]
    },
    {
      "cell_type": "code",
      "source": [
        "from sympy import FiniteSet\n",
        "K = FiniteSet(35, 18, 27, 29, 24)\n",
        "for k in K:\n",
        " T = k/10.0\n",
        " print (T, k)"
      ],
      "metadata": {
        "colab": {
          "base_uri": "https://localhost:8080/"
        },
        "id": "YuyC1edMBWAg",
        "outputId": "0c703447-b016-4d13-f8ca-11e4fc58af62"
      },
      "execution_count": 60,
      "outputs": [
        {
          "output_type": "stream",
          "name": "stdout",
          "text": [
            "1.80000000000000 18\n",
            "2.40000000000000 24\n",
            "2.70000000000000 27\n",
            "2.90000000000000 29\n",
            "3.50000000000000 35\n"
          ]
        }
      ]
    },
    {
      "cell_type": "code",
      "source": [
        "from sympy import FiniteSet\n",
        "s = FiniteSet(0, 1, 2, 3, 4, 5, 6, 7, 8, 9) # cac so co the trong bien so\n",
        "a = FiniteSet(2, 3, 5, 7) # cac so nguyen to\n",
        "b = FiniteSet(1, 3, 5, 7, 9) # cac so le\n",
        "e = a.intersect(b)\n",
        "len(e)/len(s)"
      ],
      "metadata": {
        "colab": {
          "base_uri": "https://localhost:8080/"
        },
        "id": "2foy4Q5mBdQo",
        "outputId": "9d8af2bd-9b8b-470d-c37b-6b06e3642f8e"
      },
      "execution_count": 62,
      "outputs": [
        {
          "output_type": "execute_result",
          "data": {
            "text/plain": [
              "0.3"
            ]
          },
          "metadata": {},
          "execution_count": 62
        }
      ]
    },
    {
      "cell_type": "code",
      "source": [
        ""
      ],
      "metadata": {
        "id": "SUmDPvY7BzOu"
      },
      "execution_count": null,
      "outputs": []
    }
  ]
}