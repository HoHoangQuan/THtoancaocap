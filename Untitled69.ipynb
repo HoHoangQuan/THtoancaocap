{
  "nbformat": 4,
  "nbformat_minor": 0,
  "metadata": {
    "colab": {
      "name": "Untitled69.ipynb",
      "provenance": [],
      "authorship_tag": "ABX9TyNGbONIpRZYLYoX4ykVMyT4",
      "include_colab_link": true
    },
    "kernelspec": {
      "name": "python3",
      "display_name": "Python 3"
    },
    "language_info": {
      "name": "python"
    }
  },
  "cells": [
    {
      "cell_type": "markdown",
      "metadata": {
        "id": "view-in-github",
        "colab_type": "text"
      },
      "source": [
        "<a href=\"https://colab.research.google.com/github/HoHoangQuan/THtoancaocap/blob/main/Untitled69.ipynb\" target=\"_parent\"><img src=\"https://colab.research.google.com/assets/colab-badge.svg\" alt=\"Open In Colab\"/></a>"
      ]
    },
    {
      "cell_type": "code",
      "execution_count": 3,
      "metadata": {
        "id": "S_TnB68gwtMQ"
      },
      "outputs": [],
      "source": [
        "def luythua(x, n):\n",
        " ketqua= 1\n",
        " for i in range(n):\n",
        "   ketqua = ketqua *x\n",
        " return ketqua "
      ]
    },
    {
      "cell_type": "code",
      "source": [
        "luythua(2,1) "
      ],
      "metadata": {
        "colab": {
          "base_uri": "https://localhost:8080/"
        },
        "id": "DLv9agg9x1Q2",
        "outputId": "b4a503db-2a87-4b3e-e3a9-8673877c6871"
      },
      "execution_count": 4,
      "outputs": [
        {
          "output_type": "execute_result",
          "data": {
            "text/plain": [
              "2"
            ]
          },
          "metadata": {},
          "execution_count": 4
        }
      ]
    },
    {
      "cell_type": "code",
      "source": [
        "luythua(2,0)"
      ],
      "metadata": {
        "colab": {
          "base_uri": "https://localhost:8080/"
        },
        "id": "rr7d7mblx8Z3",
        "outputId": "01ec4c19-4f2d-40a0-831f-1b835796bd24"
      },
      "execution_count": 5,
      "outputs": [
        {
          "output_type": "execute_result",
          "data": {
            "text/plain": [
              "1"
            ]
          },
          "metadata": {},
          "execution_count": 5
        }
      ]
    },
    {
      "cell_type": "code",
      "source": [
        "{2, 4, 6} "
      ],
      "metadata": {
        "id": "8bLixG5ax_a-"
      },
      "execution_count": null,
      "outputs": []
    },
    {
      "cell_type": "code",
      "source": [
        "{ n for n in range(100) if n % 2 == 1 } "
      ],
      "metadata": {
        "colab": {
          "base_uri": "https://localhost:8080/"
        },
        "id": "nz47Q299yd_S",
        "outputId": "bc5222a3-c359-4c74-9a22-96fba504dc70"
      },
      "execution_count": 6,
      "outputs": [
        {
          "output_type": "execute_result",
          "data": {
            "text/plain": [
              "{1,\n",
              " 3,\n",
              " 5,\n",
              " 7,\n",
              " 9,\n",
              " 11,\n",
              " 13,\n",
              " 15,\n",
              " 17,\n",
              " 19,\n",
              " 21,\n",
              " 23,\n",
              " 25,\n",
              " 27,\n",
              " 29,\n",
              " 31,\n",
              " 33,\n",
              " 35,\n",
              " 37,\n",
              " 39,\n",
              " 41,\n",
              " 43,\n",
              " 45,\n",
              " 47,\n",
              " 49,\n",
              " 51,\n",
              " 53,\n",
              " 55,\n",
              " 57,\n",
              " 59,\n",
              " 61,\n",
              " 63,\n",
              " 65,\n",
              " 67,\n",
              " 69,\n",
              " 71,\n",
              " 73,\n",
              " 75,\n",
              " 77,\n",
              " 79,\n",
              " 81,\n",
              " 83,\n",
              " 85,\n",
              " 87,\n",
              " 89,\n",
              " 91,\n",
              " 93,\n",
              " 95,\n",
              " 97,\n",
              " 99}"
            ]
          },
          "metadata": {},
          "execution_count": 6
        }
      ]
    },
    {
      "cell_type": "code",
      "source": [
        "tap_rong = set() \n",
        "print (tap_rong)"
      ],
      "metadata": {
        "colab": {
          "base_uri": "https://localhost:8080/"
        },
        "id": "f5p2yXYfyf7O",
        "outputId": "a0739ba9-a6d0-4d62-9b07-c3699619d520"
      },
      "execution_count": 7,
      "outputs": [
        {
          "output_type": "stream",
          "name": "stdout",
          "text": [
            "set()\n"
          ]
        }
      ]
    },
    {
      "cell_type": "code",
      "source": [
        "setA = { n for n in range(100) if n % 2 == 1 } \n",
        "setB = { n for n in range(100) if n % 2 == 1 } \n",
        "setA | setB "
      ],
      "metadata": {
        "colab": {
          "base_uri": "https://localhost:8080/"
        },
        "id": "ko0jV64oygk2",
        "outputId": "f6457879-cb43-46a5-e5bb-aeb2062a3212"
      },
      "execution_count": 8,
      "outputs": [
        {
          "output_type": "execute_result",
          "data": {
            "text/plain": [
              "{1,\n",
              " 3,\n",
              " 5,\n",
              " 7,\n",
              " 9,\n",
              " 11,\n",
              " 13,\n",
              " 15,\n",
              " 17,\n",
              " 19,\n",
              " 21,\n",
              " 23,\n",
              " 25,\n",
              " 27,\n",
              " 29,\n",
              " 31,\n",
              " 33,\n",
              " 35,\n",
              " 37,\n",
              " 39,\n",
              " 41,\n",
              " 43,\n",
              " 45,\n",
              " 47,\n",
              " 49,\n",
              " 51,\n",
              " 53,\n",
              " 55,\n",
              " 57,\n",
              " 59,\n",
              " 61,\n",
              " 63,\n",
              " 65,\n",
              " 67,\n",
              " 69,\n",
              " 71,\n",
              " 73,\n",
              " 75,\n",
              " 77,\n",
              " 79,\n",
              " 81,\n",
              " 83,\n",
              " 85,\n",
              " 87,\n",
              " 89,\n",
              " 91,\n",
              " 93,\n",
              " 95,\n",
              " 97,\n",
              " 99}"
            ]
          },
          "metadata": {},
          "execution_count": 8
        }
      ]
    },
    {
      "cell_type": "code",
      "source": [
        "setA | setB "
      ],
      "metadata": {
        "colab": {
          "base_uri": "https://localhost:8080/"
        },
        "id": "Y0PVkfGyy8Xl",
        "outputId": "2348f2c9-8df5-42e6-8f89-ede1e19ca0db"
      },
      "execution_count": 9,
      "outputs": [
        {
          "output_type": "execute_result",
          "data": {
            "text/plain": [
              "{1,\n",
              " 3,\n",
              " 5,\n",
              " 7,\n",
              " 9,\n",
              " 11,\n",
              " 13,\n",
              " 15,\n",
              " 17,\n",
              " 19,\n",
              " 21,\n",
              " 23,\n",
              " 25,\n",
              " 27,\n",
              " 29,\n",
              " 31,\n",
              " 33,\n",
              " 35,\n",
              " 37,\n",
              " 39,\n",
              " 41,\n",
              " 43,\n",
              " 45,\n",
              " 47,\n",
              " 49,\n",
              " 51,\n",
              " 53,\n",
              " 55,\n",
              " 57,\n",
              " 59,\n",
              " 61,\n",
              " 63,\n",
              " 65,\n",
              " 67,\n",
              " 69,\n",
              " 71,\n",
              " 73,\n",
              " 75,\n",
              " 77,\n",
              " 79,\n",
              " 81,\n",
              " 83,\n",
              " 85,\n",
              " 87,\n",
              " 89,\n",
              " 91,\n",
              " 93,\n",
              " 95,\n",
              " 97,\n",
              " 99}"
            ]
          },
          "metadata": {},
          "execution_count": 9
        }
      ]
    },
    {
      "cell_type": "code",
      "source": [
        "setA - setB"
      ],
      "metadata": {
        "colab": {
          "base_uri": "https://localhost:8080/"
        },
        "id": "UgcaO14Yy-zM",
        "outputId": "7e89283d-f24f-453f-e119-27f324c64a2f"
      },
      "execution_count": 10,
      "outputs": [
        {
          "output_type": "execute_result",
          "data": {
            "text/plain": [
              "set()"
            ]
          },
          "metadata": {},
          "execution_count": 10
        }
      ]
    },
    {
      "cell_type": "code",
      "source": [
        "setA < setB "
      ],
      "metadata": {
        "colab": {
          "base_uri": "https://localhost:8080/"
        },
        "id": "ISKhHMrCy_7E",
        "outputId": "7abc82d1-7e63-45ba-a639-b04d7f3a017f"
      },
      "execution_count": 11,
      "outputs": [
        {
          "output_type": "execute_result",
          "data": {
            "text/plain": [
              "False"
            ]
          },
          "metadata": {},
          "execution_count": 11
        }
      ]
    },
    {
      "cell_type": "code",
      "source": [
        "setA <= setB"
      ],
      "metadata": {
        "colab": {
          "base_uri": "https://localhost:8080/"
        },
        "id": "PRIMTUhly_51",
        "outputId": "81d8c47c-2fec-4b09-861f-a4f5653cf87a"
      },
      "execution_count": 12,
      "outputs": [
        {
          "output_type": "execute_result",
          "data": {
            "text/plain": [
              "True"
            ]
          },
          "metadata": {},
          "execution_count": 12
        }
      ]
    },
    {
      "cell_type": "code",
      "source": [
        " 10 in setA"
      ],
      "metadata": {
        "colab": {
          "base_uri": "https://localhost:8080/"
        },
        "id": "H-SwRvlPzJJF",
        "outputId": "f54a539b-b275-4606-b92a-a57ae7402f7a"
      },
      "execution_count": 13,
      "outputs": [
        {
          "output_type": "execute_result",
          "data": {
            "text/plain": [
              "False"
            ]
          },
          "metadata": {},
          "execution_count": 13
        }
      ]
    },
    {
      "cell_type": "code",
      "source": [
        "11 in setA \n"
      ],
      "metadata": {
        "colab": {
          "base_uri": "https://localhost:8080/"
        },
        "id": "PqG1lkQ7zK9H",
        "outputId": "14211cf9-2ccc-4fca-ea45-8cd88b3a34a4"
      },
      "execution_count": 14,
      "outputs": [
        {
          "output_type": "execute_result",
          "data": {
            "text/plain": [
              "True"
            ]
          },
          "metadata": {},
          "execution_count": 14
        }
      ]
    },
    {
      "cell_type": "code",
      "source": [
        "setA.add(0)"
      ],
      "metadata": {
        "id": "RBumEUuNzK78"
      },
      "execution_count": 17,
      "outputs": []
    },
    {
      "cell_type": "code",
      "source": [
        "setA > setB "
      ],
      "metadata": {
        "colab": {
          "base_uri": "https://localhost:8080/"
        },
        "id": "qRjsSCWJzRs8",
        "outputId": "ae709b55-3ec2-4d35-ac7b-91547937ad5c"
      },
      "execution_count": 16,
      "outputs": [
        {
          "output_type": "execute_result",
          "data": {
            "text/plain": [
              "True"
            ]
          },
          "metadata": {},
          "execution_count": 16
        }
      ]
    },
    {
      "cell_type": "code",
      "source": [
        "g = lambda x: x**2\n",
        "g(8)"
      ],
      "metadata": {
        "colab": {
          "base_uri": "https://localhost:8080/"
        },
        "id": "GzDzP6nFzYfO",
        "outputId": "1dd449f2-725b-48c5-837c-6a7689e5a4e4"
      },
      "execution_count": 27,
      "outputs": [
        {
          "output_type": "execute_result",
          "data": {
            "text/plain": [
              "64"
            ]
          },
          "metadata": {},
          "execution_count": 27
        }
      ]
    },
    {
      "cell_type": "code",
      "source": [
        "def thue(phan_tram): return lambda x:x*phan_tram\n",
        "hcm = thue(0.012)\n",
        "hn = thue(0.01)\n",
        "hcm(1000000)"
      ],
      "metadata": {
        "colab": {
          "base_uri": "https://localhost:8080/"
        },
        "id": "d3zYYWqBzYc8",
        "outputId": "c6bd3523-7574-4469-ba82-655c37999097"
      },
      "execution_count": 37,
      "outputs": [
        {
          "output_type": "execute_result",
          "data": {
            "text/plain": [
              "12000.0"
            ]
          },
          "metadata": {},
          "execution_count": 37
        }
      ]
    },
    {
      "cell_type": "code",
      "source": [
        "day_so = range(2,50)\n",
        "list(filter(lambda x:x % 3==0,day_so))"
      ],
      "metadata": {
        "colab": {
          "base_uri": "https://localhost:8080/"
        },
        "id": "QbBJ0Dji04fl",
        "outputId": "aca123bc-9e17-40a0-f47a-19963aab5b3e"
      },
      "execution_count": 59,
      "outputs": [
        {
          "output_type": "execute_result",
          "data": {
            "text/plain": [
              "[3, 6, 9, 12, 15, 18, 21, 24, 27, 30, 33, 36, 39, 42, 45, 48]"
            ]
          },
          "metadata": {},
          "execution_count": 59
        }
      ]
    },
    {
      "cell_type": "code",
      "source": [
        " list(map(lambda x:x*x,day_so))"
      ],
      "metadata": {
        "colab": {
          "base_uri": "https://localhost:8080/"
        },
        "id": "-av1606Z04dU",
        "outputId": "34cd312c-83ac-412d-de11-07f8c829167d"
      },
      "execution_count": 60,
      "outputs": [
        {
          "output_type": "execute_result",
          "data": {
            "text/plain": [
              "[4,\n",
              " 9,\n",
              " 16,\n",
              " 25,\n",
              " 36,\n",
              " 49,\n",
              " 64,\n",
              " 81,\n",
              " 100,\n",
              " 121,\n",
              " 144,\n",
              " 169,\n",
              " 196,\n",
              " 225,\n",
              " 256,\n",
              " 289,\n",
              " 324,\n",
              " 361,\n",
              " 400,\n",
              " 441,\n",
              " 484,\n",
              " 529,\n",
              " 576,\n",
              " 625,\n",
              " 676,\n",
              " 729,\n",
              " 784,\n",
              " 841,\n",
              " 900,\n",
              " 961,\n",
              " 1024,\n",
              " 1089,\n",
              " 1156,\n",
              " 1225,\n",
              " 1296,\n",
              " 1369,\n",
              " 1444,\n",
              " 1521,\n",
              " 1600,\n",
              " 1681,\n",
              " 1764,\n",
              " 1849,\n",
              " 1936,\n",
              " 2025,\n",
              " 2116,\n",
              " 2209,\n",
              " 2304,\n",
              " 2401]"
            ]
          },
          "metadata": {},
          "execution_count": 60
        }
      ]
    },
    {
      "cell_type": "code",
      "source": [
        "from functools import reduce \n",
        "day_so = range(1,11)\n",
        "reduce(lambda x,y:x+y,day_so)"
      ],
      "metadata": {
        "colab": {
          "base_uri": "https://localhost:8080/"
        },
        "id": "mpd1DLhGzYab",
        "outputId": "8ecee588-f3be-4622-a3d7-fb67daee8feb"
      },
      "execution_count": 48,
      "outputs": [
        {
          "output_type": "execute_result",
          "data": {
            "text/plain": [
              "55"
            ]
          },
          "metadata": {},
          "execution_count": 48
        }
      ]
    },
    {
      "cell_type": "code",
      "source": [
        "ds = [20,25,50,103,13,19]\n",
        "f= lambda a,b: a if (a>b) else b \n",
        "reduce(f,ds)"
      ],
      "metadata": {
        "colab": {
          "base_uri": "https://localhost:8080/"
        },
        "id": "83sApr2ezYX0",
        "outputId": "027ad66d-68b5-4433-dd04-10888791dd6d"
      },
      "execution_count": 50,
      "outputs": [
        {
          "output_type": "execute_result",
          "data": {
            "text/plain": [
              "103"
            ]
          },
          "metadata": {},
          "execution_count": 50
        }
      ]
    },
    {
      "cell_type": "code",
      "source": [
        "imatrix = lambda n:[[1 if j==i else 0 for j in range(n)] for i in range(n)] \n",
        "imatrix(3)"
      ],
      "metadata": {
        "colab": {
          "base_uri": "https://localhost:8080/"
        },
        "id": "MFHxSGubzYVQ",
        "outputId": "60558aa4-22e1-4378-d683-f46798c361f6"
      },
      "execution_count": 51,
      "outputs": [
        {
          "output_type": "execute_result",
          "data": {
            "text/plain": [
              "[[1, 0, 0], [0, 1, 0], [0, 0, 1]]"
            ]
          },
          "metadata": {},
          "execution_count": 51
        }
      ]
    },
    {
      "cell_type": "code",
      "source": [
        "import numpy \n",
        "list_eye = lambda n: numpy.eye(n).tolist() \n",
        "list_eye(4) "
      ],
      "metadata": {
        "colab": {
          "base_uri": "https://localhost:8080/"
        },
        "id": "O17-HHB8zYSt",
        "outputId": "c2bb11eb-3c5a-4be5-d2e9-bb317ce23bb3"
      },
      "execution_count": 53,
      "outputs": [
        {
          "output_type": "execute_result",
          "data": {
            "text/plain": [
              "[[1.0, 0.0, 0.0, 0.0],\n",
              " [0.0, 1.0, 0.0, 0.0],\n",
              " [0.0, 0.0, 1.0, 0.0],\n",
              " [0.0, 0.0, 0.0, 1.0]]"
            ]
          },
          "metadata": {},
          "execution_count": 53
        }
      ]
    },
    {
      "cell_type": "code",
      "source": [
        "import math \n",
        "g = lambda n:[[1 if (j+1==i or j==i+1) else math.sqrt(2) for j in range(n)] for i in range(n)] \n",
        "g(3)"
      ],
      "metadata": {
        "colab": {
          "base_uri": "https://localhost:8080/"
        },
        "id": "FIs-v3FLzYQc",
        "outputId": "9b43135c-c8da-42c2-8ece-f27e9f8d9cc1"
      },
      "execution_count": 55,
      "outputs": [
        {
          "output_type": "execute_result",
          "data": {
            "text/plain": [
              "[[1.4142135623730951, 1, 1.4142135623730951],\n",
              " [1, 1.4142135623730951, 1],\n",
              " [1.4142135623730951, 1, 1.4142135623730951]]"
            ]
          },
          "metadata": {},
          "execution_count": 55
        }
      ]
    },
    {
      "cell_type": "code",
      "source": [
        "g = lambda n:[[1 if (j+1==i or j==i+1) else 0 if(i==n/2) else math.sqrt(2) for j in range(n)]\n",
        "for i in range(n)] \n",
        "g(3)"
      ],
      "metadata": {
        "colab": {
          "base_uri": "https://localhost:8080/"
        },
        "id": "j-oGF-bXzYOF",
        "outputId": "72edc4f9-2584-4255-ac25-4cac24455dc6"
      },
      "execution_count": 56,
      "outputs": [
        {
          "output_type": "execute_result",
          "data": {
            "text/plain": [
              "[[1.4142135623730951, 1, 1.4142135623730951],\n",
              " [1, 1.4142135623730951, 1],\n",
              " [1.4142135623730951, 1, 1.4142135623730951]]"
            ]
          },
          "metadata": {},
          "execution_count": 56
        }
      ]
    },
    {
      "cell_type": "code",
      "source": [
        "def alpha(a):\n",
        "  return a+10 \n",
        "def beta(b):\n",
        "  return b*3 \n",
        "def ham_hop(g,f):\n",
        "  return (lambda x: g(f(x)))\n",
        "h= ham_hop(alpha,beta)\n",
        "h(1)"
      ],
      "metadata": {
        "colab": {
          "base_uri": "https://localhost:8080/"
        },
        "id": "yo3h7a90zYLn",
        "outputId": "d8a42ce6-f32d-4d95-9fce-2b1147116e57"
      },
      "execution_count": 58,
      "outputs": [
        {
          "output_type": "execute_result",
          "data": {
            "text/plain": [
              "13"
            ]
          },
          "metadata": {},
          "execution_count": 58
        }
      ]
    },
    {
      "cell_type": "code",
      "source": [
        "g=ham_hop(beta,alpha)\n",
        "g(1)"
      ],
      "metadata": {
        "colab": {
          "base_uri": "https://localhost:8080/"
        },
        "id": "IXRbNyrXzYJw",
        "outputId": "e6ab4900-dd33-4900-8eda-9dcdaa1ec974"
      },
      "execution_count": 61,
      "outputs": [
        {
          "output_type": "execute_result",
          "data": {
            "text/plain": [
              "33"
            ]
          },
          "metadata": {},
          "execution_count": 61
        }
      ]
    },
    {
      "cell_type": "code",
      "source": [
        "from datetime import datetime\n",
        "from datetime import timedelta \n",
        "def millis(start_time):\n",
        "  dt= datetime.now()-start_time \n",
        "  ms=(dt.days*24*60*60+dt.seconds)*1000+dt.microseconds/1000.0 \n",
        "  return ms \n",
        "def milisec_passed(start_time):\n",
        "  thoigian_troi_qua = millis(start_time)\n",
        "  s = \"Thoi gian da troi qua:\" + str(int(thoigian_troi_qua)) + \" mili giay.\" \n",
        "  return s \n",
        "def tong(n):\n",
        "  bat_dau = datetime.now()  \n",
        "  ketqua = 0\n",
        "  for i in range(n+1):\n",
        "   ketqua = ketqua + i\n",
        "  thoi_gian = str(milisec_passed(bat_dau)) \n",
        "  print(thoi_gian) \n",
        "  return ketqua\n",
        "tong(100000000) "
      ],
      "metadata": {
        "colab": {
          "base_uri": "https://localhost:8080/"
        },
        "id": "CCRsgw8Z7qSn",
        "outputId": "b0f9345b-b91d-438c-f551-f675d3016b38"
      },
      "execution_count": 64,
      "outputs": [
        {
          "output_type": "stream",
          "name": "stdout",
          "text": [
            "Thoi gian da troi qua:6526 mili giay.\n"
          ]
        },
        {
          "output_type": "execute_result",
          "data": {
            "text/plain": [
              "5000000050000000"
            ]
          },
          "metadata": {},
          "execution_count": 64
        }
      ]
    },
    {
      "cell_type": "code",
      "source": [
        "def tong1(n):\n",
        "  bat_dau=datetime.now()\n",
        "  ket_qua=n*(n+1)/2\n",
        "  thoi_gian = str(milisec_passed(bat_dau))\n",
        "  print(thoi_gian)\n",
        "  return ket_qua \n",
        "tong1(100000000)"
      ],
      "metadata": {
        "colab": {
          "base_uri": "https://localhost:8080/"
        },
        "id": "aHBgKp6IzYIG",
        "outputId": "fdda0aa5-39d5-4cdd-bede-26a604df870e"
      },
      "execution_count": 66,
      "outputs": [
        {
          "output_type": "stream",
          "name": "stdout",
          "text": [
            "Thoi gian da troi qua:0 mili giay.\n"
          ]
        },
        {
          "output_type": "execute_result",
          "data": {
            "text/plain": [
              "5000000050000000.0"
            ]
          },
          "metadata": {},
          "execution_count": 66
        }
      ]
    },
    {
      "cell_type": "code",
      "source": [
        "def fibo(n):\n",
        " if(n==0)or(n==1):\n",
        "   return 1 \n",
        " else: \n",
        "   return fibo(n-1)+fibo(n-2)"
      ],
      "metadata": {
        "id": "JqLAKH5OzYGU"
      },
      "execution_count": 68,
      "outputs": []
    },
    {
      "cell_type": "code",
      "source": [
        "fibo(2)"
      ],
      "metadata": {
        "colab": {
          "base_uri": "https://localhost:8080/"
        },
        "id": "sVaP3A69zYD0",
        "outputId": "0720c086-d68f-46d5-a2b2-56682a949af6"
      },
      "execution_count": 70,
      "outputs": [
        {
          "output_type": "execute_result",
          "data": {
            "text/plain": [
              "2"
            ]
          },
          "metadata": {},
          "execution_count": 70
        }
      ]
    },
    {
      "cell_type": "code",
      "source": [
        "fibo(4)"
      ],
      "metadata": {
        "colab": {
          "base_uri": "https://localhost:8080/"
        },
        "id": "pDEawqFrzX_f",
        "outputId": "6e24f807-cc81-4360-a8bd-15862e65e7cb"
      },
      "execution_count": 71,
      "outputs": [
        {
          "output_type": "execute_result",
          "data": {
            "text/plain": [
              "5"
            ]
          },
          "metadata": {},
          "execution_count": 71
        }
      ]
    },
    {
      "cell_type": "code",
      "source": [
        "fibo(3)"
      ],
      "metadata": {
        "colab": {
          "base_uri": "https://localhost:8080/"
        },
        "id": "jSWboKCSzX9M",
        "outputId": "554482ea-53d6-440d-8f24-2a17b469dfb7"
      },
      "execution_count": 72,
      "outputs": [
        {
          "output_type": "execute_result",
          "data": {
            "text/plain": [
              "3"
            ]
          },
          "metadata": {},
          "execution_count": 72
        }
      ]
    },
    {
      "cell_type": "code",
      "source": [
        "fibo(5)"
      ],
      "metadata": {
        "colab": {
          "base_uri": "https://localhost:8080/"
        },
        "id": "pmxg1cnwzX1s",
        "outputId": "989c3c6a-860f-43d8-e337-9840f9f33f1f"
      },
      "execution_count": 69,
      "outputs": [
        {
          "output_type": "execute_result",
          "data": {
            "text/plain": [
              "8"
            ]
          },
          "metadata": {},
          "execution_count": 69
        }
      ]
    },
    {
      "cell_type": "code",
      "source": [
        "def fibo_mem(n, so_da_tinh = {0:0, 1: 1}):\n",
        " if n not in so_da_tinh:\n",
        "  so_da_tinh[n] = fibo_mem(n-1, so_da_tinh) + fibo_mem(n-2, so_da_tinh)\n",
        " return so_da_tinh[n] "
      ],
      "metadata": {
        "id": "ka9JggeE-uaU"
      },
      "execution_count": 73,
      "outputs": []
    },
    {
      "cell_type": "code",
      "source": [
        "fibo_mem(3)"
      ],
      "metadata": {
        "colab": {
          "base_uri": "https://localhost:8080/"
        },
        "id": "CTkpw5kF-uzG",
        "outputId": "7d6c785c-78eb-4de4-a643-9f6216a66132"
      },
      "execution_count": 74,
      "outputs": [
        {
          "output_type": "execute_result",
          "data": {
            "text/plain": [
              "2"
            ]
          },
          "metadata": {},
          "execution_count": 74
        }
      ]
    },
    {
      "cell_type": "code",
      "source": [
        "fibo_mem(4)"
      ],
      "metadata": {
        "colab": {
          "base_uri": "https://localhost:8080/"
        },
        "id": "Ywiv41kC-vYV",
        "outputId": "dce51512-374c-4265-83e2-20f0a974d000"
      },
      "execution_count": 75,
      "outputs": [
        {
          "output_type": "execute_result",
          "data": {
            "text/plain": [
              "3"
            ]
          },
          "metadata": {},
          "execution_count": 75
        }
      ]
    },
    {
      "cell_type": "code",
      "source": [
        "fibo_mem(5)"
      ],
      "metadata": {
        "colab": {
          "base_uri": "https://localhost:8080/"
        },
        "id": "rUAmKUIg-vr2",
        "outputId": "c4fba9bc-a10d-4ceb-9a66-ed9b39875ff4"
      },
      "execution_count": 76,
      "outputs": [
        {
          "output_type": "execute_result",
          "data": {
            "text/plain": [
              "5"
            ]
          },
          "metadata": {},
          "execution_count": 76
        }
      ]
    },
    {
      "cell_type": "code",
      "source": [
        "fibo_mem(200)"
      ],
      "metadata": {
        "colab": {
          "base_uri": "https://localhost:8080/"
        },
        "id": "5hqYVB37-vqe",
        "outputId": "fa4e9026-2ba5-4bb0-b53e-d528fd464b5e"
      },
      "execution_count": 77,
      "outputs": [
        {
          "output_type": "execute_result",
          "data": {
            "text/plain": [
              "280571172992510140037611932413038677189525"
            ]
          },
          "metadata": {},
          "execution_count": 77
        }
      ]
    },
    {
      "cell_type": "code",
      "source": [
        "fibo_mem(500)"
      ],
      "metadata": {
        "colab": {
          "base_uri": "https://localhost:8080/"
        },
        "id": "3FwkwBfy-wBO",
        "outputId": "672fda70-ba9f-4c5f-dff8-d174df22124b"
      },
      "execution_count": 78,
      "outputs": [
        {
          "output_type": "execute_result",
          "data": {
            "text/plain": [
              "139423224561697880139724382870407283950070256587697307264108962948325571622863290691557658876222521294125"
            ]
          },
          "metadata": {},
          "execution_count": 78
        }
      ]
    }
  ]
}