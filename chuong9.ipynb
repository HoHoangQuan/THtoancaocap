{
  "nbformat": 4,
  "nbformat_minor": 0,
  "metadata": {
    "colab": {
      "name": " chuong9.ipynb",
      "provenance": [],
      "authorship_tag": "ABX9TyP9nwXZUakYKaexOPlgBHQ+",
      "include_colab_link": true
    },
    "kernelspec": {
      "name": "python3",
      "display_name": "Python 3"
    },
    "language_info": {
      "name": "python"
    }
  },
  "cells": [
    {
      "cell_type": "markdown",
      "metadata": {
        "id": "view-in-github",
        "colab_type": "text"
      },
      "source": [
        "<a href=\"https://colab.research.google.com/github/HoHoangQuan/THtoancaocap/blob/main/chuong9.ipynb\" target=\"_parent\"><img src=\"https://colab.research.google.com/assets/colab-badge.svg\" alt=\"Open In Colab\"/></a>"
      ]
    },
    {
      "cell_type": "markdown",
      "source": [
        ""
      ],
      "metadata": {
        "id": "5VJJ9NcgUXLU"
      }
    },
    {
      "cell_type": "code",
      "source": [
        "def binary_search(arr, low, high, x):\n",
        "    if high >= low:\n",
        "        mid = (high + low) // 2\n",
        "        if arr[mid] == x:\n",
        "            return mid\n",
        "        elif arr[mid] > x:\n",
        "            return binary_search(arr, low, mid - 1, x)\n",
        "        else:\n",
        "            return binary_search(arr, mid + 1, high, x)\n",
        "    else:\n",
        "        return -1\n",
        "\n",
        "arr = [ 2, 5, 8, 12, 16, 23, 38, 56, 72, 91 ]\n",
        "x = 12\n",
        "\n",
        "result = binary_search(arr, 0, len(arr)-1, x)\n",
        "if result != -1:\n",
        "    print(\"Phần tử cần tìm có chỉ số là \", str(result))\n",
        "else:\n",
        "    print(\"Phần tử cần tìm không có trong mảng.\")"
      ],
      "metadata": {
        "colab": {
          "base_uri": "https://localhost:8080/"
        },
        "id": "HVJzAY15RnL7",
        "outputId": "0d256e01-037b-449b-9e60-108ba0791d82"
      },
      "execution_count": 2,
      "outputs": [
        {
          "output_type": "stream",
          "name": "stdout",
          "text": [
            "Phần tử cần tìm có chỉ số là  3\n"
          ]
        }
      ]
    },
    {
      "cell_type": "code",
      "source": [
        "def binary_search(arr, low, high, x):\n",
        "    if high >= low:\n",
        "        mid = (high + low) // 2\n",
        "        if arr[mid] == x:\n",
        "            return mid\n",
        "        elif arr[mid] > x:\n",
        "            return binary_search(arr, low, mid - 1, x)\n",
        "        else:\n",
        "            return binary_search(arr, mid + 1, high, x)\n",
        "    else:\n",
        "        return -1\n",
        "\n",
        "arr = [ 2, 5, 8, 12, 16, 23, 38, 56, 72, 91 ]\n",
        "x =72\n",
        "\n",
        "result = binary_search(arr, 0, len(arr)-1, x)\n",
        "if result != -1:\n",
        "    print(\"Phần tử cần tìm có chỉ số là \", str(result))\n",
        "else:\n",
        "    print(\"Phần tử cần tìm không có trong mảng.\")"
      ],
      "metadata": {
        "colab": {
          "base_uri": "https://localhost:8080/"
        },
        "id": "hVzQFy8AUOoo",
        "outputId": "0687e8ff-849a-4b74-bab5-5695ff62f014"
      },
      "execution_count": 3,
      "outputs": [
        {
          "output_type": "stream",
          "name": "stdout",
          "text": [
            "Phần tử cần tìm có chỉ số là  8\n"
          ]
        }
      ]
    }
  ]
}