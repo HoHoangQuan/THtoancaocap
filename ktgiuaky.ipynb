{
  "nbformat": 4,
  "nbformat_minor": 0,
  "metadata": {
    "colab": {
      "name": "ktgiuaky.ipynb",
      "provenance": [],
      "authorship_tag": "ABX9TyPdFnYfGV5zscESwErEVKUB",
      "include_colab_link": true
    },
    "kernelspec": {
      "name": "python3",
      "display_name": "Python 3"
    },
    "language_info": {
      "name": "python"
    }
  },
  "cells": [
    {
      "cell_type": "markdown",
      "metadata": {
        "id": "view-in-github",
        "colab_type": "text"
      },
      "source": [
        "<a href=\"https://colab.research.google.com/github/HoHoangQuan/THtoancaocap/blob/main/ktgiuaky.ipynb\" target=\"_parent\"><img src=\"https://colab.research.google.com/assets/colab-badge.svg\" alt=\"Open In Colab\"/></a>"
      ]
    },
    {
      "cell_type": "markdown",
      "source": [
        "CAU 1"
      ],
      "metadata": {
        "id": "pKu0THaJIhkB"
      }
    },
    {
      "cell_type": "code",
      "execution_count": 1,
      "metadata": {
        "colab": {
          "base_uri": "https://localhost:8080/"
        },
        "id": "woJGGmJ2GX_l",
        "outputId": "6e96e0f5-0ee3-47f6-a48b-48a0377a7447"
      },
      "outputs": [
        {
          "output_type": "stream",
          "name": "stdout",
          "text": [
            "('A', 'B', 'C')\n",
            "('A', 'C', 'B')\n",
            "('B', 'A', 'C')\n",
            "('B', 'C', 'A')\n",
            "('C', 'A', 'B')\n",
            "('C', 'B', 'A')\n"
          ]
        }
      ],
      "source": [
        "from itertools import permutations \n",
        "for i in permutations('ABC'):\n",
        "  print(i)"
      ]
    },
    {
      "cell_type": "code",
      "source": [
        "from itertools import permutations \n",
        "for i in permutations('ABC',2):\n",
        "  print(i)"
      ],
      "metadata": {
        "colab": {
          "base_uri": "https://localhost:8080/"
        },
        "id": "PevNQ_ZAG97s",
        "outputId": "5902e69f-2cb0-4e3c-eb57-b4e8ee5fdcf9"
      },
      "execution_count": 4,
      "outputs": [
        {
          "output_type": "stream",
          "name": "stdout",
          "text": [
            "('A', 'B')\n",
            "('A', 'C')\n",
            "('B', 'A')\n",
            "('B', 'C')\n",
            "('C', 'A')\n",
            "('C', 'B')\n"
          ]
        }
      ]
    },
    {
      "cell_type": "code",
      "source": [
        "from itertools import combinations\n",
        "comb = combinations([\"A\",\"B\",\"C\"], 3)\n",
        "for i in list(comb):\n",
        "    print (i)"
      ],
      "metadata": {
        "colab": {
          "base_uri": "https://localhost:8080/"
        },
        "id": "QrAjBy3QHFLJ",
        "outputId": "e1db85e0-9eb5-4348-8c26-0ea203a4a3f9"
      },
      "execution_count": 13,
      "outputs": [
        {
          "output_type": "stream",
          "name": "stdout",
          "text": [
            "('A', 'B', 'C')\n"
          ]
        }
      ]
    },
    {
      "cell_type": "markdown",
      "source": [
        "CAU 2"
      ],
      "metadata": {
        "id": "_VCdE-_OIoBR"
      }
    },
    {
      "cell_type": "code",
      "source": [
        "def intersection(A,B):\n",
        "    z = [value for value in A if value in B]\n",
        "    return z\n",
        " \n",
        "A = [0,1,2,3,4,5,6,7,8,9,10]\n",
        "B = [2,4,6,8,10,12,14]\n",
        "print(intersection(A,B))"
      ],
      "metadata": {
        "colab": {
          "base_uri": "https://localhost:8080/"
        },
        "id": "4RrQbwcRIkOS",
        "outputId": "fbbbf3eb-cef0-43a2-dab7-e9dfabaa5c0d"
      },
      "execution_count": 26,
      "outputs": [
        {
          "output_type": "stream",
          "name": "stdout",
          "text": [
            "[2, 4, 6, 8, 10]\n"
          ]
        }
      ]
    },
    {
      "cell_type": "markdown",
      "source": [
        "CAU 3"
      ],
      "metadata": {
        "id": "R-7SF6xmIprk"
      }
    },
    {
      "cell_type": "code",
      "source": [
        "James = [True,True,True,True,False,False,False,True]\n",
        "Jonathan = [True,True,True,True,False,False,False,True]\n",
        "ngaytrongtuan = [\"Thu2\",\"Thu3\",\"Thu4\",\"Thu5\",\"Thu6\",\"Thu7\",\"Chu nhat\",\"Thu2\"]\n",
        "for i in range(0,6):\n",
        " if James[i]== True and Jonathan[i]== True : \n",
        "   if James[i+1]== False and Jonathan[i+1]== False : \n",
        "     print(ngaytrongtuan[i])"
      ],
      "metadata": {
        "colab": {
          "base_uri": "https://localhost:8080/"
        },
        "id": "KmmeJX5UIlX3",
        "outputId": "f53e4b00-5c9a-4073-a71e-844e309fa534"
      },
      "execution_count": 16,
      "outputs": [
        {
          "output_type": "stream",
          "name": "stdout",
          "text": [
            "Thu5\n"
          ]
        }
      ]
    },
    {
      "cell_type": "markdown",
      "source": [
        "CAu 4"
      ],
      "metadata": {
        "id": "d_X1_98SLNjs"
      }
    },
    {
      "cell_type": "code",
      "source": [
        "def fibonacci(n):\n",
        "    if (n < 0):\n",
        "        return -1;\n",
        "    elif (n == 0 or n == 1):\n",
        "        return n;\n",
        "    else:\n",
        "        return fibonacci(n - 1) + fibonacci(n - 2);\n",
        "n = int(input('Nhap so thu tu de tim trong day Fibonancci:'))\n",
        "a=\"\"\n",
        "for i in range ( 0,n+1):\n",
        "  a = str(fibonacci(i))\n",
        "print(a)"
      ],
      "metadata": {
        "colab": {
          "base_uri": "https://localhost:8080/"
        },
        "id": "EC9rXvJ9LPn2",
        "outputId": "304a0271-93f1-48d5-ef7a-3035416e73c6"
      },
      "execution_count": 22,
      "outputs": [
        {
          "output_type": "stream",
          "name": "stdout",
          "text": [
            "Nhap so thu tu de tim trong day Fibonancci:7\n",
            "13\n"
          ]
        }
      ]
    }
  ]
}