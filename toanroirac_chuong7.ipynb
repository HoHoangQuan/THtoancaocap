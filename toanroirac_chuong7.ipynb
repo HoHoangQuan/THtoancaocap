{
  "nbformat": 4,
  "nbformat_minor": 0,
  "metadata": {
    "colab": {
      "name": "toanroirac chuong7.ipynb",
      "provenance": [],
      "authorship_tag": "ABX9TyOOT3M+pmEXW7PdwdIrTQ8A",
      "include_colab_link": true
    },
    "kernelspec": {
      "name": "python3",
      "display_name": "Python 3"
    },
    "language_info": {
      "name": "python"
    }
  },
  "cells": [
    {
      "cell_type": "markdown",
      "metadata": {
        "id": "view-in-github",
        "colab_type": "text"
      },
      "source": [
        "<a href=\"https://colab.research.google.com/github/HoHoangQuan/THtoancaocap/blob/main/toanroirac_chuong7.ipynb\" target=\"_parent\"><img src=\"https://colab.research.google.com/assets/colab-badge.svg\" alt=\"Open In Colab\"/></a>"
      ]
    },
    {
      "cell_type": "code",
      "execution_count": 78,
      "metadata": {
        "colab": {
          "base_uri": "https://localhost:8080/"
        },
        "id": "uX-yG49EB_ql",
        "outputId": "974ed87e-4881-4c95-caef-427f3b9bfed5"
      },
      "outputs": [
        {
          "output_type": "stream",
          "name": "stdout",
          "text": [
            "6\n"
          ]
        }
      ],
      "source": [
        "import networkx as nx \n",
        "g = nx.Graph() \n",
        "g.add_node('TP.HCM') \n",
        "g.add_node('Dong Nai') \n",
        "g.add_node('Ba Ria Vung Tau') \n",
        "g.add_node('Lam Dong') \n",
        "g.add_node('Can Tho') \n",
        "g.add_node('Long An') \n",
        "g.add_edge('TP.HCM', 'Dong Nai') \n",
        "g.add_edge('TP.HCM', 'Ba Ria Vung Tau') \n",
        "g.add_edge('Dong Nai', 'Lam Dong') \n",
        "g.add_edge('Dong Nai', 'Ba Ria Vung Tau') \n",
        "print (g.number_of_nodes())"
      ]
    },
    {
      "cell_type": "code",
      "source": [
        "print (g.number_of_edges())"
      ],
      "metadata": {
        "colab": {
          "base_uri": "https://localhost:8080/"
        },
        "id": "iIH5wfxZCsqL",
        "outputId": "c5ef5ba9-08a5-484b-a94b-7d11b6ccbb91"
      },
      "execution_count": 79,
      "outputs": [
        {
          "output_type": "stream",
          "name": "stdout",
          "text": [
            "4\n"
          ]
        }
      ]
    },
    {
      "cell_type": "code",
      "source": [
        "print (g.nodes())"
      ],
      "metadata": {
        "colab": {
          "base_uri": "https://localhost:8080/"
        },
        "id": "uzkyNTXYCtwo",
        "outputId": "a58503cb-4c50-4430-90eb-731566d8f885"
      },
      "execution_count": 80,
      "outputs": [
        {
          "output_type": "stream",
          "name": "stdout",
          "text": [
            "['TP.HCM', 'Dong Nai', 'Ba Ria Vung Tau', 'Lam Dong', 'Can Tho', 'Long An']\n"
          ]
        }
      ]
    },
    {
      "cell_type": "code",
      "source": [
        "print (g.degree('TP.HCM'))"
      ],
      "metadata": {
        "colab": {
          "base_uri": "https://localhost:8080/"
        },
        "id": "wKETKhslCvzR",
        "outputId": "c2cc4595-ea19-4912-f3d7-d901d32ddb98"
      },
      "execution_count": 81,
      "outputs": [
        {
          "output_type": "stream",
          "name": "stdout",
          "text": [
            "2\n"
          ]
        }
      ]
    },
    {
      "cell_type": "code",
      "source": [
        "print (g.degree()) "
      ],
      "metadata": {
        "colab": {
          "base_uri": "https://localhost:8080/"
        },
        "id": "pQpW2gEMCxMM",
        "outputId": "717d093c-cef4-43df-86e0-b36662dbd8a0"
      },
      "execution_count": 82,
      "outputs": [
        {
          "output_type": "stream",
          "name": "stdout",
          "text": [
            "[('TP.HCM', 2), ('Dong Nai', 3), ('Ba Ria Vung Tau', 2), ('Lam Dong', 1), ('Can Tho', 0), ('Long An', 0)]\n"
          ]
        }
      ]
    },
    {
      "cell_type": "code",
      "source": [
        "print (list(g.neighbors('TP.HCM'))) "
      ],
      "metadata": {
        "colab": {
          "base_uri": "https://localhost:8080/"
        },
        "id": "liQEY7MXCz3X",
        "outputId": "6c81810a-a383-4e95-fe8e-38900e99dcd7"
      },
      "execution_count": 83,
      "outputs": [
        {
          "output_type": "stream",
          "name": "stdout",
          "text": [
            "['Dong Nai', 'Ba Ria Vung Tau']\n"
          ]
        }
      ]
    },
    {
      "cell_type": "code",
      "source": [
        "g.has_edge('Lam Dong', 'Long An') "
      ],
      "metadata": {
        "colab": {
          "base_uri": "https://localhost:8080/"
        },
        "id": "bUXD1Js_Cz1D",
        "outputId": "bd0e74c2-dd42-4dee-95c9-6c68225b8d87"
      },
      "execution_count": 84,
      "outputs": [
        {
          "output_type": "execute_result",
          "data": {
            "text/plain": [
              "False"
            ]
          },
          "metadata": {},
          "execution_count": 84
        }
      ]
    },
    {
      "cell_type": "code",
      "source": [
        "g.add_edge('Lam Dong', 'Long An') "
      ],
      "metadata": {
        "id": "DKipa5ItJuFK"
      },
      "execution_count": 85,
      "outputs": []
    },
    {
      "cell_type": "code",
      "source": [
        "nx.shortest_path(g, 'Lam Dong', 'Long An')"
      ],
      "metadata": {
        "colab": {
          "base_uri": "https://localhost:8080/"
        },
        "id": "3U27rw1XCzyQ",
        "outputId": "049b68ca-5dae-4c43-e004-e3aaf2f3f6b2"
      },
      "execution_count": 86,
      "outputs": [
        {
          "output_type": "execute_result",
          "data": {
            "text/plain": [
              "['Lam Dong', 'Long An']"
            ]
          },
          "metadata": {},
          "execution_count": 86
        }
      ]
    },
    {
      "cell_type": "code",
      "source": [
        "#nx.shortest_path(g, 'Lam Dong', 'Can Tho')"
      ],
      "metadata": {
        "id": "YkmMR_WFCzvb"
      },
      "execution_count": 77,
      "outputs": []
    },
    {
      "cell_type": "code",
      "source": [
        "g.add_node('Tien Giang') \n",
        "g.add_edge('Tien Giang', 'Long An') \n",
        "g.add_edge('Tien Giang', 'Can Tho') "
      ],
      "metadata": {
        "id": "I0zVudm2CzpC"
      },
      "execution_count": 87,
      "outputs": []
    },
    {
      "cell_type": "code",
      "source": [
        "nx.shortest_path(g, 'Lam Dong', 'Can Tho')"
      ],
      "metadata": {
        "colab": {
          "base_uri": "https://localhost:8080/"
        },
        "id": "7pHbxAmPEnDa",
        "outputId": "811c50d3-f74c-4937-d4a3-81abd1a51985"
      },
      "execution_count": 88,
      "outputs": [
        {
          "output_type": "execute_result",
          "data": {
            "text/plain": [
              "['Lam Dong', 'Long An', 'Tien Giang', 'Can Tho']"
            ]
          },
          "metadata": {},
          "execution_count": 88
        }
      ]
    },
    {
      "cell_type": "code",
      "source": [
        "nx.shortest_path_length(g, 'Lam Dong', 'Ba Ria Vung Tau') "
      ],
      "metadata": {
        "colab": {
          "base_uri": "https://localhost:8080/"
        },
        "id": "d3_tHWDACzkE",
        "outputId": "ec8ab237-f9c5-42e0-9835-c2b1d908135b"
      },
      "execution_count": 89,
      "outputs": [
        {
          "output_type": "execute_result",
          "data": {
            "text/plain": [
              "2"
            ]
          },
          "metadata": {},
          "execution_count": 89
        }
      ]
    },
    {
      "cell_type": "code",
      "source": [
        " nx.shortest_path_length(g, 'Dong Nai', 'Ba Ria Vung Tau') "
      ],
      "metadata": {
        "colab": {
          "base_uri": "https://localhost:8080/"
        },
        "id": "dFhC98-tDRJY",
        "outputId": "6ba42ce1-53a6-47d8-80db-dbea0eeb49ba"
      },
      "execution_count": 90,
      "outputs": [
        {
          "output_type": "execute_result",
          "data": {
            "text/plain": [
              "1"
            ]
          },
          "metadata": {},
          "execution_count": 90
        }
      ]
    },
    {
      "cell_type": "code",
      "source": [
        "nx.shortest_path_length(g, 'Lam Dong', 'Long An') "
      ],
      "metadata": {
        "colab": {
          "base_uri": "https://localhost:8080/"
        },
        "id": "P6mfj2GiDTv8",
        "outputId": "1083934b-3654-47d7-9e57-5f55d0afe224"
      },
      "execution_count": 91,
      "outputs": [
        {
          "output_type": "execute_result",
          "data": {
            "text/plain": [
              "1"
            ]
          },
          "metadata": {},
          "execution_count": 91
        }
      ]
    }
  ]
}