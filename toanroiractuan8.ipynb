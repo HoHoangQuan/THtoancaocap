{
  "nbformat": 4,
  "nbformat_minor": 0,
  "metadata": {
    "colab": {
      "name": " toanroiractuan8.ipynb",
      "provenance": [],
      "authorship_tag": "ABX9TyNC4o81SLu2OcKypJZvMSSd",
      "include_colab_link": true
    },
    "kernelspec": {
      "name": "python3",
      "display_name": "Python 3"
    },
    "language_info": {
      "name": "python"
    }
  },
  "cells": [
    {
      "cell_type": "markdown",
      "metadata": {
        "id": "view-in-github",
        "colab_type": "text"
      },
      "source": [
        "<a href=\"https://colab.research.google.com/github/HoHoangQuan/THtoancaocap/blob/main/toanroiractuan8.ipynb\" target=\"_parent\"><img src=\"https://colab.research.google.com/assets/colab-badge.svg\" alt=\"Open In Colab\"/></a>"
      ]
    },
    {
      "cell_type": "code",
      "execution_count": 2,
      "metadata": {
        "id": "Wp4kn0ppHIux"
      },
      "outputs": [],
      "source": [
        "import networkx as nx \n",
        "g = nx.Graph() \n",
        "g.add_node('TP.HCM') \n",
        "g.add_node('Dong Nai') \n",
        "g.add_node('Ba Ria Vung Tau') \n",
        "g.add_node('Lam Dong') \n",
        "g.add_node('Can Tho') \n",
        "g.add_node('Long An') \n",
        "g.add_node('Tien Giang') \n",
        "g.add_edge('TP.HCM', 'Dong Nai', weight = 50) \n",
        "g.add_edge('TP.HCM', 'Ba Ria Vung Tau', weight = 120) \n",
        "g.add_edge('TP.HCM', 'Long An', weight = 40) \n",
        "g.add_edge('Dong Nai', 'Lam Dong', weight = 230) \n",
        "g.add_edge('Dong Nai', 'Ba Ria Vung Tau', weight = 60) \n",
        "g.add_edge('Tien Giang', '29') # lệnh gõ nhầm \n",
        "g.remove_edge('Tien Giang', '29') # xóa lệnh gõ nhầm \n",
        "g.add_edge('Tien Giang', 'Long An') #lệnh gõ thiếu chiều dài (trọng số, weight) \n",
        "g.remove_edge('Tien Giang', 'Long An') # xóa lệnh gõ thiếu chiều dài \n",
        "g.add_edge('Tien Giang', 'Long An', weight = 29) \n",
        "g.add_edge('Tien Giang', 'Can Tho', weight = 200) \n",
        "g.add_edge('Long An', 'Dong Nai', weight = 70)\n",
        "#g.remove_edge('Tien Giang', '29') "
      ]
    },
    {
      "cell_type": "code",
      "source": [
        "g.nodes() "
      ],
      "metadata": {
        "colab": {
          "base_uri": "https://localhost:8080/"
        },
        "id": "-ISO82SOILOt",
        "outputId": "1f2a0ae5-4f6d-4cf8-f4c5-f046cfa4b1b7"
      },
      "execution_count": 3,
      "outputs": [
        {
          "output_type": "execute_result",
          "data": {
            "text/plain": [
              "NodeView(('TP.HCM', 'Dong Nai', 'Ba Ria Vung Tau', 'Lam Dong', 'Can Tho', 'Long An', 'Tien Giang', '29'))"
            ]
          },
          "metadata": {},
          "execution_count": 3
        }
      ]
    },
    {
      "cell_type": "code",
      "source": [
        "g.remove_node('29')\n",
        "g.nodes() "
      ],
      "metadata": {
        "colab": {
          "base_uri": "https://localhost:8080/"
        },
        "id": "PgVE01IiINX4",
        "outputId": "fa0a2020-92cb-4628-de50-20a462ff38bc"
      },
      "execution_count": 4,
      "outputs": [
        {
          "output_type": "execute_result",
          "data": {
            "text/plain": [
              "NodeView(('TP.HCM', 'Dong Nai', 'Ba Ria Vung Tau', 'Lam Dong', 'Can Tho', 'Long An', 'Tien Giang'))"
            ]
          },
          "metadata": {},
          "execution_count": 4
        }
      ]
    },
    {
      "cell_type": "code",
      "source": [
        "sorted(g.edges(data=True))"
      ],
      "metadata": {
        "colab": {
          "base_uri": "https://localhost:8080/"
        },
        "id": "4v83uG4UIUXC",
        "outputId": "e8ef3a5e-1760-4d00-ea46-0e35b4fa377c"
      },
      "execution_count": 5,
      "outputs": [
        {
          "output_type": "execute_result",
          "data": {
            "text/plain": [
              "[('Can Tho', 'Tien Giang', {'weight': 200}),\n",
              " ('Dong Nai', 'Ba Ria Vung Tau', {'weight': 60}),\n",
              " ('Dong Nai', 'Lam Dong', {'weight': 230}),\n",
              " ('Dong Nai', 'Long An', {'weight': 70}),\n",
              " ('Long An', 'Tien Giang', {'weight': 29}),\n",
              " ('TP.HCM', 'Ba Ria Vung Tau', {'weight': 120}),\n",
              " ('TP.HCM', 'Dong Nai', {'weight': 50}),\n",
              " ('TP.HCM', 'Long An', {'weight': 40})]"
            ]
          },
          "metadata": {},
          "execution_count": 5
        }
      ]
    },
    {
      "cell_type": "code",
      "source": [
        "T = nx.maximum_spanning_tree(g)"
      ],
      "metadata": {
        "id": "tq2WuPhQIYlZ"
      },
      "execution_count": 6,
      "outputs": []
    },
    {
      "cell_type": "code",
      "source": [
        "sorted(T.edges(data=True)) "
      ],
      "metadata": {
        "colab": {
          "base_uri": "https://localhost:8080/"
        },
        "id": "unzVLLU-IbBt",
        "outputId": "a04da99a-82c5-4b09-f975-9caf22135fea"
      },
      "execution_count": 7,
      "outputs": [
        {
          "output_type": "execute_result",
          "data": {
            "text/plain": [
              "[('Can Tho', 'Tien Giang', {'weight': 200}),\n",
              " ('Dong Nai', 'Ba Ria Vung Tau', {'weight': 60}),\n",
              " ('Dong Nai', 'Lam Dong', {'weight': 230}),\n",
              " ('Dong Nai', 'Long An', {'weight': 70}),\n",
              " ('Long An', 'Tien Giang', {'weight': 29}),\n",
              " ('TP.HCM', 'Ba Ria Vung Tau', {'weight': 120})]"
            ]
          },
          "metadata": {},
          "execution_count": 7
        }
      ]
    },
    {
      "cell_type": "code",
      "source": [
        "nx.pagerank(g, 0.85)"
      ],
      "metadata": {
        "colab": {
          "base_uri": "https://localhost:8080/"
        },
        "id": "y4QsS5ieIeud",
        "outputId": "06261f06-8d7c-44c8-d79a-2f52c1f2117d"
      },
      "execution_count": 8,
      "outputs": [
        {
          "output_type": "execute_result",
          "data": {
            "text/plain": [
              "{'Ba Ria Vung Tau': 0.11598739208998517,\n",
              " 'Can Tho': 0.13462563996889282,\n",
              " 'Dong Nai': 0.23515074008532225,\n",
              " 'Lam Dong': 0.13355497428234894,\n",
              " 'Long An': 0.09373705822226845,\n",
              " 'TP.HCM': 0.1344588073814972,\n",
              " 'Tien Giang': 0.15248538796968536}"
            ]
          },
          "metadata": {},
          "execution_count": 8
        }
      ]
    },
    {
      "cell_type": "code",
      "source": [
        "nx.min_edge_cover(g) "
      ],
      "metadata": {
        "colab": {
          "base_uri": "https://localhost:8080/"
        },
        "id": "KMwQjIXiIkww",
        "outputId": "ddd309dc-cd7b-4ca4-ec62-0d7cbecb460f"
      },
      "execution_count": 9,
      "outputs": [
        {
          "output_type": "execute_result",
          "data": {
            "text/plain": [
              "{('Ba Ria Vung Tau', 'TP.HCM'),\n",
              " ('Can Tho', 'Tien Giang'),\n",
              " ('Lam Dong', 'Dong Nai'),\n",
              " ('Long An', 'TP.HCM'),\n",
              " ('TP.HCM', 'Long An')}"
            ]
          },
          "metadata": {},
          "execution_count": 9
        }
      ]
    },
    {
      "cell_type": "code",
      "source": [
        "import math \n",
        "import numpy as np "
      ],
      "metadata": {
        "id": "MhgIdAo8OWHt"
      },
      "execution_count": 27,
      "outputs": []
    },
    {
      "cell_type": "code",
      "source": [
        "def tinh_huong(dem,m_dong,n_cot,vitri):\n",
        "  huong=np.zeros((m_dong,n_cot))\n",
        "  for dong in range(m_dong):\n",
        "    for cot in range(n_cot):\n",
        "      xx,yy,mymax=0,0,0\n",
        "      for i in range(-1,2):\n",
        "        for j in range(-1,2):\n",
        "          if(i*i+j>0)and\\\n",
        "           (dong+i>=0) and (dong+i<m_dong) and \\\n",
        "           (cot+j>=0)and(cot+j<n_cot)and\\\n",
        "      (mymax*math.sqrt(i*i+j)<dem[dong][cot]-dem[dong+i][cot+j]):\n",
        "              mymax=dem[dong][cot]-dem[dong+i][cot+j]\n",
        "              xx=i\n",
        "              yy=j\n",
        "      huong[dong][cot]=vitri[xx+1][yy+1]\n",
        "  return huong \n",
        "\n",
        "def tinh_tichluy(p,q,m_dong,n_cot):\n",
        "  for i in range(-1,2):\n",
        "    for j in range(-1,2):\n",
        "      if(i*i+j*j>0)and\\\n",
        "      (p+i>=0) and (p+i<m_dong)and\\\n",
        "      (q+j>=0) and (q+j<n_cot)and\\\n",
        "      (huong[p+i][q+j]==vitri[-(i-1)][-(j-1)]):\n",
        "          t1.append(1)\n",
        "          tinh_tichluy(p+i,q+j,m_dong,n_cot)\n",
        "  return len(t1)\n",
        "vitri=np.array([[32,64,128],[16,0,1],[8,4,2]])\n",
        "dem = np.array([ [78,72,69,71,58,49], \n",
        "                 [74,67,56,49,46,50], \n",
        "                 [69,53,44,37,38,48], \n",
        "                 [64,58,55,22,31,24], \n",
        "                 [68,61,47,21,16,19], \n",
        "                 [74,53,34,12,11,12] ]) \n",
        "m_dong = dem.shape[0] #6 \n",
        "n_cot = dem.shape[1] #6 \n",
        "tichluy = np.zeros((m_dong, n_cot)) #[ [0 for j in range(n_cot)] for i in range(m_dong)] \n",
        "huong = tinh_huong(dem, 6,6, vitri) \n",
        "for i in range(m_dong): \n",
        " for j in range(n_cot): \n",
        "  t1 = [] \n",
        "  tichluy[i][j] = tinh_tichluy(i, j, m_dong, n_cot) \n",
        "print (dem) \n",
        "print (huong) \n",
        "print (tichluy)\n",
        "\n"
      ],
      "metadata": {
        "colab": {
          "base_uri": "https://localhost:8080/"
        },
        "id": "Dok4Ci0TOro8",
        "outputId": "e7a6b254-7eb2-4518-f316-aeaec2739140"
      },
      "execution_count": 41,
      "outputs": [
        {
          "output_type": "stream",
          "name": "stdout",
          "text": [
            "[[78 72 69 71 58 49]\n",
            " [74 67 56 49 46 50]\n",
            " [69 53 44 37 38 48]\n",
            " [64 58 55 22 31 24]\n",
            " [68 61 47 21 16 19]\n",
            " [74 53 34 12 11 12]]\n",
            "[[  2.   2.   2.   4.   4.   0.]\n",
            " [  2.   2.   2.   4.   4.   4.]\n",
            " [  1.   1.   2.   4.   2.   4.]\n",
            " [128. 128.   1.   2.   4.   4.]\n",
            " [  2.   2.   1.   4.   4.   4.]\n",
            " [  1.   1.   1.   1.   0.   0.]]\n",
            "[[ 0.  0.  0.  0.  0.  0.]\n",
            " [ 0.  1.  1.  2.  1.  0.]\n",
            " [ 0.  3.  7.  5.  2.  1.]\n",
            " [ 0.  0.  0. 15.  0.  5.]\n",
            " [ 0.  0.  0.  1. 17.  6.]\n",
            " [ 0.  2.  4.  7. 26.  7.]]\n"
          ]
        }
      ]
    },
    {
      "cell_type": "markdown",
      "source": [
        ""
      ],
      "metadata": {
        "id": "tv1n1VETSC5l"
      }
    }
  ]
}